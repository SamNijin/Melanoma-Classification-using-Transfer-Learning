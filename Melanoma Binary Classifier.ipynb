{
 "cells": [
  {
   "cell_type": "code",
   "execution_count": 1,
   "id": "ee8f44ea-f5e8-41fa-a979-2b75905642b6",
   "metadata": {},
   "outputs": [],
   "source": [
    "from tensorflow.keras.layers import Input, Conv2D, Dropout, Flatten, Dense, MaxPool2D, Activation, BatchNormalization\n",
    "from tensorflow.keras.preprocessing.image import ImageDataGenerator\n",
    "from sklearn.model_selection import train_test_split\n",
    "from tensorflow.keras.models import Sequential\n",
    "from keras.utils import to_categorical\n",
    "import matplotlib.pyplot as plt\n",
    "import seaborn as sns\n",
    "import pandas as pd\n",
    "import numpy as np\n",
    "import cv2 as cv\n",
    "import random\n",
    "import os"
   ]
  },
  {
   "cell_type": "code",
   "execution_count": 2,
   "id": "1a867504-acbb-44cb-97f0-0c963465db12",
   "metadata": {},
   "outputs": [],
   "source": [
    "def filename_extractor(path):\n",
    "    del filenames[:]\n",
    "    for i in os.listdir(path+'Melanoma'):\n",
    "        filenames.append('Melanoma/' + i)\n",
    "    for i in os.listdir(path+'NotMelanoma'):\n",
    "        filenames.append('NotMelanoma/' + i)"
   ]
  },
  {
   "cell_type": "code",
   "execution_count": 3,
   "id": "29b71e0a-f22c-4f1d-a448-39aa84850ddf",
   "metadata": {},
   "outputs": [],
   "source": [
    "Image_Width=600\n",
    "Image_Height=400\n",
    "Image_Size=(Image_Width,Image_Height)\n",
    "Image_Channels=3\n",
    "batch_size = 32\n",
    "filenames = []"
   ]
  },
  {
   "cell_type": "code",
   "execution_count": 4,
   "id": "05dfdd00-f0c4-4a93-899f-2b4b8ac7e922",
   "metadata": {},
   "outputs": [],
   "source": [
    "train_images = []\n",
    "train_labels = []\n",
    "train_path = './DermMel/train_sep/'\n",
    "\n",
    "for root, dirs, files in os.walk(train_path):\n",
    "\n",
    "    for name in dirs:\n",
    "        direct = os.path.join(train_path, name)\n",
    "        for filename in os.listdir(direct):\n",
    "            img = cv.imread(os.path.join(train_path + \"/\" + name, filename))\n",
    "            train_labels.append(name)\n",
    "            img = cv.resize(img, Image_Size)\n",
    "            train_images.append(img)"
   ]
  },
  {
   "cell_type": "markdown",
   "id": "773075f8-794a-4ed2-9af7-fc97556a19a4",
   "metadata": {},
   "source": [
    "### Train Data"
   ]
  },
  {
   "cell_type": "code",
   "execution_count": 5,
   "id": "1b18a303-abda-4a80-babd-ae772bebc8b2",
   "metadata": {},
   "outputs": [
    {
     "data": {
      "text/html": [
       "<div>\n",
       "<style scoped>\n",
       "    .dataframe tbody tr th:only-of-type {\n",
       "        vertical-align: middle;\n",
       "    }\n",
       "\n",
       "    .dataframe tbody tr th {\n",
       "        vertical-align: top;\n",
       "    }\n",
       "\n",
       "    .dataframe thead th {\n",
       "        text-align: right;\n",
       "    }\n",
       "</style>\n",
       "<table border=\"1\" class=\"dataframe\">\n",
       "  <thead>\n",
       "    <tr style=\"text-align: right;\">\n",
       "      <th></th>\n",
       "      <th>filename</th>\n",
       "      <th>category</th>\n",
       "    </tr>\n",
       "  </thead>\n",
       "  <tbody>\n",
       "    <tr>\n",
       "      <th>0</th>\n",
       "      <td>Melanoma/AUGmented_0_1000.jpeg</td>\n",
       "      <td>Melanoma</td>\n",
       "    </tr>\n",
       "    <tr>\n",
       "      <th>1</th>\n",
       "      <td>Melanoma/AUGmented_0_1007.jpeg</td>\n",
       "      <td>Melanoma</td>\n",
       "    </tr>\n",
       "    <tr>\n",
       "      <th>2</th>\n",
       "      <td>Melanoma/AUGmented_0_1009.jpeg</td>\n",
       "      <td>Melanoma</td>\n",
       "    </tr>\n",
       "    <tr>\n",
       "      <th>3</th>\n",
       "      <td>Melanoma/AUGmented_0_1022.jpeg</td>\n",
       "      <td>Melanoma</td>\n",
       "    </tr>\n",
       "    <tr>\n",
       "      <th>4</th>\n",
       "      <td>Melanoma/AUGmented_0_1029.jpeg</td>\n",
       "      <td>Melanoma</td>\n",
       "    </tr>\n",
       "    <tr>\n",
       "      <th>...</th>\n",
       "      <td>...</td>\n",
       "      <td>...</td>\n",
       "    </tr>\n",
       "    <tr>\n",
       "      <th>10677</th>\n",
       "      <td>NotMelanoma/ISIC_0034314.jpg</td>\n",
       "      <td>NotMelanoma</td>\n",
       "    </tr>\n",
       "    <tr>\n",
       "      <th>10678</th>\n",
       "      <td>NotMelanoma/ISIC_0034315.jpg</td>\n",
       "      <td>NotMelanoma</td>\n",
       "    </tr>\n",
       "    <tr>\n",
       "      <th>10679</th>\n",
       "      <td>NotMelanoma/ISIC_0034318.jpg</td>\n",
       "      <td>NotMelanoma</td>\n",
       "    </tr>\n",
       "    <tr>\n",
       "      <th>10680</th>\n",
       "      <td>NotMelanoma/ISIC_0034319.jpg</td>\n",
       "      <td>NotMelanoma</td>\n",
       "    </tr>\n",
       "    <tr>\n",
       "      <th>10681</th>\n",
       "      <td>NotMelanoma/ISIC_0034320.jpg</td>\n",
       "      <td>NotMelanoma</td>\n",
       "    </tr>\n",
       "  </tbody>\n",
       "</table>\n",
       "<p>10682 rows × 2 columns</p>\n",
       "</div>"
      ],
      "text/plain": [
       "                             filename     category\n",
       "0      Melanoma/AUGmented_0_1000.jpeg     Melanoma\n",
       "1      Melanoma/AUGmented_0_1007.jpeg     Melanoma\n",
       "2      Melanoma/AUGmented_0_1009.jpeg     Melanoma\n",
       "3      Melanoma/AUGmented_0_1022.jpeg     Melanoma\n",
       "4      Melanoma/AUGmented_0_1029.jpeg     Melanoma\n",
       "...                               ...          ...\n",
       "10677    NotMelanoma/ISIC_0034314.jpg  NotMelanoma\n",
       "10678    NotMelanoma/ISIC_0034315.jpg  NotMelanoma\n",
       "10679    NotMelanoma/ISIC_0034318.jpg  NotMelanoma\n",
       "10680    NotMelanoma/ISIC_0034319.jpg  NotMelanoma\n",
       "10681    NotMelanoma/ISIC_0034320.jpg  NotMelanoma\n",
       "\n",
       "[10682 rows x 2 columns]"
      ]
     },
     "execution_count": 5,
     "metadata": {},
     "output_type": "execute_result"
    }
   ],
   "source": [
    "filename_extractor(train_path)\n",
    "train_df = pd.DataFrame({\n",
    "    'filename' : filenames,\n",
    "    'category' : train_labels\n",
    "})\n",
    "train_df"
   ]
  },
  {
   "cell_type": "code",
   "execution_count": 6,
   "id": "71fdcd6e-b107-429c-8c5f-0f3bba960530",
   "metadata": {},
   "outputs": [
    {
     "data": {
      "image/png": "[encoded data removed]",
      "text/plain": [
       "<Figure size 640x480 with 1 Axes>"
      ]
     },
     "metadata": {},
     "output_type": "display_data"
    }
   ],
   "source": [
    "sns.countplot(data=train_df, y = 'category', width=0.3, palette = 'Set2')\n",
    "plt.title('Train Data', weight='black')\n",
    "plt.show()"
   ]
  },
  {
   "cell_type": "code",
   "execution_count": 7,
   "id": "1cce7c18-c7bb-43bc-a836-defb4bc45df9",
   "metadata": {},
   "outputs": [],
   "source": [
    "test_images = []\n",
    "test_labels = []\n",
    "test_path = './DermMel/test/'\n",
    "\n",
    "for root, dirs, files in os.walk(test_path):\n",
    "\n",
    "    for name in dirs:\n",
    "        direct = os.path.join(test_path, name)\n",
    "        for filename in os.listdir(direct):\n",
    "            img = cv.imread(os.path.join(test_path + \"/\" + name, filename))\n",
    "            test_labels.append(name)\n",
    "            img = cv.resize(img, Image_Size)\n",
    "            test_images.append(img)"
   ]
  },
  {
   "cell_type": "markdown",
   "id": "180f5470-c370-43d6-a0b0-35b1568f8797",
   "metadata": {},
   "source": [
    "### Test Data"
   ]
  },
  {
   "cell_type": "code",
   "execution_count": 8,
   "id": "cfeb6151-350c-476a-bbd9-a02e570a3d7c",
   "metadata": {},
   "outputs": [
    {
     "data": {
      "text/html": [
       "<div>\n",
       "<style scoped>\n",
       "    .dataframe tbody tr th:only-of-type {\n",
       "        vertical-align: middle;\n",
       "    }\n",
       "\n",
       "    .dataframe tbody tr th {\n",
       "        vertical-align: top;\n",
       "    }\n",
       "\n",
       "    .dataframe thead th {\n",
       "        text-align: right;\n",
       "    }\n",
       "</style>\n",
       "<table border=\"1\" class=\"dataframe\">\n",
       "  <thead>\n",
       "    <tr style=\"text-align: right;\">\n",
       "      <th></th>\n",
       "      <th>filename</th>\n",
       "      <th>category</th>\n",
       "    </tr>\n",
       "  </thead>\n",
       "  <tbody>\n",
       "    <tr>\n",
       "      <th>0</th>\n",
       "      <td>Melanoma/AUGmented_0_1015.jpeg</td>\n",
       "      <td>Melanoma</td>\n",
       "    </tr>\n",
       "    <tr>\n",
       "      <th>1</th>\n",
       "      <td>Melanoma/AUGmented_0_1036.jpeg</td>\n",
       "      <td>Melanoma</td>\n",
       "    </tr>\n",
       "    <tr>\n",
       "      <th>2</th>\n",
       "      <td>Melanoma/AUGmented_0_1093.jpeg</td>\n",
       "      <td>Melanoma</td>\n",
       "    </tr>\n",
       "    <tr>\n",
       "      <th>3</th>\n",
       "      <td>Melanoma/AUGmented_0_1110.jpeg</td>\n",
       "      <td>Melanoma</td>\n",
       "    </tr>\n",
       "    <tr>\n",
       "      <th>4</th>\n",
       "      <td>Melanoma/AUGmented_0_1114.jpeg</td>\n",
       "      <td>Melanoma</td>\n",
       "    </tr>\n",
       "    <tr>\n",
       "      <th>...</th>\n",
       "      <td>...</td>\n",
       "      <td>...</td>\n",
       "    </tr>\n",
       "    <tr>\n",
       "      <th>3556</th>\n",
       "      <td>NotMelanoma/ISIC_0034257.jpg</td>\n",
       "      <td>NotMelanoma</td>\n",
       "    </tr>\n",
       "    <tr>\n",
       "      <th>3557</th>\n",
       "      <td>NotMelanoma/ISIC_0034260.jpg</td>\n",
       "      <td>NotMelanoma</td>\n",
       "    </tr>\n",
       "    <tr>\n",
       "      <th>3558</th>\n",
       "      <td>NotMelanoma/ISIC_0034278.jpg</td>\n",
       "      <td>NotMelanoma</td>\n",
       "    </tr>\n",
       "    <tr>\n",
       "      <th>3559</th>\n",
       "      <td>NotMelanoma/ISIC_0034309.jpg</td>\n",
       "      <td>NotMelanoma</td>\n",
       "    </tr>\n",
       "    <tr>\n",
       "      <th>3560</th>\n",
       "      <td>NotMelanoma/ISIC_0034311.jpg</td>\n",
       "      <td>NotMelanoma</td>\n",
       "    </tr>\n",
       "  </tbody>\n",
       "</table>\n",
       "<p>3561 rows × 2 columns</p>\n",
       "</div>"
      ],
      "text/plain": [
       "                            filename     category\n",
       "0     Melanoma/AUGmented_0_1015.jpeg     Melanoma\n",
       "1     Melanoma/AUGmented_0_1036.jpeg     Melanoma\n",
       "2     Melanoma/AUGmented_0_1093.jpeg     Melanoma\n",
       "3     Melanoma/AUGmented_0_1110.jpeg     Melanoma\n",
       "4     Melanoma/AUGmented_0_1114.jpeg     Melanoma\n",
       "...                              ...          ...\n",
       "3556    NotMelanoma/ISIC_0034257.jpg  NotMelanoma\n",
       "3557    NotMelanoma/ISIC_0034260.jpg  NotMelanoma\n",
       "3558    NotMelanoma/ISIC_0034278.jpg  NotMelanoma\n",
       "3559    NotMelanoma/ISIC_0034309.jpg  NotMelanoma\n",
       "3560    NotMelanoma/ISIC_0034311.jpg  NotMelanoma\n",
       "\n",
       "[3561 rows x 2 columns]"
      ]
     },
     "execution_count": 8,
     "metadata": {},
     "output_type": "execute_result"
    }
   ],
   "source": [
    "filename_extractor(test_path)\n",
    "test_df = pd.DataFrame({\n",
    "    'filename' : filenames,\n",
    "    'category' : test_labels\n",
    "})\n",
    "test_df"
   ]
  },
  {
   "cell_type": "code",
   "execution_count": 9,
   "id": "3be60575-7609-4bb8-9a7f-9253ef1e04a6",
   "metadata": {},
   "outputs": [
    {
     "data": {
      "image/png": "[encoded data removed]",
      "text/plain": [
       "<Figure size 640x480 with 1 Axes>"
      ]
     },
     "metadata": {},
     "output_type": "display_data"
    }
   ],
   "source": [
    "sns.countplot(data=test_df, y = 'category', width=0.3, palette = 'Set2')\n",
    "plt.title('Test Data', weight='black')\n",
    "plt.show()"
   ]
  },
  {
   "cell_type": "code",
   "execution_count": 10,
   "id": "f5ebba2a-5c12-4e1d-9291-769b616dbaf0",
   "metadata": {},
   "outputs": [],
   "source": [
    "validation_images = []\n",
    "validation_labels = []\n",
    "validation_path = './DermMel/valid/'\n",
    "\n",
    "for root, dirs, files in os.walk(validation_path):\n",
    "\n",
    "    for name in dirs:\n",
    "        direct = os.path.join(validation_path, name)\n",
    "        for filename in os.listdir(direct):\n",
    "            img = cv.imread(os.path.join(validation_path + \"/\" + name, filename))\n",
    "            validation_labels.append(name)\n",
    "            img = cv.resize(img, Image_Size)\n",
    "            validation_images.append(img)"
   ]
  },
  {
   "cell_type": "markdown",
   "id": "8931d92a-d075-46cd-8c2d-af1967ec4865",
   "metadata": {},
   "source": [
    "### Validation Data"
   ]
  },
  {
   "cell_type": "code",
   "execution_count": 11,
   "id": "97941fd9-7fdc-42f6-b6c6-7270245ff19a",
   "metadata": {},
   "outputs": [
    {
     "data": {
      "text/html": [
       "<div>\n",
       "<style scoped>\n",
       "    .dataframe tbody tr th:only-of-type {\n",
       "        vertical-align: middle;\n",
       "    }\n",
       "\n",
       "    .dataframe tbody tr th {\n",
       "        vertical-align: top;\n",
       "    }\n",
       "\n",
       "    .dataframe thead th {\n",
       "        text-align: right;\n",
       "    }\n",
       "</style>\n",
       "<table border=\"1\" class=\"dataframe\">\n",
       "  <thead>\n",
       "    <tr style=\"text-align: right;\">\n",
       "      <th></th>\n",
       "      <th>filename</th>\n",
       "      <th>category</th>\n",
       "    </tr>\n",
       "  </thead>\n",
       "  <tbody>\n",
       "    <tr>\n",
       "      <th>0</th>\n",
       "      <td>Melanoma/AUGmented_0_1006.jpeg</td>\n",
       "      <td>Melanoma</td>\n",
       "    </tr>\n",
       "    <tr>\n",
       "      <th>1</th>\n",
       "      <td>Melanoma/AUGmented_0_1058.jpeg</td>\n",
       "      <td>Melanoma</td>\n",
       "    </tr>\n",
       "    <tr>\n",
       "      <th>2</th>\n",
       "      <td>Melanoma/AUGmented_0_110.jpeg</td>\n",
       "      <td>Melanoma</td>\n",
       "    </tr>\n",
       "    <tr>\n",
       "      <th>3</th>\n",
       "      <td>Melanoma/AUGmented_0_1108.jpeg</td>\n",
       "      <td>Melanoma</td>\n",
       "    </tr>\n",
       "    <tr>\n",
       "      <th>4</th>\n",
       "      <td>Melanoma/AUGmented_0_1140.jpeg</td>\n",
       "      <td>Melanoma</td>\n",
       "    </tr>\n",
       "    <tr>\n",
       "      <th>...</th>\n",
       "      <td>...</td>\n",
       "      <td>...</td>\n",
       "    </tr>\n",
       "    <tr>\n",
       "      <th>3557</th>\n",
       "      <td>NotMelanoma/ISIC_0034292.jpg</td>\n",
       "      <td>NotMelanoma</td>\n",
       "    </tr>\n",
       "    <tr>\n",
       "      <th>3558</th>\n",
       "      <td>NotMelanoma/ISIC_0034297.jpg</td>\n",
       "      <td>NotMelanoma</td>\n",
       "    </tr>\n",
       "    <tr>\n",
       "      <th>3559</th>\n",
       "      <td>NotMelanoma/ISIC_0034305.jpg</td>\n",
       "      <td>NotMelanoma</td>\n",
       "    </tr>\n",
       "    <tr>\n",
       "      <th>3560</th>\n",
       "      <td>NotMelanoma/ISIC_0034308.jpg</td>\n",
       "      <td>NotMelanoma</td>\n",
       "    </tr>\n",
       "    <tr>\n",
       "      <th>3561</th>\n",
       "      <td>NotMelanoma/ISIC_0034310.jpg</td>\n",
       "      <td>NotMelanoma</td>\n",
       "    </tr>\n",
       "  </tbody>\n",
       "</table>\n",
       "<p>3562 rows × 2 columns</p>\n",
       "</div>"
      ],
      "text/plain": [
       "                            filename     category\n",
       "0     Melanoma/AUGmented_0_1006.jpeg     Melanoma\n",
       "1     Melanoma/AUGmented_0_1058.jpeg     Melanoma\n",
       "2      Melanoma/AUGmented_0_110.jpeg     Melanoma\n",
       "3     Melanoma/AUGmented_0_1108.jpeg     Melanoma\n",
       "4     Melanoma/AUGmented_0_1140.jpeg     Melanoma\n",
       "...                              ...          ...\n",
       "3557    NotMelanoma/ISIC_0034292.jpg  NotMelanoma\n",
       "3558    NotMelanoma/ISIC_0034297.jpg  NotMelanoma\n",
       "3559    NotMelanoma/ISIC_0034305.jpg  NotMelanoma\n",
       "3560    NotMelanoma/ISIC_0034308.jpg  NotMelanoma\n",
       "3561    NotMelanoma/ISIC_0034310.jpg  NotMelanoma\n",
       "\n",
       "[3562 rows x 2 columns]"
      ]
     },
     "execution_count": 11,
     "metadata": {},
     "output_type": "execute_result"
    }
   ],
   "source": [
    "filename_extractor(validation_path)\n",
    "val_df = pd.DataFrame({\n",
    "    'filename' : filenames,\n",
    "    'category' : validation_labels\n",
    "})\n",
    "val_df"
   ]
  },
  {
   "cell_type": "code",
   "execution_count": 12,
   "id": "2fe4926b-b001-453a-a1df-15a74913f95d",
   "metadata": {},
   "outputs": [
    {
     "data": {
      "image/png": "[encoded data removed]",
      "text/plain": [
       "<Figure size 640x480 with 1 Axes>"
      ]
     },
     "metadata": {},
     "output_type": "display_data"
    }
   ],
   "source": [
    "sns.countplot(data=test_df, y = 'category', width=0.3, palette = 'Set2')\n",
    "plt.title('Validation Data', weight='black')\n",
    "plt.show()"
   ]
  },
  {
   "cell_type": "code",
   "execution_count": 13,
   "id": "893e4fb6-4973-41a5-b961-e01a01b39003",
   "metadata": {},
   "outputs": [
    {
     "data": {
      "text/plain": [
       "'./DermMel/train_sep/'"
      ]
     },
     "execution_count": 13,
     "metadata": {},
     "output_type": "execute_result"
    }
   ],
   "source": [
    "train_path"
   ]
  },
  {
   "cell_type": "code",
   "execution_count": 14,
   "id": "ebc4bd7c-30ef-48a4-b5a3-a3396d230a37",
   "metadata": {},
   "outputs": [
    {
     "name": "stdout",
     "output_type": "stream",
     "text": [
      "Found 10682 non-validated image filenames belonging to 2 classes.\n"
     ]
    }
   ],
   "source": [
    "#preprocessing\n",
    "train_datag=ImageDataGenerator(rescale=1./ 255)#rescalling\n",
    "\n",
    "train_dataset=train_datag.flow_from_dataframe(dataframe=train_df, #data_frame of data\n",
    "                                              directory=train_path, #path\n",
    "                                              x_col=\"filename\",\n",
    "                                              y_col=\"category\",\n",
    "                                              target_size=Image_Size, #resize image it doesnt mean converting into 2d we can give only height and breadth\n",
    "                                              batch_size=32, #by default 32\n",
    "                                              validate_filenames= False\n",
    "                                             )"
   ]
  },
  {
   "cell_type": "code",
   "execution_count": 15,
   "id": "bfd291f7-1f13-471f-b60f-09d20abec34e",
   "metadata": {},
   "outputs": [
    {
     "name": "stdout",
     "output_type": "stream",
     "text": [
      "Found 3561 non-validated image filenames belonging to 2 classes.\n"
     ]
    }
   ],
   "source": [
    "test_datag=ImageDataGenerator(rescale=1./255)\n",
    "test_dataset=test_datag.flow_from_dataframe(dataframe=test_df,\n",
    "                                            directory=test_path,\n",
    "                                            x_col=\"filename\",\n",
    "                                            y_col=\"category\",\n",
    "                                            target_size=Image_Size,\n",
    "                                            batch_size=32,\n",
    "                                            validate_filenames=False\n",
    "                                           )"
   ]
  },
  {
   "cell_type": "code",
   "execution_count": 16,
   "id": "71eafdc1-e78a-4166-8959-cc734854bd54",
   "metadata": {},
   "outputs": [
    {
     "data": {
      "text/plain": [
       "{'Melanoma': 0, 'NotMelanoma': 1}"
      ]
     },
     "execution_count": 16,
     "metadata": {},
     "output_type": "execute_result"
    }
   ],
   "source": [
    "train_dataset.class_indices #gives the class of target values"
   ]
  },
  {
   "cell_type": "code",
   "execution_count": 17,
   "id": "8eed3cc2-4d2c-4354-8149-ce38abee03fa",
   "metadata": {},
   "outputs": [
    {
     "data": {
      "text/plain": [
       "(32, 600, 400, 3)"
      ]
     },
     "execution_count": 17,
     "metadata": {},
     "output_type": "execute_result"
    }
   ],
   "source": [
    "train_dataset[0][0].shape# 0 batch# 32 batches 128-h 128-w,3d image"
   ]
  },
  {
   "cell_type": "code",
   "execution_count": 18,
   "id": "fcd993bb-9788-47c7-8833-de7a3ff6f673",
   "metadata": {},
   "outputs": [
    {
     "name": "stdout",
     "output_type": "stream",
     "text": [
      "Model: \"sequential\"\n",
      "_________________________________________________________________\n",
      " Layer (type)                Output Shape              Param #   \n",
      "=================================================================\n",
      " conv2d (Conv2D)             (None, 598, 398, 16)      448       \n",
      "                                                                 \n",
      " batch_normalization (BatchN  (None, 598, 398, 16)     64        \n",
      " ormalization)                                                   \n",
      "                                                                 \n",
      " max_pooling2d (MaxPooling2D  (None, 299, 199, 16)     0         \n",
      " )                                                               \n",
      "                                                                 \n",
      " dropout (Dropout)           (None, 299, 199, 16)      0         \n",
      "                                                                 \n",
      " conv2d_1 (Conv2D)           (None, 297, 197, 32)      4640      \n",
      "                                                                 \n",
      " batch_normalization_1 (Batc  (None, 297, 197, 32)     128       \n",
      " hNormalization)                                                 \n",
      "                                                                 \n",
      " max_pooling2d_1 (MaxPooling  (None, 148, 98, 32)      0         \n",
      " 2D)                                                             \n",
      "                                                                 \n",
      " dropout_1 (Dropout)         (None, 148, 98, 32)       0         \n",
      "                                                                 \n",
      " conv2d_2 (Conv2D)           (None, 146, 96, 32)       9248      \n",
      "                                                                 \n",
      " batch_normalization_2 (Batc  (None, 146, 96, 32)      128       \n",
      " hNormalization)                                                 \n",
      "                                                                 \n",
      " max_pooling2d_2 (MaxPooling  (None, 73, 48, 32)       0         \n",
      " 2D)                                                             \n",
      "                                                                 \n",
      " dropout_2 (Dropout)         (None, 73, 48, 32)        0         \n",
      "                                                                 \n",
      " flatten (Flatten)           (None, 112128)            0         \n",
      "                                                                 \n",
      " dense (Dense)               (None, 64)                7176256   \n",
      "                                                                 \n",
      " dense_1 (Dense)             (None, 32)                2080      \n",
      "                                                                 \n",
      " dense_2 (Dense)             (None, 2)                 66        \n",
      "                                                                 \n",
      "=================================================================\n",
      "Total params: 7,193,058\n",
      "Trainable params: 7,192,898\n",
      "Non-trainable params: 160\n",
      "_________________________________________________________________\n"
     ]
    }
   ],
   "source": [
    "model=Sequential([\n",
    "    Input(shape=(Image_Width, Image_Height, Image_Channels)),\n",
    "    #con layer1\n",
    "    Conv2D(filters=16 ,kernel_size=(3,3), strides=(1,1), padding=\"valid\", activation=\"relu\"),#no.of kernels,k.size,strides,padding=same keeps input ouput same size valid means no padding\n",
    "    BatchNormalization(),\n",
    "    MaxPool2D(pool_size=(2,2)),\n",
    "    Dropout(0.2),\n",
    "    \n",
    "    #conv layer-2\n",
    "    Conv2D(filters=32, kernel_size=(3,3),activation=\"relu\"),\n",
    "    BatchNormalization(),\n",
    "    MaxPool2D(pool_size=(2,2)),\n",
    "    Dropout(0.2),\n",
    "    \n",
    "    \n",
    "    #conv layer-3\n",
    "    Conv2D(filters=32, kernel_size=(3,3),activation=\"relu\"),\n",
    "    BatchNormalization(),    \n",
    "    MaxPool2D(pool_size=(2,2)),\n",
    "    Dropout(0.2),\n",
    "    \n",
    "    #FLATTENNING\n",
    "    Flatten(),\n",
    "    \n",
    "    #NN\n",
    "    Dense(units=64,activation=\"relu\"),\n",
    "    Dense(units=32,activation=\"relu\"),\n",
    "    \n",
    "    \n",
    "    #output layer\n",
    "    Dense(units=2,activation=\"softmax\")\n",
    "    \n",
    "])\n",
    "model.summary()"
   ]
  },
  {
   "cell_type": "code",
   "execution_count": 19,
   "id": "2fe98ecd-30de-401b-8179-1bc0fd935557",
   "metadata": {},
   "outputs": [],
   "source": [
    "model.compile(loss=\"CategoricalCrossentropy\",optimizer=\"adam\",metrics=[\"accuracy\"])"
   ]
  },
  {
   "cell_type": "code",
   "execution_count": 20,
   "id": "233bb20d-e7e7-4b57-b598-f04ce74bd9ae",
   "metadata": {},
   "outputs": [
    {
     "name": "stdout",
     "output_type": "stream",
     "text": [
      "Epoch 1/30\n",
      "334/334 [==============================] - 717s 2s/step - loss: 1.1068 - accuracy: 0.7700 - val_loss: 5.2782 - val_accuracy: 0.5723\n",
      "Epoch 2/30\n",
      "334/334 [==============================] - 673s 2s/step - loss: 0.3015 - accuracy: 0.8778 - val_loss: 1.5469 - val_accuracy: 0.7633\n",
      "Epoch 3/30\n",
      "334/334 [==============================] - 672s 2s/step - loss: 0.2475 - accuracy: 0.9085 - val_loss: 6.2388 - val_accuracy: 0.6178\n",
      "Epoch 4/30\n",
      "334/334 [==============================] - 671s 2s/step - loss: 0.2109 - accuracy: 0.9145 - val_loss: 2.7894 - val_accuracy: 0.5611\n",
      "Epoch 5/30\n",
      "334/334 [==============================] - 673s 2s/step - loss: 0.2519 - accuracy: 0.9074 - val_loss: 1.2692 - val_accuracy: 0.8683\n",
      "Epoch 6/30\n",
      "334/334 [==============================] - 669s 2s/step - loss: 0.1833 - accuracy: 0.9274 - val_loss: 1.5537 - val_accuracy: 0.6917\n",
      "Epoch 7/30\n",
      "334/334 [==============================] - 670s 2s/step - loss: 0.1504 - accuracy: 0.9380 - val_loss: 0.7662 - val_accuracy: 0.8399\n",
      "Epoch 8/30\n",
      "334/334 [==============================] - 670s 2s/step - loss: 0.1325 - accuracy: 0.9455 - val_loss: 2.1846 - val_accuracy: 0.6773\n",
      "Epoch 9/30\n",
      "334/334 [==============================] - 672s 2s/step - loss: 0.1071 - accuracy: 0.9582 - val_loss: 1.9560 - val_accuracy: 0.8366\n",
      "Epoch 10/30\n",
      "334/334 [==============================] - 670s 2s/step - loss: 0.0856 - accuracy: 0.9659 - val_loss: 6.9345 - val_accuracy: 0.5114\n",
      "Epoch 11/30\n",
      "334/334 [==============================] - 671s 2s/step - loss: 0.0923 - accuracy: 0.9636 - val_loss: 2.3114 - val_accuracy: 0.7099\n",
      "Epoch 12/30\n",
      "334/334 [==============================] - 669s 2s/step - loss: 0.1673 - accuracy: 0.9447 - val_loss: 3.3070 - val_accuracy: 0.6911\n",
      "Epoch 13/30\n",
      "334/334 [==============================] - 669s 2s/step - loss: 0.0731 - accuracy: 0.9712 - val_loss: 1.2213 - val_accuracy: 0.7284\n",
      "Epoch 14/30\n",
      "334/334 [==============================] - 674s 2s/step - loss: 0.0508 - accuracy: 0.9812 - val_loss: 0.8034 - val_accuracy: 0.8298\n",
      "Epoch 15/30\n",
      "334/334 [==============================] - 680s 2s/step - loss: 0.1114 - accuracy: 0.9614 - val_loss: 1.5711 - val_accuracy: 0.6186\n",
      "Epoch 16/30\n",
      "334/334 [==============================] - 666s 2s/step - loss: 0.0547 - accuracy: 0.9813 - val_loss: 4.3396 - val_accuracy: 0.5490\n",
      "Epoch 17/30\n",
      "334/334 [==============================] - 665s 2s/step - loss: 0.0482 - accuracy: 0.9831 - val_loss: 0.3755 - val_accuracy: 0.8989\n",
      "Epoch 18/30\n",
      "334/334 [==============================] - 666s 2s/step - loss: 0.0339 - accuracy: 0.9883 - val_loss: 0.4652 - val_accuracy: 0.8517\n",
      "Epoch 19/30\n",
      "334/334 [==============================] - 670s 2s/step - loss: 0.0250 - accuracy: 0.9928 - val_loss: 0.4751 - val_accuracy: 0.9166\n",
      "Epoch 20/30\n",
      "334/334 [==============================] - 672s 2s/step - loss: 0.0246 - accuracy: 0.9905 - val_loss: 0.9105 - val_accuracy: 0.8557\n",
      "Epoch 21/30\n",
      "334/334 [==============================] - 679s 2s/step - loss: 0.0265 - accuracy: 0.9914 - val_loss: 0.4708 - val_accuracy: 0.9323\n",
      "Epoch 22/30\n",
      "334/334 [==============================] - 727s 2s/step - loss: 0.0150 - accuracy: 0.9952 - val_loss: 0.6781 - val_accuracy: 0.9079\n",
      "Epoch 23/30\n",
      "334/334 [==============================] - 731s 2s/step - loss: 0.0074 - accuracy: 0.9976 - val_loss: 0.7034 - val_accuracy: 0.8941\n",
      "Epoch 24/30\n",
      "334/334 [==============================] - 729s 2s/step - loss: 0.0621 - accuracy: 0.9837 - val_loss: 2.9812 - val_accuracy: 0.6349\n",
      "Epoch 25/30\n",
      "334/334 [==============================] - 727s 2s/step - loss: 0.0465 - accuracy: 0.9840 - val_loss: 2.4387 - val_accuracy: 0.7498\n",
      "Epoch 26/30\n",
      "334/334 [==============================] - 686s 2s/step - loss: 0.0226 - accuracy: 0.9925 - val_loss: 6.3559 - val_accuracy: 0.6184\n",
      "Epoch 27/30\n",
      "334/334 [==============================] - 689s 2s/step - loss: 0.0098 - accuracy: 0.9976 - val_loss: 0.5282 - val_accuracy: 0.9152\n",
      "Epoch 28/30\n",
      "334/334 [==============================] - 707s 2s/step - loss: 0.0053 - accuracy: 0.9984 - val_loss: 0.6198 - val_accuracy: 0.9292\n",
      "Epoch 29/30\n",
      "334/334 [==============================] - 717s 2s/step - loss: 0.0063 - accuracy: 0.9982 - val_loss: 0.5381 - val_accuracy: 0.9275\n",
      "Epoch 30/30\n",
      "334/334 [==============================] - 701s 2s/step - loss: 0.0736 - accuracy: 0.9818 - val_loss: 4.3959 - val_accuracy: 0.6203\n"
     ]
    },
    {
     "data": {
      "text/plain": [
       "<keras.callbacks.History at 0x1a1fbdbf8e0>"
      ]
     },
     "execution_count": 20,
     "metadata": {},
     "output_type": "execute_result"
    }
   ],
   "source": [
    "model.fit(train_dataset, epochs=30, validation_data=test_dataset)"
   ]
  },
  {
   "cell_type": "code",
   "execution_count": 21,
   "id": "8dde1fd3-1494-415a-acc6-fef6698116e7",
   "metadata": {},
   "outputs": [
    {
     "name": "stdout",
     "output_type": "stream",
     "text": [
      "Saved model to disk\n"
     ]
    }
   ],
   "source": [
    "model.save_weights(\"melanoma-classifier.h5\")\n",
    "print(\"Saved model to disk\")"
   ]
  }
 ],
 "metadata": {
  "kernelspec": {
   "display_name": "Python 3 (ipykernel)",
   "language": "python",
   "name": "python3"
  },
  "language_info": {
   "codemirror_mode": {
    "name": "ipython",
    "version": 3
   },
   "file_extension": ".py",
   "mimetype": "text/x-python",
   "name": "python",
   "nbconvert_exporter": "python",
   "pygments_lexer": "ipython3",
   "version": "3.9.13"
  }
 },
 "nbformat": 4,
 "nbformat_minor": 5
}
