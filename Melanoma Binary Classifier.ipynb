{
 "cells": [
  {
   "cell_type": "markdown",
   "id": "39157438-4875-4749-9b4d-e2fd7d04075f",
   "metadata": {},
   "source": [
    "#####"
   ]
  },
  {
   "cell_type": "markdown",
   "id": "2f94aadc-5295-4caf-b3a6-3aa42822cf16",
   "metadata": {},
   "source": [
    "<center> <h1 style='font-size:50px; text-align:center; font-weight:900'>Melanoma vs Normal Moles</h1> </center>"
   ]
  },
  {
   "cell_type": "markdown",
   "id": "d41c60b4-adb3-4890-8856-27df7fefdf12",
   "metadata": {},
   "source": [
    "###"
   ]
  },
  {
   "cell_type": "markdown",
   "id": "f10008d8-b0d7-42aa-a067-c5eb09d4298d",
   "metadata": {},
   "source": [
    "![melanoma](https://miiskin.com/wp-content/uploads/2019/09/how-melanoma-looks-like.jpg)"
   ]
  },
  {
   "cell_type": "markdown",
   "id": "f10c7fd3-6e82-4580-99bf-93e71cfd4ead",
   "metadata": {},
   "source": [
    "######"
   ]
  },
  {
   "cell_type": "markdown",
   "id": "9ef3f05e-9f75-4e1d-b393-ee93bb699b6a",
   "metadata": {},
   "source": [
    "# Introduction\n",
    "\n",
    "* Biomedical image processing has experienced dramatic growth and is an interdisciplinary research field attracting expertise from applied mathematics, computer science, engineering, statistics, physics, biology, and medicine.\n",
    "* Computer-aided diagnostic processing has already become an important part of the clinical routine.\n",
    "* Along with the onslaught of new high-tech developments and the use of different imaging modalities, additional challenges arise; for example, how to process and analyze large amounts of images to obtain high-quality information for disease diagnosis and treatment.\n",
    "* The main objective of this project is to provide an efficient way to diagonize between the melanoma moles and the normal moles.\n",
    "* This model is build on the VGG 16 architecture which contains sixteen layers which extracts the useful features from the image and thereby processes it."
   ]
  },
  {
   "cell_type": "markdown",
   "id": "1bdc8a23-0cab-4a4f-9b37-ebfceb7c0f6f",
   "metadata": {},
   "source": [
    "# Objective\n",
    "\n",
    "* To train CNN model which is capable of diagnosing melanoma vs non-melanoma cells.\n",
    "* To improve the accuracy by using transfer learning technique."
   ]
  },
  {
   "cell_type": "markdown",
   "id": "026d6e23-8b3d-4d24-af0b-761dff0257be",
   "metadata": {},
   "source": [
    "# Reason for the project"
   ]
  },
  {
   "cell_type": "markdown",
   "id": "471ad884-ddee-4f95-81d0-129f49e6b2d5",
   "metadata": {},
   "source": [
    "**Melanoma is a type of skin cancer that can be life-threatening if left untreated. It is essential to diagnose melanoma early to increase the chances of successful treatment and a positive outcome. Melanoma diagnosis is necessary because:**\n",
    "\n",
    "* **Early Detection:** Early detection of melanoma increases the chances of successful treatment. If diagnosed early, melanoma can often be removed through surgery or other treatments with a high success rate.\n",
    "\n",
    "* **Prognosis:** The stage of melanoma at the time of diagnosis is a significant factor in determining the prognosis or the likely course of the disease. The earlier the diagnosis, the more favorable the prognosis.\n",
    "\n",
    "* **Treatment Planning:** The diagnosis of melanoma helps medical professionals to determine the appropriate treatment plan for the patient. Treatment options may include surgery, radiation therapy, chemotherapy, immunotherapy, or a combination of these.\n",
    "\n",
    "* **Monitoring:** Even after successful treatment, patients with melanoma require ongoing monitoring to detect any recurrence or spread of the disease. Regular check-ups and monitoring are necessary to ensure that the patient remains cancer-free and to detect any signs of a recurrence or spread of the disease.\n",
    "\n",
    "In summary, the timely diagnosis of melanoma is crucial for the successful treatment and management of the disease. It is important to be aware of any changes in the skin, such as the appearance of new moles or changes in the size, shape, or color of existing moles, and to seek medical attention promptly if any concerns arise."
   ]
  },
  {
   "cell_type": "markdown",
   "id": "2362804b-fd60-45b6-ac77-0dee5c1f7dd7",
   "metadata": {},
   "source": [
    "### Importing the required libraries"
   ]
  },
  {
   "cell_type": "code",
   "execution_count": 1,
   "id": "ee8f44ea-f5e8-41fa-a979-2b75905642b6",
   "metadata": {},
   "outputs": [],
   "source": [
    "from tensorflow.keras.layers import Input, Dropout, Flatten, Dense, Activation, BatchNormalization, Dropout\n",
    "from tensorflow.keras.preprocessing.image import ImageDataGenerator\n",
    "from sklearn.metrics import classification_report, confusion_matrix\n",
    "from tensorflow.keras.metrics import Precision, Recall, Accuracy\n",
    "from tensorflow.keras.models import Sequential, load_model\n",
    "from sklearn.model_selection import train_test_split\n",
    "from tensorflow.keras.layers import Activation\n",
    "from keras.applications.vgg16 import VGG16\n",
    "from keras.utils import to_categorical\n",
    "from keras.optimizers import Adam\n",
    "import matplotlib.pyplot as plt\n",
    "import tensorflow as tf\n",
    "import seaborn as sns\n",
    "from PIL import Image\n",
    "import pandas as pd\n",
    "import numpy as np\n",
    "import cv2 as cv\n",
    "import random\n",
    "import os"
   ]
  },
  {
   "cell_type": "markdown",
   "id": "36537bc6-c3de-45df-9437-504d065b7481",
   "metadata": {},
   "source": [
    "### Enabling GPU for higher performance"
   ]
  },
  {
   "cell_type": "code",
   "execution_count": 2,
   "id": "1c8b2f84-3b00-41a2-b7c4-c420c23b9a48",
   "metadata": {
    "tags": []
   },
   "outputs": [
    {
     "name": "stdout",
     "output_type": "stream",
     "text": [
      "1 Physical GPUs, 1 Logical GPUs\n"
     ]
    }
   ],
   "source": [
    "gpus = tf.config.list_physical_devices('GPU')\n",
    "if gpus:\n",
    "  try:\n",
    "    # Currently, memory growth needs to be the same across GPUs\n",
    "    for gpu in gpus:\n",
    "      tf.config.experimental.set_memory_growth(gpu, True)\n",
    "    logical_gpus = tf.config.list_logical_devices('GPU')\n",
    "    print(len(gpus), \"Physical GPUs,\", len(logical_gpus), \"Logical GPUs\")\n",
    "  except RuntimeError as e:\n",
    "    # Memory growth must be set before GPUs have been initialized\n",
    "    print(e)"
   ]
  },
  {
   "cell_type": "markdown",
   "id": "539054f9-ca33-4a74-a062-febe744bab38",
   "metadata": {},
   "source": [
    "### Initializing the common variables and functions"
   ]
  },
  {
   "cell_type": "code",
   "execution_count": 3,
   "id": "c1bb84e8-cd96-4323-a498-0d801f616ff0",
   "metadata": {},
   "outputs": [],
   "source": [
    "# Used to resize the image to 224 x 224 size (resolution)\n",
    "\n",
    "def resize_image(path, save_path):\n",
    "\n",
    "    for root, dirs, files in os.walk(path):\n",
    "\n",
    "        for name in dirs:\n",
    "            \n",
    "            direct = os.path.join(path, name)\n",
    "            \n",
    "            for filename in os.listdir(direct):\n",
    "                \n",
    "                img = Image.open(os.path.join(path + \"/\" + name, filename))\n",
    "                img = img.resize((224,224))\n",
    "                \n",
    "                # images.append(img)\n",
    "                # filenames.append(name + '/' + filename)\n",
    "                if not os.path.exists(save_path):\n",
    "                    os.makedirs(save_path)\n",
    "                if not os.path.exists(save_path + name):\n",
    "                    os.makedirs(save_path + name)\n",
    "                img.save(save_path + name + '/' + filename)"
   ]
  },
  {
   "cell_type": "code",
   "execution_count": 4,
   "id": "7f5a5041-0ef8-413b-a5c5-20b8c90b70c6",
   "metadata": {},
   "outputs": [],
   "source": [
    "# Invoking the function\n",
    "\n",
    "# resize_image(path=train_path, save_path='./processed image/' )"
   ]
  },
  {
   "cell_type": "code",
   "execution_count": 5,
   "id": "29b71e0a-f22c-4f1d-a448-39aa84850ddf",
   "metadata": {},
   "outputs": [],
   "source": [
    "# Defining the common variables\n",
    "\n",
    "Image_Width=224\n",
    "Image_Height=224\n",
    "Image_Size=(Image_Width,Image_Height)\n",
    "Image_Channels=3\n",
    "batch_size = 32"
   ]
  },
  {
   "cell_type": "code",
   "execution_count": 6,
   "id": "91a5da18-3498-4f40-8ca0-a9a5f3b0c66b",
   "metadata": {},
   "outputs": [],
   "source": [
    "# Function to read the image from the given path and append the image, labels, filenames to the given array\n",
    "\n",
    "def read_image(path, images, labels, filenames):\n",
    "    \n",
    "    for root, dirs, files in os.walk(path):\n",
    "\n",
    "        for name in dirs:\n",
    "            \n",
    "            direct = os.path.join(path, name)\n",
    "            \n",
    "            for filename in os.listdir(direct):\n",
    "                \n",
    "                img = cv.imread(os.path.join(path + \"/\" + name, filename))\n",
    "                labels.append(name)\n",
    "                img = cv.resize(img, Image_Size)\n",
    "                images.append(img)\n",
    "                filenames.append(name + '/' + filename)"
   ]
  },
  {
   "cell_type": "code",
   "execution_count": 7,
   "id": "6cd3f202-2c46-4b20-90db-0e00d317d24e",
   "metadata": {},
   "outputs": [],
   "source": [
    "# Function to create dataframe from the filenames and labels\n",
    "\n",
    "def create_dataframe(filenames, labels):\n",
    "    \n",
    "    df = pd.DataFrame({\n",
    "        \n",
    "    'filename' : filenames,\n",
    "    'category' : labels\n",
    "\n",
    "    })\n",
    "    \n",
    "    return df"
   ]
  },
  {
   "cell_type": "code",
   "execution_count": 8,
   "id": "ef5578f4-e7d4-4457-a03f-56b24d47baca",
   "metadata": {},
   "outputs": [],
   "source": [
    "# Function to draw countplot for the dataframe category (class: Melanoma, class: Not Melanoma)\n",
    "\n",
    "def draw_countplot(dataframe, y_axis, title):\n",
    "    \n",
    "    sns.countplot(data=dataframe, y = y_axis, width=0.3, palette = 'Set2')\n",
    "    plt.title(title, weight='black')\n",
    "    plt.show()"
   ]
  },
  {
   "cell_type": "code",
   "execution_count": 9,
   "id": "05dfdd00-f0c4-4a93-899f-2b4b8ac7e922",
   "metadata": {},
   "outputs": [],
   "source": [
    "# Initializing train variables\n",
    "\n",
    "train_filenames = []\n",
    "train_images = []\n",
    "train_labels = []\n",
    "train_path = './processed image/'\n",
    "\n",
    "# Invoking read_image() in order to read the images from the path and to store in the above initialized array\n",
    "\n",
    "read_image(path=train_path, images=train_images, labels=train_labels, filenames=train_filenames)"
   ]
  },
  {
   "cell_type": "markdown",
   "id": "773075f8-794a-4ed2-9af7-fc97556a19a4",
   "metadata": {},
   "source": [
    "### Train Data"
   ]
  },
  {
   "cell_type": "code",
   "execution_count": 10,
   "id": "1b18a303-abda-4a80-babd-ae772bebc8b2",
   "metadata": {},
   "outputs": [
    {
     "data": {
      "text/html": [
       "<div>\n",
       "<style scoped>\n",
       "    .dataframe tbody tr th:only-of-type {\n",
       "        vertical-align: middle;\n",
       "    }\n",
       "\n",
       "    .dataframe tbody tr th {\n",
       "        vertical-align: top;\n",
       "    }\n",
       "\n",
       "    .dataframe thead th {\n",
       "        text-align: right;\n",
       "    }\n",
       "</style>\n",
       "<table border=\"1\" class=\"dataframe\">\n",
       "  <thead>\n",
       "    <tr style=\"text-align: right;\">\n",
       "      <th></th>\n",
       "      <th>filename</th>\n",
       "      <th>category</th>\n",
       "    </tr>\n",
       "  </thead>\n",
       "  <tbody>\n",
       "    <tr>\n",
       "      <th>0</th>\n",
       "      <td>Melanoma/AUGmented_0_1000.jpeg</td>\n",
       "      <td>Melanoma</td>\n",
       "    </tr>\n",
       "    <tr>\n",
       "      <th>1</th>\n",
       "      <td>Melanoma/AUGmented_0_1007.jpeg</td>\n",
       "      <td>Melanoma</td>\n",
       "    </tr>\n",
       "    <tr>\n",
       "      <th>2</th>\n",
       "      <td>Melanoma/AUGmented_0_1009.jpeg</td>\n",
       "      <td>Melanoma</td>\n",
       "    </tr>\n",
       "    <tr>\n",
       "      <th>3</th>\n",
       "      <td>Melanoma/AUGmented_0_1022.jpeg</td>\n",
       "      <td>Melanoma</td>\n",
       "    </tr>\n",
       "    <tr>\n",
       "      <th>4</th>\n",
       "      <td>Melanoma/AUGmented_0_1029.jpeg</td>\n",
       "      <td>Melanoma</td>\n",
       "    </tr>\n",
       "    <tr>\n",
       "      <th>...</th>\n",
       "      <td>...</td>\n",
       "      <td>...</td>\n",
       "    </tr>\n",
       "    <tr>\n",
       "      <th>10677</th>\n",
       "      <td>NotMelanoma/ISIC_0034314.jpg</td>\n",
       "      <td>NotMelanoma</td>\n",
       "    </tr>\n",
       "    <tr>\n",
       "      <th>10678</th>\n",
       "      <td>NotMelanoma/ISIC_0034315.jpg</td>\n",
       "      <td>NotMelanoma</td>\n",
       "    </tr>\n",
       "    <tr>\n",
       "      <th>10679</th>\n",
       "      <td>NotMelanoma/ISIC_0034318.jpg</td>\n",
       "      <td>NotMelanoma</td>\n",
       "    </tr>\n",
       "    <tr>\n",
       "      <th>10680</th>\n",
       "      <td>NotMelanoma/ISIC_0034319.jpg</td>\n",
       "      <td>NotMelanoma</td>\n",
       "    </tr>\n",
       "    <tr>\n",
       "      <th>10681</th>\n",
       "      <td>NotMelanoma/ISIC_0034320.jpg</td>\n",
       "      <td>NotMelanoma</td>\n",
       "    </tr>\n",
       "  </tbody>\n",
       "</table>\n",
       "<p>10682 rows × 2 columns</p>\n",
       "</div>"
      ],
      "text/plain": [
       "                             filename     category\n",
       "0      Melanoma/AUGmented_0_1000.jpeg     Melanoma\n",
       "1      Melanoma/AUGmented_0_1007.jpeg     Melanoma\n",
       "2      Melanoma/AUGmented_0_1009.jpeg     Melanoma\n",
       "3      Melanoma/AUGmented_0_1022.jpeg     Melanoma\n",
       "4      Melanoma/AUGmented_0_1029.jpeg     Melanoma\n",
       "...                               ...          ...\n",
       "10677    NotMelanoma/ISIC_0034314.jpg  NotMelanoma\n",
       "10678    NotMelanoma/ISIC_0034315.jpg  NotMelanoma\n",
       "10679    NotMelanoma/ISIC_0034318.jpg  NotMelanoma\n",
       "10680    NotMelanoma/ISIC_0034319.jpg  NotMelanoma\n",
       "10681    NotMelanoma/ISIC_0034320.jpg  NotMelanoma\n",
       "\n",
       "[10682 rows x 2 columns]"
      ]
     },
     "execution_count": 10,
     "metadata": {},
     "output_type": "execute_result"
    }
   ],
   "source": [
    "# Train dataframe made from create_dataframe()\n",
    "\n",
    "train_df = create_dataframe(filenames=train_filenames, labels=train_labels)\n",
    "train_df"
   ]
  },
  {
   "cell_type": "code",
   "execution_count": 11,
   "id": "bfbf295b-fe7d-47e7-9ebe-c34ed3268c52",
   "metadata": {},
   "outputs": [
    {
     "data": {
      "image/png": "[encoded data removed]",
      "text/plain": [
       "<Figure size 640x480 with 1 Axes>"
      ]
     },
     "metadata": {},
     "output_type": "display_data"
    }
   ],
   "source": [
    "# Invoking draw_countplot()\n",
    "\n",
    "draw_countplot(dataframe=train_df, y_axis='category', title='Train Data')"
   ]
  },
  {
   "cell_type": "code",
   "execution_count": 12,
   "id": "1cce7c18-c7bb-43bc-a836-defb4bc45df9",
   "metadata": {},
   "outputs": [],
   "source": [
    "# Test dataframe made from create_dataframe()\n",
    "\n",
    "test_filenames = []\n",
    "test_images = []\n",
    "test_labels = []\n",
    "test_path = './DermMel/test/'\n",
    "\n",
    "# Invoking read_image() in order to read the images from the path and to store in the above initialized array\n",
    "\n",
    "read_image(path=test_path, images=test_images, labels=test_labels, filenames=test_filenames)"
   ]
  },
  {
   "cell_type": "markdown",
   "id": "180f5470-c370-43d6-a0b0-35b1568f8797",
   "metadata": {},
   "source": [
    "### Test Data"
   ]
  },
  {
   "cell_type": "code",
   "execution_count": 13,
   "id": "cfeb6151-350c-476a-bbd9-a02e570a3d7c",
   "metadata": {},
   "outputs": [
    {
     "data": {
      "text/html": [
       "<div>\n",
       "<style scoped>\n",
       "    .dataframe tbody tr th:only-of-type {\n",
       "        vertical-align: middle;\n",
       "    }\n",
       "\n",
       "    .dataframe tbody tr th {\n",
       "        vertical-align: top;\n",
       "    }\n",
       "\n",
       "    .dataframe thead th {\n",
       "        text-align: right;\n",
       "    }\n",
       "</style>\n",
       "<table border=\"1\" class=\"dataframe\">\n",
       "  <thead>\n",
       "    <tr style=\"text-align: right;\">\n",
       "      <th></th>\n",
       "      <th>filename</th>\n",
       "      <th>category</th>\n",
       "    </tr>\n",
       "  </thead>\n",
       "  <tbody>\n",
       "    <tr>\n",
       "      <th>0</th>\n",
       "      <td>Melanoma/AUGmented_0_1015.jpeg</td>\n",
       "      <td>Melanoma</td>\n",
       "    </tr>\n",
       "    <tr>\n",
       "      <th>1</th>\n",
       "      <td>Melanoma/AUGmented_0_1036.jpeg</td>\n",
       "      <td>Melanoma</td>\n",
       "    </tr>\n",
       "    <tr>\n",
       "      <th>2</th>\n",
       "      <td>Melanoma/AUGmented_0_1093.jpeg</td>\n",
       "      <td>Melanoma</td>\n",
       "    </tr>\n",
       "    <tr>\n",
       "      <th>3</th>\n",
       "      <td>Melanoma/AUGmented_0_1110.jpeg</td>\n",
       "      <td>Melanoma</td>\n",
       "    </tr>\n",
       "    <tr>\n",
       "      <th>4</th>\n",
       "      <td>Melanoma/AUGmented_0_1114.jpeg</td>\n",
       "      <td>Melanoma</td>\n",
       "    </tr>\n",
       "    <tr>\n",
       "      <th>...</th>\n",
       "      <td>...</td>\n",
       "      <td>...</td>\n",
       "    </tr>\n",
       "    <tr>\n",
       "      <th>3556</th>\n",
       "      <td>NotMelanoma/ISIC_0034257.jpg</td>\n",
       "      <td>NotMelanoma</td>\n",
       "    </tr>\n",
       "    <tr>\n",
       "      <th>3557</th>\n",
       "      <td>NotMelanoma/ISIC_0034260.jpg</td>\n",
       "      <td>NotMelanoma</td>\n",
       "    </tr>\n",
       "    <tr>\n",
       "      <th>3558</th>\n",
       "      <td>NotMelanoma/ISIC_0034278.jpg</td>\n",
       "      <td>NotMelanoma</td>\n",
       "    </tr>\n",
       "    <tr>\n",
       "      <th>3559</th>\n",
       "      <td>NotMelanoma/ISIC_0034309.jpg</td>\n",
       "      <td>NotMelanoma</td>\n",
       "    </tr>\n",
       "    <tr>\n",
       "      <th>3560</th>\n",
       "      <td>NotMelanoma/ISIC_0034311.jpg</td>\n",
       "      <td>NotMelanoma</td>\n",
       "    </tr>\n",
       "  </tbody>\n",
       "</table>\n",
       "<p>3561 rows × 2 columns</p>\n",
       "</div>"
      ],
      "text/plain": [
       "                            filename     category\n",
       "0     Melanoma/AUGmented_0_1015.jpeg     Melanoma\n",
       "1     Melanoma/AUGmented_0_1036.jpeg     Melanoma\n",
       "2     Melanoma/AUGmented_0_1093.jpeg     Melanoma\n",
       "3     Melanoma/AUGmented_0_1110.jpeg     Melanoma\n",
       "4     Melanoma/AUGmented_0_1114.jpeg     Melanoma\n",
       "...                              ...          ...\n",
       "3556    NotMelanoma/ISIC_0034257.jpg  NotMelanoma\n",
       "3557    NotMelanoma/ISIC_0034260.jpg  NotMelanoma\n",
       "3558    NotMelanoma/ISIC_0034278.jpg  NotMelanoma\n",
       "3559    NotMelanoma/ISIC_0034309.jpg  NotMelanoma\n",
       "3560    NotMelanoma/ISIC_0034311.jpg  NotMelanoma\n",
       "\n",
       "[3561 rows x 2 columns]"
      ]
     },
     "execution_count": 13,
     "metadata": {},
     "output_type": "execute_result"
    }
   ],
   "source": [
    "# Test dataframe made from create_dataframe()\n",
    "\n",
    "test_df = create_dataframe(filenames=test_filenames, labels=test_labels)\n",
    "test_df"
   ]
  },
  {
   "cell_type": "code",
   "execution_count": 14,
   "id": "3be60575-7609-4bb8-9a7f-9253ef1e04a6",
   "metadata": {},
   "outputs": [
    {
     "data": {
      "image/png": "[encoded data removed]",
      "text/plain": [
       "<Figure size 640x480 with 1 Axes>"
      ]
     },
     "metadata": {},
     "output_type": "display_data"
    }
   ],
   "source": [
    "# Invoking draw_countplot()\n",
    "\n",
    "draw_countplot(dataframe=test_df, y_axis='category', title='Test Data')"
   ]
  },
  {
   "cell_type": "markdown",
   "id": "08a467b7-efb5-4d19-88a0-c87295e98249",
   "metadata": {},
   "source": [
    "### pre-processing and dataset creation"
   ]
  },
  {
   "cell_type": "code",
   "execution_count": 15,
   "id": "ebc4bd7c-30ef-48a4-b5a3-a3396d230a37",
   "metadata": {},
   "outputs": [
    {
     "name": "stdout",
     "output_type": "stream",
     "text": [
      "Found 10682 validated image filenames belonging to 2 classes.\n"
     ]
    }
   ],
   "source": [
    "#preprocessing train data\n",
    "\n",
    "train_datag=ImageDataGenerator(rescale=1./ 255, # converting the pixels of image between o's and 1's\n",
    "                              horizontal_flip = True, # flipping the image horizontally\n",
    "                               vertical_flip = True, # flipping the image vertically\n",
    "                               rotation_range = 55, # rotating the image fro 25 degree\n",
    "                              )\n",
    "\n",
    "# Getting train images using flow_from_datafram()\n",
    "\n",
    "train_dataset=train_datag.flow_from_dataframe(dataframe=train_df, # dataframe name\n",
    "                                              directory=train_path, # path\n",
    "                                              x_col=\"filename\", # x_col value\n",
    "                                              y_col=\"category\", # y_col_value\n",
    "                                              color_mode='rgb', # color of the image used 'rgb' as the dataset contain rgb image\n",
    "                                              target_size=Image_Size, # setting the size of the image\n",
    "                                              batch_size=32, # mini-batch gradient descent (takes 32 images in one go)\n",
    "                                              class_mode='categorical'\n",
    "                                             )"
   ]
  },
  {
   "cell_type": "code",
   "execution_count": 16,
   "id": "bfd291f7-1f13-471f-b60f-09d20abec34e",
   "metadata": {},
   "outputs": [
    {
     "name": "stdout",
     "output_type": "stream",
     "text": [
      "Found 3561 validated image filenames belonging to 2 classes.\n"
     ]
    }
   ],
   "source": [
    "# pre-processing test data\n",
    "\n",
    "test_datag=ImageDataGenerator(rescale=1./255) # converting the pixels of image between o's and 1's\n",
    "\n",
    "# Getting test images using flow_from_datafram()\n",
    "\n",
    "test_dataset=test_datag.flow_from_dataframe(dataframe=test_df, # dataframe name\n",
    "                                            directory=test_path, # path\n",
    "                                            x_col=\"filename\", # x_col value\n",
    "                                            y_col=\"category\", # y_col value\n",
    "                                            color_mode='rgb', # color of the image used 'rgb' as the dataset contain rgb image\n",
    "                                            target_size=Image_Size, # setting the size of the image\n",
    "                                            batch_size=32, # mini-batch gradient descent (takes 32 images in one go)\n",
    "                                            \n",
    "                                            # while generating the test_dataset the machine won't validate names, due to some non-acceptable names someof the images are not read by the machine so to avoid that this param is used\n",
    "                                            # validate_filenames=False, # whether to validate names or not \n",
    "                                            \n",
    "                                            shuffle=False, # made shuffle to false in order to make sure that the test dataset isn't shuffled\n",
    "                                            class_mode='categorical', # categorical is chosen as it is the classification problem\n",
    "                                           )"
   ]
  },
  {
   "cell_type": "code",
   "execution_count": 17,
   "id": "71eafdc1-e78a-4166-8959-cc734854bd54",
   "metadata": {},
   "outputs": [
    {
     "data": {
      "text/plain": [
       "{'Melanoma': 0, 'NotMelanoma': 1}"
      ]
     },
     "execution_count": 17,
     "metadata": {},
     "output_type": "execute_result"
    }
   ],
   "source": [
    "train_dataset.class_indices #gives the key for the target values"
   ]
  },
  {
   "cell_type": "code",
   "execution_count": 18,
   "id": "8eed3cc2-4d2c-4354-8149-ce38abee03fa",
   "metadata": {},
   "outputs": [
    {
     "data": {
      "text/plain": [
       "(32, 224, 224, 3)"
      ]
     },
     "execution_count": 18,
     "metadata": {},
     "output_type": "execute_result"
    }
   ],
   "source": [
    "train_dataset[0][0].shape # 32 batches, 128-height, 128-width ,3-d image that is colored image"
   ]
  },
  {
   "cell_type": "markdown",
   "id": "bd695fe7-8c74-4287-806e-d001126834da",
   "metadata": {},
   "source": [
    "### **Model building**"
   ]
  },
  {
   "cell_type": "code",
   "execution_count": 19,
   "id": "efa9029b-bca8-49e4-976d-ff4eb19e9b21",
   "metadata": {
    "tags": []
   },
   "outputs": [
    {
     "name": "stdout",
     "output_type": "stream",
     "text": [
      "Model: \"sequential\"\n",
      "_________________________________________________________________\n",
      " Layer (type)                Output Shape              Param #   \n",
      "=================================================================\n",
      " vgg16 (Functional)          (None, 7, 7, 512)         14714688  \n",
      "                                                                 \n",
      " flatten (Flatten)           (None, 25088)             0         \n",
      "                                                                 \n",
      " dense (Dense)               (None, 512)               12845568  \n",
      "                                                                 \n",
      " batch_normalization (BatchN  (None, 512)              2048      \n",
      " ormalization)                                                   \n",
      "                                                                 \n",
      " dropout (Dropout)           (None, 512)               0         \n",
      "                                                                 \n",
      " dense_1 (Dense)             (None, 256)               131328    \n",
      "                                                                 \n",
      " batch_normalization_1 (Batc  (None, 256)              1024      \n",
      " hNormalization)                                                 \n",
      "                                                                 \n",
      " dropout_1 (Dropout)         (None, 256)               0         \n",
      "                                                                 \n",
      " dense_2 (Dense)             (None, 128)               32896     \n",
      "                                                                 \n",
      " batch_normalization_2 (Batc  (None, 128)              512       \n",
      " hNormalization)                                                 \n",
      "                                                                 \n",
      " dropout_2 (Dropout)         (None, 128)               0         \n",
      "                                                                 \n",
      " dense_3 (Dense)             (None, 2)                 258       \n",
      "                                                                 \n",
      "=================================================================\n",
      "Total params: 27,728,322\n",
      "Trainable params: 13,011,842\n",
      "Non-trainable params: 14,716,480\n",
      "_________________________________________________________________\n"
     ]
    }
   ],
   "source": [
    "# getting the VGG16 model and making the trainable false,\n",
    "# so that such a big model wont get trained in our machine, and also this huge model can't be trained in our machine\n",
    "\n",
    "# This is called transfer learning, this uses the layers of the VGG16 model and the extraction is taken place based on that\n",
    "\n",
    "conv_base = VGG16(\n",
    "    include_top=False,\n",
    "    weights='imagenet',\n",
    "    input_shape=(224,224,3),\n",
    ")\n",
    "\n",
    "# Making the layers to get trained as false\n",
    "\n",
    "for layer in conv_base.layers:\n",
    "    layer.trainable = False\n",
    "    \n",
    "# Model building\n",
    "    \n",
    "model = Sequential()\n",
    "\n",
    "# Base model (VGG16 Model)\n",
    "model.add(conv_base)\n",
    "\n",
    "# flattens the layers (making it into 1-D format)\n",
    "model.add(Flatten())\n",
    "\n",
    "\n",
    "# Fully connected layers\n",
    "\n",
    "\n",
    "# Layer 1\n",
    "model.add(Dense(units=512, activation='relu'))\n",
    "model.add(BatchNormalization())\n",
    "model.add(Dropout(0.5))\n",
    "\n",
    "# Layer 2\n",
    "model.add(Dense(units=256, activation='relu'))\n",
    "model.add(BatchNormalization())\n",
    "model.add(Dropout(0.5))\n",
    "\n",
    "# Layer 3\n",
    "model.add(Dense(units=128, activation='relu'))\n",
    "model.add(BatchNormalization())\n",
    "model.add(Dropout(0.3))\n",
    "\n",
    "# Output layer\n",
    "model.add(Dense(units=2, activation='sigmoid'))\n",
    "\n",
    "# Printing summary of the model\n",
    "model.summary()"
   ]
  },
  {
   "cell_type": "code",
   "execution_count": 20,
   "id": "2fe98ecd-30de-401b-8179-1bc0fd935557",
   "metadata": {},
   "outputs": [],
   "source": [
    "# defining the optimizer\n",
    "\n",
    "adam_optimizer = Adam(learning_rate = 7e-6)\n",
    "\n",
    "# compiling the model\n",
    "\n",
    "model.compile(loss=\"CategoricalCrossentropy\",optimizer=adam_optimizer, metrics=['accuracy', Precision(), Recall()])"
   ]
  },
  {
   "cell_type": "markdown",
   "id": "e8ea7694-07ea-47c9-8659-79a1cc2838cb",
   "metadata": {},
   "source": [
    "#### Free up RAM memory to speedup training process"
   ]
  },
  {
   "cell_type": "code",
   "execution_count": 21,
   "id": "b55bd923-7166-4085-924d-25eacc791fe6",
   "metadata": {},
   "outputs": [],
   "source": [
    "del train_images\n",
    "del test_images\n",
    "del train_df\n",
    "del train_filenames\n",
    "del test_filenames\n",
    "del train_labels\n",
    "del test_labels"
   ]
  },
  {
   "cell_type": "markdown",
   "id": "91c19aa2-2398-4a55-a6ba-b030b122598a",
   "metadata": {},
   "source": [
    "### Training"
   ]
  },
  {
   "cell_type": "code",
   "execution_count": 22,
   "id": "233bb20d-e7e7-4b57-b598-f04ce74bd9ae",
   "metadata": {},
   "outputs": [
    {
     "name": "stdout",
     "output_type": "stream",
     "text": [
      "Epoch 1/180\n",
      "334/334 [==============================] - 94s 262ms/step - loss: 0.7749 - accuracy: 0.6841 - precision: 0.6436 - recall: 0.6520 - val_loss: 0.4653 - val_accuracy: 0.7714 - val_precision: 0.7091 - val_recall: 0.8425\n",
      "Epoch 2/180\n",
      "334/334 [==============================] - 86s 258ms/step - loss: 0.6707 - accuracy: 0.7342 - precision: 0.6829 - recall: 0.6976 - val_loss: 0.4475 - val_accuracy: 0.7916 - val_precision: 0.7467 - val_recall: 0.8220\n",
      "Epoch 3/180\n",
      "334/334 [==============================] - 88s 262ms/step - loss: 0.6282 - accuracy: 0.7541 - precision: 0.6999 - recall: 0.7202 - val_loss: 0.4371 - val_accuracy: 0.8037 - val_precision: 0.7720 - val_recall: 0.8186\n",
      "Epoch 4/180\n",
      "334/334 [==============================] - 87s 260ms/step - loss: 0.6163 - accuracy: 0.7544 - precision: 0.7009 - recall: 0.7253 - val_loss: 0.4364 - val_accuracy: 0.8102 - val_precision: 0.7613 - val_recall: 0.8304\n",
      "Epoch 5/180\n",
      "334/334 [==============================] - 87s 259ms/step - loss: 0.6119 - accuracy: 0.7593 - precision: 0.7081 - recall: 0.7300 - val_loss: 0.4351 - val_accuracy: 0.8172 - val_precision: 0.7864 - val_recall: 0.8065\n",
      "Epoch 6/180\n",
      "334/334 [==============================] - 88s 262ms/step - loss: 0.5952 - accuracy: 0.7647 - precision: 0.7096 - recall: 0.7328 - val_loss: 0.4180 - val_accuracy: 0.8169 - val_precision: 0.7606 - val_recall: 0.8433\n",
      "Epoch 7/180\n",
      "334/334 [==============================] - 87s 259ms/step - loss: 0.5684 - accuracy: 0.7737 - precision: 0.7125 - recall: 0.7397 - val_loss: 0.4096 - val_accuracy: 0.8242 - val_precision: 0.7402 - val_recall: 0.8778\n",
      "Epoch 8/180\n",
      "334/334 [==============================] - 86s 256ms/step - loss: 0.5639 - accuracy: 0.7678 - precision: 0.7108 - recall: 0.7388 - val_loss: 0.3860 - val_accuracy: 0.8281 - val_precision: 0.7857 - val_recall: 0.8399\n",
      "Epoch 9/180\n",
      "334/334 [==============================] - 86s 257ms/step - loss: 0.5520 - accuracy: 0.7777 - precision: 0.7149 - recall: 0.7386 - val_loss: 0.4145 - val_accuracy: 0.8186 - val_precision: 0.7376 - val_recall: 0.8700\n",
      "Epoch 10/180\n",
      "334/334 [==============================] - 86s 257ms/step - loss: 0.5543 - accuracy: 0.7778 - precision: 0.7130 - recall: 0.7383 - val_loss: 0.3935 - val_accuracy: 0.8329 - val_precision: 0.7641 - val_recall: 0.8587\n",
      "Epoch 11/180\n",
      "334/334 [==============================] - 86s 258ms/step - loss: 0.5362 - accuracy: 0.7860 - precision: 0.7203 - recall: 0.7475 - val_loss: 0.3862 - val_accuracy: 0.8352 - val_precision: 0.7737 - val_recall: 0.8565\n",
      "Epoch 12/180\n",
      "334/334 [==============================] - 85s 255ms/step - loss: 0.5207 - accuracy: 0.7894 - precision: 0.7270 - recall: 0.7502 - val_loss: 0.3914 - val_accuracy: 0.8352 - val_precision: 0.7731 - val_recall: 0.8447\n",
      "Epoch 13/180\n",
      "334/334 [==============================] - 86s 255ms/step - loss: 0.5218 - accuracy: 0.7852 - precision: 0.7222 - recall: 0.7457 - val_loss: 0.3718 - val_accuracy: 0.8397 - val_precision: 0.7685 - val_recall: 0.8672\n",
      "Epoch 14/180\n",
      "334/334 [==============================] - 87s 260ms/step - loss: 0.5174 - accuracy: 0.7921 - precision: 0.7211 - recall: 0.7471 - val_loss: 0.3700 - val_accuracy: 0.8419 - val_precision: 0.7509 - val_recall: 0.8983\n",
      "Epoch 15/180\n",
      "334/334 [==============================] - 86s 256ms/step - loss: 0.5165 - accuracy: 0.7923 - precision: 0.7250 - recall: 0.7549 - val_loss: 0.3829 - val_accuracy: 0.8402 - val_precision: 0.7637 - val_recall: 0.8792\n",
      "Epoch 16/180\n",
      "334/334 [==============================] - 86s 257ms/step - loss: 0.5087 - accuracy: 0.7901 - precision: 0.7275 - recall: 0.7534 - val_loss: 0.3601 - val_accuracy: 0.8439 - val_precision: 0.7967 - val_recall: 0.8559\n",
      "Epoch 17/180\n",
      "334/334 [==============================] - 87s 259ms/step - loss: 0.4982 - accuracy: 0.7944 - precision: 0.7289 - recall: 0.7497 - val_loss: 0.3981 - val_accuracy: 0.8360 - val_precision: 0.7839 - val_recall: 0.8545\n",
      "Epoch 18/180\n",
      "334/334 [==============================] - 86s 257ms/step - loss: 0.4990 - accuracy: 0.7971 - precision: 0.7310 - recall: 0.7570 - val_loss: 0.3939 - val_accuracy: 0.8354 - val_precision: 0.7955 - val_recall: 0.8335\n",
      "Epoch 19/180\n",
      "334/334 [==============================] - 86s 257ms/step - loss: 0.4907 - accuracy: 0.7996 - precision: 0.7311 - recall: 0.7596 - val_loss: 0.3608 - val_accuracy: 0.8475 - val_precision: 0.7837 - val_recall: 0.8616\n",
      "Epoch 20/180\n",
      "334/334 [==============================] - 86s 258ms/step - loss: 0.4884 - accuracy: 0.7962 - precision: 0.7335 - recall: 0.7628 - val_loss: 0.3647 - val_accuracy: 0.8486 - val_precision: 0.7999 - val_recall: 0.8545\n",
      "Epoch 21/180\n",
      "334/334 [==============================] - 86s 257ms/step - loss: 0.4848 - accuracy: 0.8025 - precision: 0.7312 - recall: 0.7586 - val_loss: 0.3573 - val_accuracy: 0.8500 - val_precision: 0.7983 - val_recall: 0.8691\n",
      "Epoch 22/180\n",
      "334/334 [==============================] - 86s 257ms/step - loss: 0.4803 - accuracy: 0.7990 - precision: 0.7326 - recall: 0.7575 - val_loss: 0.3692 - val_accuracy: 0.8433 - val_precision: 0.8176 - val_recall: 0.8270\n",
      "Epoch 23/180\n",
      "334/334 [==============================] - 87s 259ms/step - loss: 0.4792 - accuracy: 0.8051 - precision: 0.7377 - recall: 0.7653 - val_loss: 0.3469 - val_accuracy: 0.8520 - val_precision: 0.8137 - val_recall: 0.8649\n",
      "Epoch 24/180\n",
      "334/334 [==============================] - 87s 259ms/step - loss: 0.4621 - accuracy: 0.8087 - precision: 0.7405 - recall: 0.7714 - val_loss: 0.3862 - val_accuracy: 0.8394 - val_precision: 0.7845 - val_recall: 0.8616\n",
      "Epoch 25/180\n",
      "334/334 [==============================] - 86s 256ms/step - loss: 0.4612 - accuracy: 0.8063 - precision: 0.7362 - recall: 0.7658 - val_loss: 0.3540 - val_accuracy: 0.8526 - val_precision: 0.7926 - val_recall: 0.8652\n",
      "Epoch 26/180\n",
      "334/334 [==============================] - 86s 256ms/step - loss: 0.4711 - accuracy: 0.8028 - precision: 0.7364 - recall: 0.7641 - val_loss: 0.3623 - val_accuracy: 0.8517 - val_precision: 0.8344 - val_recall: 0.8135\n",
      "Epoch 27/180\n",
      "334/334 [==============================] - 86s 256ms/step - loss: 0.4584 - accuracy: 0.8089 - precision: 0.7424 - recall: 0.7699 - val_loss: 0.3498 - val_accuracy: 0.8545 - val_precision: 0.8002 - val_recall: 0.8627\n",
      "Epoch 28/180\n",
      "334/334 [==============================] - 87s 260ms/step - loss: 0.4625 - accuracy: 0.8092 - precision: 0.7398 - recall: 0.7707 - val_loss: 0.3482 - val_accuracy: 0.8509 - val_precision: 0.7981 - val_recall: 0.8638\n",
      "Epoch 29/180\n",
      "334/334 [==============================] - 85s 255ms/step - loss: 0.4440 - accuracy: 0.8097 - precision: 0.7425 - recall: 0.7698 - val_loss: 0.3502 - val_accuracy: 0.8523 - val_precision: 0.7924 - val_recall: 0.8705\n",
      "Epoch 30/180\n",
      "334/334 [==============================] - 86s 256ms/step - loss: 0.4500 - accuracy: 0.8072 - precision: 0.7453 - recall: 0.7648 - val_loss: 0.3480 - val_accuracy: 0.8548 - val_precision: 0.7987 - val_recall: 0.8646\n",
      "Epoch 31/180\n",
      "334/334 [==============================] - 86s 257ms/step - loss: 0.4515 - accuracy: 0.8082 - precision: 0.7400 - recall: 0.7697 - val_loss: 0.3351 - val_accuracy: 0.8593 - val_precision: 0.8062 - val_recall: 0.8776\n",
      "Epoch 32/180\n",
      "334/334 [==============================] - 87s 259ms/step - loss: 0.4375 - accuracy: 0.8145 - precision: 0.7478 - recall: 0.7726 - val_loss: 0.3436 - val_accuracy: 0.8579 - val_precision: 0.7962 - val_recall: 0.8832\n",
      "Epoch 33/180\n",
      "334/334 [==============================] - 88s 262ms/step - loss: 0.4375 - accuracy: 0.8139 - precision: 0.7463 - recall: 0.7671 - val_loss: 0.3466 - val_accuracy: 0.8545 - val_precision: 0.7926 - val_recall: 0.8874\n",
      "Epoch 34/180\n",
      "334/334 [==============================] - 88s 263ms/step - loss: 0.4357 - accuracy: 0.8174 - precision: 0.7471 - recall: 0.7711 - val_loss: 0.3505 - val_accuracy: 0.8545 - val_precision: 0.7893 - val_recall: 0.8899\n",
      "Epoch 35/180\n",
      "334/334 [==============================] - 86s 257ms/step - loss: 0.4378 - accuracy: 0.8177 - precision: 0.7531 - recall: 0.7774 - val_loss: 0.3289 - val_accuracy: 0.8638 - val_precision: 0.8142 - val_recall: 0.8773\n",
      "Epoch 36/180\n",
      "334/334 [==============================] - 86s 257ms/step - loss: 0.4224 - accuracy: 0.8191 - precision: 0.7510 - recall: 0.7737 - val_loss: 0.3409 - val_accuracy: 0.8579 - val_precision: 0.8077 - val_recall: 0.8669\n",
      "Epoch 37/180\n",
      "334/334 [==============================] - 86s 256ms/step - loss: 0.4363 - accuracy: 0.8156 - precision: 0.7516 - recall: 0.7728 - val_loss: 0.3425 - val_accuracy: 0.8573 - val_precision: 0.8220 - val_recall: 0.8545\n",
      "Epoch 38/180\n",
      "334/334 [==============================] - 86s 258ms/step - loss: 0.4246 - accuracy: 0.8225 - precision: 0.7542 - recall: 0.7679 - val_loss: 0.3477 - val_accuracy: 0.8557 - val_precision: 0.8182 - val_recall: 0.8571\n",
      "Epoch 39/180\n",
      "334/334 [==============================] - 86s 257ms/step - loss: 0.4389 - accuracy: 0.8152 - precision: 0.7475 - recall: 0.7694 - val_loss: 0.3492 - val_accuracy: 0.8602 - val_precision: 0.8097 - val_recall: 0.8781\n",
      "Epoch 40/180\n",
      "334/334 [==============================] - 87s 260ms/step - loss: 0.4165 - accuracy: 0.8218 - precision: 0.7557 - recall: 0.7791 - val_loss: 0.3488 - val_accuracy: 0.8534 - val_precision: 0.8148 - val_recall: 0.8613\n",
      "Epoch 41/180\n",
      "334/334 [==============================] - 86s 258ms/step - loss: 0.4200 - accuracy: 0.8240 - precision: 0.7562 - recall: 0.7764 - val_loss: 0.3444 - val_accuracy: 0.8557 - val_precision: 0.8187 - val_recall: 0.8660\n",
      "Epoch 42/180\n",
      "334/334 [==============================] - 87s 259ms/step - loss: 0.4251 - accuracy: 0.8260 - precision: 0.7565 - recall: 0.7724 - val_loss: 0.3510 - val_accuracy: 0.8548 - val_precision: 0.8271 - val_recall: 0.8599\n",
      "Epoch 43/180\n",
      "334/334 [==============================] - 86s 257ms/step - loss: 0.4163 - accuracy: 0.8241 - precision: 0.7582 - recall: 0.7791 - val_loss: 0.3408 - val_accuracy: 0.8618 - val_precision: 0.8027 - val_recall: 0.8832\n",
      "Epoch 44/180\n",
      "334/334 [==============================] - 85s 255ms/step - loss: 0.4091 - accuracy: 0.8261 - precision: 0.7523 - recall: 0.7828 - val_loss: 0.3357 - val_accuracy: 0.8613 - val_precision: 0.8057 - val_recall: 0.8863\n",
      "Epoch 45/180\n",
      "334/334 [==============================] - 86s 258ms/step - loss: 0.4076 - accuracy: 0.8298 - precision: 0.7560 - recall: 0.7865 - val_loss: 0.3337 - val_accuracy: 0.8573 - val_precision: 0.8175 - val_recall: 0.8753\n",
      "Epoch 46/180\n",
      "334/334 [==============================] - 87s 259ms/step - loss: 0.4025 - accuracy: 0.8298 - precision: 0.7594 - recall: 0.7842 - val_loss: 0.3332 - val_accuracy: 0.8616 - val_precision: 0.8013 - val_recall: 0.8880\n",
      "Epoch 47/180\n",
      "334/334 [==============================] - 86s 258ms/step - loss: 0.4040 - accuracy: 0.8253 - precision: 0.7582 - recall: 0.7766 - val_loss: 0.3301 - val_accuracy: 0.8604 - val_precision: 0.7837 - val_recall: 0.9056\n",
      "Epoch 48/180\n",
      "334/334 [==============================] - 87s 259ms/step - loss: 0.4060 - accuracy: 0.8266 - precision: 0.7607 - recall: 0.7808 - val_loss: 0.3419 - val_accuracy: 0.8627 - val_precision: 0.7886 - val_recall: 0.8967\n",
      "Epoch 49/180\n",
      "334/334 [==============================] - 86s 257ms/step - loss: 0.3985 - accuracy: 0.8299 - precision: 0.7589 - recall: 0.7889 - val_loss: 0.3251 - val_accuracy: 0.8602 - val_precision: 0.8181 - val_recall: 0.8818\n",
      "Epoch 50/180\n",
      "334/334 [==============================] - 86s 256ms/step - loss: 0.4105 - accuracy: 0.8301 - precision: 0.7597 - recall: 0.7838 - val_loss: 0.3322 - val_accuracy: 0.8613 - val_precision: 0.8050 - val_recall: 0.8787\n",
      "Epoch 51/180\n",
      "334/334 [==============================] - 86s 256ms/step - loss: 0.3912 - accuracy: 0.8356 - precision: 0.7610 - recall: 0.7849 - val_loss: 0.3249 - val_accuracy: 0.8635 - val_precision: 0.7938 - val_recall: 0.8941\n",
      "Epoch 52/180\n",
      "334/334 [==============================] - 86s 256ms/step - loss: 0.3978 - accuracy: 0.8325 - precision: 0.7552 - recall: 0.7852 - val_loss: 0.3257 - val_accuracy: 0.8613 - val_precision: 0.8062 - val_recall: 0.8865\n",
      "Epoch 53/180\n",
      "334/334 [==============================] - 86s 256ms/step - loss: 0.3955 - accuracy: 0.8317 - precision: 0.7624 - recall: 0.7916 - val_loss: 0.3168 - val_accuracy: 0.8660 - val_precision: 0.8048 - val_recall: 0.8882\n",
      "Epoch 54/180\n",
      "334/334 [==============================] - 86s 258ms/step - loss: 0.3882 - accuracy: 0.8317 - precision: 0.7600 - recall: 0.7870 - val_loss: 0.3159 - val_accuracy: 0.8638 - val_precision: 0.7999 - val_recall: 0.8989\n",
      "Epoch 55/180\n",
      "334/334 [==============================] - 87s 260ms/step - loss: 0.4017 - accuracy: 0.8262 - precision: 0.7550 - recall: 0.7846 - val_loss: 0.3259 - val_accuracy: 0.8621 - val_precision: 0.7976 - val_recall: 0.8955\n",
      "Epoch 56/180\n",
      "334/334 [==============================] - 90s 269ms/step - loss: 0.3939 - accuracy: 0.8333 - precision: 0.7564 - recall: 0.7881 - val_loss: 0.3267 - val_accuracy: 0.8613 - val_precision: 0.8142 - val_recall: 0.8821\n",
      "Epoch 57/180\n",
      "334/334 [==============================] - 87s 260ms/step - loss: 0.4006 - accuracy: 0.8329 - precision: 0.7636 - recall: 0.7868 - val_loss: 0.3284 - val_accuracy: 0.8602 - val_precision: 0.7949 - val_recall: 0.9014\n",
      "Epoch 58/180\n",
      "334/334 [==============================] - 88s 261ms/step - loss: 0.3887 - accuracy: 0.8353 - precision: 0.7613 - recall: 0.7915 - val_loss: 0.3111 - val_accuracy: 0.8638 - val_precision: 0.7985 - val_recall: 0.9059\n",
      "Epoch 59/180\n",
      "334/334 [==============================] - 86s 256ms/step - loss: 0.3871 - accuracy: 0.8314 - precision: 0.7561 - recall: 0.7893 - val_loss: 0.3167 - val_accuracy: 0.8641 - val_precision: 0.7996 - val_recall: 0.8975\n",
      "Epoch 60/180\n",
      "334/334 [==============================] - 87s 260ms/step - loss: 0.3796 - accuracy: 0.8391 - precision: 0.7647 - recall: 0.7886 - val_loss: 0.3253 - val_accuracy: 0.8641 - val_precision: 0.8149 - val_recall: 0.8851\n",
      "Epoch 61/180\n",
      "334/334 [==============================] - 86s 257ms/step - loss: 0.3926 - accuracy: 0.8339 - precision: 0.7604 - recall: 0.7902 - val_loss: 0.3184 - val_accuracy: 0.8689 - val_precision: 0.8264 - val_recall: 0.8714\n",
      "Epoch 62/180\n",
      "334/334 [==============================] - 86s 257ms/step - loss: 0.3788 - accuracy: 0.8418 - precision: 0.7683 - recall: 0.7942 - val_loss: 0.3153 - val_accuracy: 0.8658 - val_precision: 0.8092 - val_recall: 0.8969\n",
      "Epoch 63/180\n",
      "334/334 [==============================] - 87s 260ms/step - loss: 0.3835 - accuracy: 0.8338 - precision: 0.7673 - recall: 0.7856 - val_loss: 0.3283 - val_accuracy: 0.8632 - val_precision: 0.8076 - val_recall: 0.8874\n",
      "Epoch 64/180\n",
      "334/334 [==============================] - 87s 259ms/step - loss: 0.3788 - accuracy: 0.8341 - precision: 0.7650 - recall: 0.7892 - val_loss: 0.3112 - val_accuracy: 0.8666 - val_precision: 0.8139 - val_recall: 0.8868\n",
      "Epoch 65/180\n",
      "334/334 [==============================] - 87s 260ms/step - loss: 0.3747 - accuracy: 0.8395 - precision: 0.7667 - recall: 0.7955 - val_loss: 0.3202 - val_accuracy: 0.8663 - val_precision: 0.8244 - val_recall: 0.8818\n",
      "Epoch 66/180\n",
      "334/334 [==============================] - 86s 256ms/step - loss: 0.3816 - accuracy: 0.8356 - precision: 0.7663 - recall: 0.7946 - val_loss: 0.3139 - val_accuracy: 0.8689 - val_precision: 0.8183 - val_recall: 0.9003\n",
      "Epoch 67/180\n",
      "334/334 [==============================] - 87s 259ms/step - loss: 0.3770 - accuracy: 0.8376 - precision: 0.7669 - recall: 0.7970 - val_loss: 0.3122 - val_accuracy: 0.8717 - val_precision: 0.8179 - val_recall: 0.9020\n",
      "Epoch 68/180\n",
      "334/334 [==============================] - 87s 258ms/step - loss: 0.3797 - accuracy: 0.8379 - precision: 0.7671 - recall: 0.7965 - val_loss: 0.3192 - val_accuracy: 0.8641 - val_precision: 0.8426 - val_recall: 0.8703\n",
      "Epoch 69/180\n",
      "334/334 [==============================] - 86s 258ms/step - loss: 0.3685 - accuracy: 0.8441 - precision: 0.7718 - recall: 0.7973 - val_loss: 0.3128 - val_accuracy: 0.8725 - val_precision: 0.8075 - val_recall: 0.9115\n",
      "Epoch 70/180\n",
      "334/334 [==============================] - 86s 258ms/step - loss: 0.3677 - accuracy: 0.8409 - precision: 0.7686 - recall: 0.7990 - val_loss: 0.3169 - val_accuracy: 0.8666 - val_precision: 0.8150 - val_recall: 0.8992\n",
      "Epoch 71/180\n",
      "334/334 [==============================] - 86s 257ms/step - loss: 0.3729 - accuracy: 0.8372 - precision: 0.7707 - recall: 0.7985 - val_loss: 0.3183 - val_accuracy: 0.8697 - val_precision: 0.8074 - val_recall: 0.9020\n",
      "Epoch 72/180\n",
      "334/334 [==============================] - 87s 260ms/step - loss: 0.3677 - accuracy: 0.8445 - precision: 0.7669 - recall: 0.7983 - val_loss: 0.3056 - val_accuracy: 0.8734 - val_precision: 0.8197 - val_recall: 0.9012\n",
      "Epoch 73/180\n",
      "334/334 [==============================] - 87s 259ms/step - loss: 0.3690 - accuracy: 0.8456 - precision: 0.7719 - recall: 0.7984 - val_loss: 0.3148 - val_accuracy: 0.8686 - val_precision: 0.8267 - val_recall: 0.8910\n",
      "Epoch 74/180\n",
      "334/334 [==============================] - 88s 264ms/step - loss: 0.3610 - accuracy: 0.8431 - precision: 0.7690 - recall: 0.7989 - val_loss: 0.3133 - val_accuracy: 0.8669 - val_precision: 0.8266 - val_recall: 0.8835\n",
      "Epoch 75/180\n",
      "334/334 [==============================] - 88s 263ms/step - loss: 0.3675 - accuracy: 0.8443 - precision: 0.7692 - recall: 0.8024 - val_loss: 0.3105 - val_accuracy: 0.8697 - val_precision: 0.8277 - val_recall: 0.8863\n",
      "Epoch 76/180\n",
      "334/334 [==============================] - 87s 259ms/step - loss: 0.3582 - accuracy: 0.8453 - precision: 0.7738 - recall: 0.8026 - val_loss: 0.3273 - val_accuracy: 0.8627 - val_precision: 0.8231 - val_recall: 0.8739\n",
      "Epoch 77/180\n",
      "334/334 [==============================] - 87s 259ms/step - loss: 0.3668 - accuracy: 0.8440 - precision: 0.7721 - recall: 0.8014 - val_loss: 0.3011 - val_accuracy: 0.8711 - val_precision: 0.8312 - val_recall: 0.8891\n",
      "Epoch 78/180\n",
      "334/334 [==============================] - 88s 262ms/step - loss: 0.3563 - accuracy: 0.8479 - precision: 0.7747 - recall: 0.8015 - val_loss: 0.3030 - val_accuracy: 0.8708 - val_precision: 0.8291 - val_recall: 0.8882\n",
      "Epoch 79/180\n",
      "334/334 [==============================] - 87s 261ms/step - loss: 0.3608 - accuracy: 0.8438 - precision: 0.7649 - recall: 0.7997 - val_loss: 0.3112 - val_accuracy: 0.8658 - val_precision: 0.8234 - val_recall: 0.8826\n",
      "Epoch 80/180\n",
      "334/334 [==============================] - 89s 266ms/step - loss: 0.3649 - accuracy: 0.8437 - precision: 0.7715 - recall: 0.7986 - val_loss: 0.3036 - val_accuracy: 0.8697 - val_precision: 0.8337 - val_recall: 0.8826\n",
      "Epoch 81/180\n",
      "334/334 [==============================] - 88s 264ms/step - loss: 0.3652 - accuracy: 0.8429 - precision: 0.7699 - recall: 0.8032 - val_loss: 0.3161 - val_accuracy: 0.8646 - val_precision: 0.8311 - val_recall: 0.8773\n",
      "Epoch 82/180\n",
      "334/334 [==============================] - 87s 260ms/step - loss: 0.3516 - accuracy: 0.8491 - precision: 0.7762 - recall: 0.8047 - val_loss: 0.3086 - val_accuracy: 0.8677 - val_precision: 0.8098 - val_recall: 0.9000\n",
      "Epoch 83/180\n",
      "334/334 [==============================] - 88s 262ms/step - loss: 0.3560 - accuracy: 0.8446 - precision: 0.7674 - recall: 0.8016 - val_loss: 0.3048 - val_accuracy: 0.8722 - val_precision: 0.8307 - val_recall: 0.8863\n",
      "Epoch 84/180\n",
      "334/334 [==============================] - 86s 257ms/step - loss: 0.3496 - accuracy: 0.8500 - precision: 0.7706 - recall: 0.8031 - val_loss: 0.3059 - val_accuracy: 0.8700 - val_precision: 0.8285 - val_recall: 0.8910\n",
      "Epoch 85/180\n",
      "334/334 [==============================] - 86s 256ms/step - loss: 0.3516 - accuracy: 0.8450 - precision: 0.7710 - recall: 0.8079 - val_loss: 0.3093 - val_accuracy: 0.8711 - val_precision: 0.8249 - val_recall: 0.8902\n",
      "Epoch 86/180\n",
      "334/334 [==============================] - 87s 258ms/step - loss: 0.3547 - accuracy: 0.8473 - precision: 0.7703 - recall: 0.8050 - val_loss: 0.3006 - val_accuracy: 0.8703 - val_precision: 0.8239 - val_recall: 0.8880\n",
      "Epoch 87/180\n",
      "334/334 [==============================] - 88s 263ms/step - loss: 0.3522 - accuracy: 0.8498 - precision: 0.7698 - recall: 0.8025 - val_loss: 0.3101 - val_accuracy: 0.8649 - val_precision: 0.8399 - val_recall: 0.8736\n",
      "Epoch 88/180\n",
      "334/334 [==============================] - 88s 262ms/step - loss: 0.3421 - accuracy: 0.8520 - precision: 0.7723 - recall: 0.8086 - val_loss: 0.3011 - val_accuracy: 0.8728 - val_precision: 0.8386 - val_recall: 0.8885\n",
      "Epoch 89/180\n",
      "334/334 [==============================] - 87s 260ms/step - loss: 0.3411 - accuracy: 0.8515 - precision: 0.7741 - recall: 0.8127 - val_loss: 0.2965 - val_accuracy: 0.8722 - val_precision: 0.8308 - val_recall: 0.8961\n",
      "Epoch 90/180\n",
      "334/334 [==============================] - 87s 259ms/step - loss: 0.3458 - accuracy: 0.8473 - precision: 0.7776 - recall: 0.8072 - val_loss: 0.3041 - val_accuracy: 0.8689 - val_precision: 0.8619 - val_recall: 0.8498\n",
      "Epoch 91/180\n",
      "334/334 [==============================] - 87s 260ms/step - loss: 0.3478 - accuracy: 0.8481 - precision: 0.7752 - recall: 0.8017 - val_loss: 0.2997 - val_accuracy: 0.8745 - val_precision: 0.8362 - val_recall: 0.8877\n",
      "Epoch 92/180\n",
      "334/334 [==============================] - 87s 259ms/step - loss: 0.3507 - accuracy: 0.8526 - precision: 0.7773 - recall: 0.8078 - val_loss: 0.3032 - val_accuracy: 0.8697 - val_precision: 0.8482 - val_recall: 0.8756\n",
      "Epoch 93/180\n",
      "334/334 [==============================] - 86s 257ms/step - loss: 0.3394 - accuracy: 0.8532 - precision: 0.7761 - recall: 0.8038 - val_loss: 0.3088 - val_accuracy: 0.8708 - val_precision: 0.8349 - val_recall: 0.8916\n",
      "Epoch 94/180\n",
      "334/334 [==============================] - 86s 258ms/step - loss: 0.3487 - accuracy: 0.8509 - precision: 0.7741 - recall: 0.8071 - val_loss: 0.2957 - val_accuracy: 0.8748 - val_precision: 0.8475 - val_recall: 0.8784\n",
      "Epoch 95/180\n",
      "334/334 [==============================] - 87s 261ms/step - loss: 0.3484 - accuracy: 0.8520 - precision: 0.7744 - recall: 0.8090 - val_loss: 0.3071 - val_accuracy: 0.8703 - val_precision: 0.8253 - val_recall: 0.8944\n",
      "Epoch 96/180\n",
      "334/334 [==============================] - 86s 258ms/step - loss: 0.3421 - accuracy: 0.8548 - precision: 0.7762 - recall: 0.8052 - val_loss: 0.3039 - val_accuracy: 0.8717 - val_precision: 0.8291 - val_recall: 0.8975\n",
      "Epoch 97/180\n",
      "334/334 [==============================] - 88s 262ms/step - loss: 0.3366 - accuracy: 0.8556 - precision: 0.7813 - recall: 0.8116 - val_loss: 0.2943 - val_accuracy: 0.8748 - val_precision: 0.8234 - val_recall: 0.9048\n",
      "Epoch 98/180\n",
      "334/334 [==============================] - 87s 259ms/step - loss: 0.3428 - accuracy: 0.8562 - precision: 0.7805 - recall: 0.8160 - val_loss: 0.2944 - val_accuracy: 0.8742 - val_precision: 0.8343 - val_recall: 0.8953\n",
      "Epoch 99/180\n",
      "334/334 [==============================] - 87s 260ms/step - loss: 0.3454 - accuracy: 0.8513 - precision: 0.7747 - recall: 0.8132 - val_loss: 0.2971 - val_accuracy: 0.8748 - val_precision: 0.8509 - val_recall: 0.8700\n",
      "Epoch 100/180\n",
      "334/334 [==============================] - 86s 258ms/step - loss: 0.3428 - accuracy: 0.8545 - precision: 0.7773 - recall: 0.8122 - val_loss: 0.2994 - val_accuracy: 0.8736 - val_precision: 0.8268 - val_recall: 0.8969\n",
      "Epoch 101/180\n",
      "334/334 [==============================] - 87s 261ms/step - loss: 0.3416 - accuracy: 0.8534 - precision: 0.7753 - recall: 0.8142 - val_loss: 0.2931 - val_accuracy: 0.8770 - val_precision: 0.8458 - val_recall: 0.8795\n",
      "Epoch 102/180\n",
      "334/334 [==============================] - 86s 256ms/step - loss: 0.3414 - accuracy: 0.8507 - precision: 0.7734 - recall: 0.8101 - val_loss: 0.3044 - val_accuracy: 0.8705 - val_precision: 0.8405 - val_recall: 0.8835\n",
      "Epoch 103/180\n",
      "334/334 [==============================] - 88s 263ms/step - loss: 0.3354 - accuracy: 0.8561 - precision: 0.7774 - recall: 0.8173 - val_loss: 0.2987 - val_accuracy: 0.8742 - val_precision: 0.8341 - val_recall: 0.8894\n",
      "Epoch 104/180\n",
      "334/334 [==============================] - 86s 257ms/step - loss: 0.3450 - accuracy: 0.8526 - precision: 0.7784 - recall: 0.8097 - val_loss: 0.2956 - val_accuracy: 0.8736 - val_precision: 0.8278 - val_recall: 0.8953\n",
      "Epoch 105/180\n",
      "334/334 [==============================] - 87s 261ms/step - loss: 0.3453 - accuracy: 0.8556 - precision: 0.7775 - recall: 0.8135 - val_loss: 0.2892 - val_accuracy: 0.8781 - val_precision: 0.8232 - val_recall: 0.9009\n",
      "Epoch 106/180\n",
      "334/334 [==============================] - 86s 256ms/step - loss: 0.3346 - accuracy: 0.8556 - precision: 0.7753 - recall: 0.8147 - val_loss: 0.2886 - val_accuracy: 0.8784 - val_precision: 0.8347 - val_recall: 0.8891\n",
      "Epoch 107/180\n",
      "334/334 [==============================] - 86s 258ms/step - loss: 0.3389 - accuracy: 0.8569 - precision: 0.7757 - recall: 0.8128 - val_loss: 0.2991 - val_accuracy: 0.8745 - val_precision: 0.8275 - val_recall: 0.8916\n",
      "Epoch 108/180\n",
      "334/334 [==============================] - 87s 261ms/step - loss: 0.3361 - accuracy: 0.8587 - precision: 0.7772 - recall: 0.8201 - val_loss: 0.2949 - val_accuracy: 0.8764 - val_precision: 0.8415 - val_recall: 0.8734\n",
      "Epoch 109/180\n",
      "334/334 [==============================] - 86s 257ms/step - loss: 0.3399 - accuracy: 0.8546 - precision: 0.7758 - recall: 0.8110 - val_loss: 0.2952 - val_accuracy: 0.8753 - val_precision: 0.8183 - val_recall: 0.8989\n",
      "Epoch 110/180\n",
      "334/334 [==============================] - 87s 258ms/step - loss: 0.3376 - accuracy: 0.8567 - precision: 0.7744 - recall: 0.8089 - val_loss: 0.2863 - val_accuracy: 0.8784 - val_precision: 0.8273 - val_recall: 0.8986\n",
      "Epoch 111/180\n",
      "334/334 [==============================] - 87s 260ms/step - loss: 0.3320 - accuracy: 0.8566 - precision: 0.7781 - recall: 0.8114 - val_loss: 0.2880 - val_accuracy: 0.8784 - val_precision: 0.8512 - val_recall: 0.8756\n",
      "Epoch 112/180\n",
      "334/334 [==============================] - 86s 257ms/step - loss: 0.3243 - accuracy: 0.8606 - precision: 0.7854 - recall: 0.8158 - val_loss: 0.2865 - val_accuracy: 0.8753 - val_precision: 0.8368 - val_recall: 0.9040\n",
      "Epoch 113/180\n",
      "334/334 [==============================] - 86s 257ms/step - loss: 0.3134 - accuracy: 0.8644 - precision: 0.7816 - recall: 0.8168 - val_loss: 0.2864 - val_accuracy: 0.8781 - val_precision: 0.8416 - val_recall: 0.8936\n",
      "Epoch 114/180\n",
      "334/334 [==============================] - 90s 270ms/step - loss: 0.3268 - accuracy: 0.8582 - precision: 0.7828 - recall: 0.8107 - val_loss: 0.2834 - val_accuracy: 0.8812 - val_precision: 0.8348 - val_recall: 0.8967\n",
      "Epoch 115/180\n",
      "334/334 [==============================] - 87s 259ms/step - loss: 0.3202 - accuracy: 0.8638 - precision: 0.7809 - recall: 0.8195 - val_loss: 0.2929 - val_accuracy: 0.8756 - val_precision: 0.8336 - val_recall: 0.8908\n",
      "Epoch 116/180\n",
      "334/334 [==============================] - 89s 266ms/step - loss: 0.3249 - accuracy: 0.8600 - precision: 0.7809 - recall: 0.8177 - val_loss: 0.2963 - val_accuracy: 0.8717 - val_precision: 0.8389 - val_recall: 0.8849\n",
      "Epoch 117/180\n",
      "334/334 [==============================] - 90s 269ms/step - loss: 0.3290 - accuracy: 0.8577 - precision: 0.7823 - recall: 0.8169 - val_loss: 0.2935 - val_accuracy: 0.8742 - val_precision: 0.8613 - val_recall: 0.8635\n",
      "Epoch 118/180\n",
      "334/334 [==============================] - 91s 273ms/step - loss: 0.3201 - accuracy: 0.8619 - precision: 0.7867 - recall: 0.8171 - val_loss: 0.2827 - val_accuracy: 0.8795 - val_precision: 0.8488 - val_recall: 0.8815\n",
      "Epoch 119/180\n",
      "334/334 [==============================] - 92s 275ms/step - loss: 0.3251 - accuracy: 0.8583 - precision: 0.7845 - recall: 0.8094 - val_loss: 0.2803 - val_accuracy: 0.8804 - val_precision: 0.8653 - val_recall: 0.8711\n",
      "Epoch 120/180\n",
      "334/334 [==============================] - 90s 270ms/step - loss: 0.3225 - accuracy: 0.8656 - precision: 0.7878 - recall: 0.8138 - val_loss: 0.2828 - val_accuracy: 0.8787 - val_precision: 0.8591 - val_recall: 0.8770\n",
      "Epoch 121/180\n",
      "334/334 [==============================] - 91s 273ms/step - loss: 0.3206 - accuracy: 0.8640 - precision: 0.7845 - recall: 0.8218 - val_loss: 0.2814 - val_accuracy: 0.8773 - val_precision: 0.8495 - val_recall: 0.8860\n",
      "Epoch 122/180\n",
      "334/334 [==============================] - 87s 261ms/step - loss: 0.3200 - accuracy: 0.8646 - precision: 0.7881 - recall: 0.8222 - val_loss: 0.2849 - val_accuracy: 0.8778 - val_precision: 0.8432 - val_recall: 0.8922\n",
      "Epoch 123/180\n",
      "334/334 [==============================] - 96s 288ms/step - loss: 0.3234 - accuracy: 0.8632 - precision: 0.7890 - recall: 0.8212 - val_loss: 0.2792 - val_accuracy: 0.8784 - val_precision: 0.8563 - val_recall: 0.8837\n",
      "Epoch 124/180\n",
      "334/334 [==============================] - 96s 285ms/step - loss: 0.3247 - accuracy: 0.8620 - precision: 0.7893 - recall: 0.8095 - val_loss: 0.2921 - val_accuracy: 0.8792 - val_precision: 0.8583 - val_recall: 0.8660\n",
      "Epoch 125/180\n",
      "334/334 [==============================] - 100s 298ms/step - loss: 0.3140 - accuracy: 0.8648 - precision: 0.7908 - recall: 0.8175 - val_loss: 0.2815 - val_accuracy: 0.8756 - val_precision: 0.8436 - val_recall: 0.8950\n",
      "Epoch 126/180\n",
      "334/334 [==============================] - 99s 295ms/step - loss: 0.3189 - accuracy: 0.8606 - precision: 0.7898 - recall: 0.8180 - val_loss: 0.2788 - val_accuracy: 0.8795 - val_precision: 0.8605 - val_recall: 0.8764\n",
      "Epoch 127/180\n",
      "334/334 [==============================] - 96s 285ms/step - loss: 0.3197 - accuracy: 0.8623 - precision: 0.7853 - recall: 0.8147 - val_loss: 0.2805 - val_accuracy: 0.8790 - val_precision: 0.8572 - val_recall: 0.8835\n",
      "Epoch 128/180\n",
      "334/334 [==============================] - 92s 276ms/step - loss: 0.3169 - accuracy: 0.8639 - precision: 0.7850 - recall: 0.8171 - val_loss: 0.2886 - val_accuracy: 0.8778 - val_precision: 0.8405 - val_recall: 0.8941\n",
      "Epoch 129/180\n",
      "334/334 [==============================] - 92s 275ms/step - loss: 0.3126 - accuracy: 0.8655 - precision: 0.7912 - recall: 0.8233 - val_loss: 0.2831 - val_accuracy: 0.8773 - val_precision: 0.8425 - val_recall: 0.8969\n",
      "Epoch 130/180\n",
      "334/334 [==============================] - 91s 273ms/step - loss: 0.3159 - accuracy: 0.8655 - precision: 0.7892 - recall: 0.8182 - val_loss: 0.2775 - val_accuracy: 0.8809 - val_precision: 0.8390 - val_recall: 0.9073\n",
      "Epoch 131/180\n",
      "334/334 [==============================] - 95s 283ms/step - loss: 0.3224 - accuracy: 0.8618 - precision: 0.7870 - recall: 0.8217 - val_loss: 0.2748 - val_accuracy: 0.8812 - val_precision: 0.8502 - val_recall: 0.8896\n",
      "Epoch 132/180\n",
      "334/334 [==============================] - 93s 277ms/step - loss: 0.3131 - accuracy: 0.8642 - precision: 0.7896 - recall: 0.8178 - val_loss: 0.2791 - val_accuracy: 0.8792 - val_precision: 0.8413 - val_recall: 0.8933\n",
      "Epoch 133/180\n",
      "334/334 [==============================] - 92s 275ms/step - loss: 0.3116 - accuracy: 0.8654 - precision: 0.7911 - recall: 0.8252 - val_loss: 0.2743 - val_accuracy: 0.8821 - val_precision: 0.8353 - val_recall: 0.9085\n",
      "Epoch 134/180\n",
      "334/334 [==============================] - 92s 276ms/step - loss: 0.3096 - accuracy: 0.8668 - precision: 0.7901 - recall: 0.8237 - val_loss: 0.2790 - val_accuracy: 0.8818 - val_precision: 0.8447 - val_recall: 0.8936\n",
      "Epoch 135/180\n",
      "334/334 [==============================] - 92s 275ms/step - loss: 0.3134 - accuracy: 0.8688 - precision: 0.7909 - recall: 0.8242 - val_loss: 0.2837 - val_accuracy: 0.8787 - val_precision: 0.8337 - val_recall: 0.9037\n",
      "Epoch 136/180\n",
      "334/334 [==============================] - 91s 273ms/step - loss: 0.3035 - accuracy: 0.8723 - precision: 0.7943 - recall: 0.8306 - val_loss: 0.2850 - val_accuracy: 0.8787 - val_precision: 0.8334 - val_recall: 0.9031\n",
      "Epoch 137/180\n",
      "334/334 [==============================] - 93s 277ms/step - loss: 0.3013 - accuracy: 0.8730 - precision: 0.7902 - recall: 0.8286 - val_loss: 0.2875 - val_accuracy: 0.8776 - val_precision: 0.8393 - val_recall: 0.8933\n",
      "Epoch 138/180\n",
      "334/334 [==============================] - 93s 279ms/step - loss: 0.3155 - accuracy: 0.8677 - precision: 0.7908 - recall: 0.8215 - val_loss: 0.2715 - val_accuracy: 0.8821 - val_precision: 0.8387 - val_recall: 0.9051\n",
      "Epoch 139/180\n",
      "334/334 [==============================] - 98s 292ms/step - loss: 0.3067 - accuracy: 0.8689 - precision: 0.7894 - recall: 0.8277 - val_loss: 0.2755 - val_accuracy: 0.8812 - val_precision: 0.8537 - val_recall: 0.8927\n",
      "Epoch 140/180\n",
      "334/334 [==============================] - 95s 283ms/step - loss: 0.3200 - accuracy: 0.8652 - precision: 0.7911 - recall: 0.8165 - val_loss: 0.2735 - val_accuracy: 0.8821 - val_precision: 0.8568 - val_recall: 0.8871\n",
      "Epoch 141/180\n",
      "334/334 [==============================] - 95s 284ms/step - loss: 0.3097 - accuracy: 0.8688 - precision: 0.7877 - recall: 0.8313 - val_loss: 0.2782 - val_accuracy: 0.8826 - val_precision: 0.8472 - val_recall: 0.8986\n",
      "Epoch 142/180\n",
      "334/334 [==============================] - 94s 282ms/step - loss: 0.3062 - accuracy: 0.8704 - precision: 0.7938 - recall: 0.8218 - val_loss: 0.2746 - val_accuracy: 0.8829 - val_precision: 0.8460 - val_recall: 0.9012\n",
      "Epoch 143/180\n",
      "334/334 [==============================] - 92s 276ms/step - loss: 0.3124 - accuracy: 0.8672 - precision: 0.7922 - recall: 0.8177 - val_loss: 0.2727 - val_accuracy: 0.8851 - val_precision: 0.8288 - val_recall: 0.9124\n",
      "Epoch 144/180\n",
      "334/334 [==============================] - 92s 275ms/step - loss: 0.3091 - accuracy: 0.8629 - precision: 0.7932 - recall: 0.8246 - val_loss: 0.2709 - val_accuracy: 0.8821 - val_precision: 0.8452 - val_recall: 0.9014\n",
      "Epoch 145/180\n",
      "334/334 [==============================] - 93s 277ms/step - loss: 0.3101 - accuracy: 0.8672 - precision: 0.7906 - recall: 0.8227 - val_loss: 0.2754 - val_accuracy: 0.8829 - val_precision: 0.8351 - val_recall: 0.9076\n",
      "Epoch 146/180\n",
      "334/334 [==============================] - 94s 280ms/step - loss: 0.3113 - accuracy: 0.8675 - precision: 0.7918 - recall: 0.8179 - val_loss: 0.2764 - val_accuracy: 0.8829 - val_precision: 0.8311 - val_recall: 0.9149\n",
      "Epoch 147/180\n",
      "334/334 [==============================] - 97s 289ms/step - loss: 0.3062 - accuracy: 0.8677 - precision: 0.7938 - recall: 0.8198 - val_loss: 0.2714 - val_accuracy: 0.8840 - val_precision: 0.8436 - val_recall: 0.9026\n",
      "Epoch 148/180\n",
      "334/334 [==============================] - 110s 328ms/step - loss: 0.3113 - accuracy: 0.8666 - precision: 0.7930 - recall: 0.8243 - val_loss: 0.2711 - val_accuracy: 0.8880 - val_precision: 0.8482 - val_recall: 0.9020\n",
      "Epoch 149/180\n",
      "334/334 [==============================] - 102s 305ms/step - loss: 0.3020 - accuracy: 0.8704 - precision: 0.7956 - recall: 0.8242 - val_loss: 0.3035 - val_accuracy: 0.8750 - val_precision: 0.8109 - val_recall: 0.9079\n",
      "Epoch 150/180\n",
      "334/334 [==============================] - 95s 285ms/step - loss: 0.3005 - accuracy: 0.8692 - precision: 0.7918 - recall: 0.8218 - val_loss: 0.2712 - val_accuracy: 0.8865 - val_precision: 0.8421 - val_recall: 0.9031\n",
      "Epoch 151/180\n",
      "334/334 [==============================] - 97s 290ms/step - loss: 0.3092 - accuracy: 0.8706 - precision: 0.7880 - recall: 0.8247 - val_loss: 0.2673 - val_accuracy: 0.8880 - val_precision: 0.8516 - val_recall: 0.9054\n",
      "Epoch 152/180\n",
      "334/334 [==============================] - 98s 292ms/step - loss: 0.2947 - accuracy: 0.8709 - precision: 0.7959 - recall: 0.8237 - val_loss: 0.2755 - val_accuracy: 0.8843 - val_precision: 0.8391 - val_recall: 0.9107\n",
      "Epoch 153/180\n",
      "334/334 [==============================] - 97s 290ms/step - loss: 0.3005 - accuracy: 0.8736 - precision: 0.7965 - recall: 0.8240 - val_loss: 0.2710 - val_accuracy: 0.8840 - val_precision: 0.8639 - val_recall: 0.8826\n",
      "Epoch 154/180\n",
      "334/334 [==============================] - 95s 283ms/step - loss: 0.3021 - accuracy: 0.8684 - precision: 0.7995 - recall: 0.8285 - val_loss: 0.2684 - val_accuracy: 0.8880 - val_precision: 0.8503 - val_recall: 0.8981\n",
      "Epoch 155/180\n",
      "334/334 [==============================] - 96s 285ms/step - loss: 0.3021 - accuracy: 0.8718 - precision: 0.7953 - recall: 0.8259 - val_loss: 0.2767 - val_accuracy: 0.8854 - val_precision: 0.8555 - val_recall: 0.8975\n",
      "Epoch 156/180\n",
      "334/334 [==============================] - 91s 271ms/step - loss: 0.2999 - accuracy: 0.8744 - precision: 0.7963 - recall: 0.8238 - val_loss: 0.2704 - val_accuracy: 0.8860 - val_precision: 0.8551 - val_recall: 0.8919\n",
      "Epoch 157/180\n",
      "334/334 [==============================] - 89s 265ms/step - loss: 0.3020 - accuracy: 0.8729 - precision: 0.7988 - recall: 0.8277 - val_loss: 0.2670 - val_accuracy: 0.8860 - val_precision: 0.8575 - val_recall: 0.8919\n",
      "Epoch 158/180\n",
      "334/334 [==============================] - 92s 275ms/step - loss: 0.2930 - accuracy: 0.8753 - precision: 0.7938 - recall: 0.8273 - val_loss: 0.2668 - val_accuracy: 0.8874 - val_precision: 0.8517 - val_recall: 0.8981\n",
      "Epoch 159/180\n",
      "334/334 [==============================] - 96s 288ms/step - loss: 0.2955 - accuracy: 0.8728 - precision: 0.7963 - recall: 0.8250 - val_loss: 0.2652 - val_accuracy: 0.8857 - val_precision: 0.8605 - val_recall: 0.8888\n",
      "Epoch 160/180\n",
      "334/334 [==============================] - 99s 296ms/step - loss: 0.2983 - accuracy: 0.8713 - precision: 0.7984 - recall: 0.8282 - val_loss: 0.2706 - val_accuracy: 0.8868 - val_precision: 0.8531 - val_recall: 0.8936\n",
      "Epoch 161/180\n",
      "334/334 [==============================] - 92s 274ms/step - loss: 0.2967 - accuracy: 0.8713 - precision: 0.7976 - recall: 0.8276 - val_loss: 0.2751 - val_accuracy: 0.8837 - val_precision: 0.8408 - val_recall: 0.9003\n",
      "Epoch 162/180\n",
      "334/334 [==============================] - 96s 288ms/step - loss: 0.2996 - accuracy: 0.8725 - precision: 0.7941 - recall: 0.8342 - val_loss: 0.2789 - val_accuracy: 0.8837 - val_precision: 0.8434 - val_recall: 0.8981\n",
      "Epoch 163/180\n",
      "334/334 [==============================] - 96s 287ms/step - loss: 0.2973 - accuracy: 0.8712 - precision: 0.7963 - recall: 0.8321 - val_loss: 0.2684 - val_accuracy: 0.8874 - val_precision: 0.8461 - val_recall: 0.9031\n",
      "Epoch 164/180\n",
      "334/334 [==============================] - 89s 265ms/step - loss: 0.2931 - accuracy: 0.8745 - precision: 0.7959 - recall: 0.8311 - val_loss: 0.2701 - val_accuracy: 0.8865 - val_precision: 0.8444 - val_recall: 0.8961\n",
      "Epoch 165/180\n",
      "334/334 [==============================] - 93s 277ms/step - loss: 0.2990 - accuracy: 0.8751 - precision: 0.7958 - recall: 0.8317 - val_loss: 0.2715 - val_accuracy: 0.8857 - val_precision: 0.8481 - val_recall: 0.9017\n",
      "Epoch 166/180\n",
      "334/334 [==============================] - 97s 289ms/step - loss: 0.2990 - accuracy: 0.8706 - precision: 0.7896 - recall: 0.8296 - val_loss: 0.2789 - val_accuracy: 0.8843 - val_precision: 0.8640 - val_recall: 0.8632\n",
      "Epoch 167/180\n",
      "334/334 [==============================] - 98s 294ms/step - loss: 0.2944 - accuracy: 0.8718 - precision: 0.7953 - recall: 0.8340 - val_loss: 0.2643 - val_accuracy: 0.8860 - val_precision: 0.8549 - val_recall: 0.8981\n",
      "Epoch 168/180\n",
      "334/334 [==============================] - 96s 286ms/step - loss: 0.2855 - accuracy: 0.8758 - precision: 0.7986 - recall: 0.8354 - val_loss: 0.2669 - val_accuracy: 0.8849 - val_precision: 0.8456 - val_recall: 0.9000\n",
      "Epoch 169/180\n",
      "334/334 [==============================] - 93s 279ms/step - loss: 0.3026 - accuracy: 0.8713 - precision: 0.7943 - recall: 0.8308 - val_loss: 0.2638 - val_accuracy: 0.8860 - val_precision: 0.8437 - val_recall: 0.9093\n",
      "Epoch 170/180\n",
      "334/334 [==============================] - 94s 280ms/step - loss: 0.2942 - accuracy: 0.8729 - precision: 0.7966 - recall: 0.8344 - val_loss: 0.2780 - val_accuracy: 0.8801 - val_precision: 0.8461 - val_recall: 0.9048\n",
      "Epoch 171/180\n",
      "334/334 [==============================] - 96s 287ms/step - loss: 0.2892 - accuracy: 0.8771 - precision: 0.7971 - recall: 0.8327 - val_loss: 0.2660 - val_accuracy: 0.8874 - val_precision: 0.8504 - val_recall: 0.9096\n",
      "Epoch 172/180\n",
      "334/334 [==============================] - 96s 286ms/step - loss: 0.2920 - accuracy: 0.8834 - precision: 0.8039 - recall: 0.8344 - val_loss: 0.2634 - val_accuracy: 0.8874 - val_precision: 0.8568 - val_recall: 0.9020\n",
      "Epoch 173/180\n",
      "334/334 [==============================] - 92s 276ms/step - loss: 0.2941 - accuracy: 0.8728 - precision: 0.7970 - recall: 0.8336 - val_loss: 0.2743 - val_accuracy: 0.8823 - val_precision: 0.8461 - val_recall: 0.9045\n",
      "Epoch 174/180\n",
      "334/334 [==============================] - 95s 284ms/step - loss: 0.2981 - accuracy: 0.8732 - precision: 0.7986 - recall: 0.8299 - val_loss: 0.2627 - val_accuracy: 0.8877 - val_precision: 0.8594 - val_recall: 0.9031\n",
      "Epoch 175/180\n",
      "334/334 [==============================] - 95s 285ms/step - loss: 0.2914 - accuracy: 0.8761 - precision: 0.7988 - recall: 0.8312 - val_loss: 0.2728 - val_accuracy: 0.8851 - val_precision: 0.8445 - val_recall: 0.9059\n",
      "Epoch 176/180\n",
      "334/334 [==============================] - 94s 281ms/step - loss: 0.2963 - accuracy: 0.8735 - precision: 0.7995 - recall: 0.8319 - val_loss: 0.2637 - val_accuracy: 0.8851 - val_precision: 0.8601 - val_recall: 0.8997\n",
      "Epoch 177/180\n",
      "334/334 [==============================] - 93s 278ms/step - loss: 0.2929 - accuracy: 0.8730 - precision: 0.7995 - recall: 0.8319 - val_loss: 0.2773 - val_accuracy: 0.8860 - val_precision: 0.8403 - val_recall: 0.9040\n",
      "Epoch 178/180\n",
      "334/334 [==============================] - 91s 271ms/step - loss: 0.2912 - accuracy: 0.8757 - precision: 0.7970 - recall: 0.8271 - val_loss: 0.2611 - val_accuracy: 0.8896 - val_precision: 0.8535 - val_recall: 0.9034\n",
      "Epoch 179/180\n",
      "334/334 [==============================] - 90s 268ms/step - loss: 0.2994 - accuracy: 0.8721 - precision: 0.7958 - recall: 0.8291 - val_loss: 0.2653 - val_accuracy: 0.8899 - val_precision: 0.8677 - val_recall: 0.8863\n",
      "Epoch 180/180\n",
      "334/334 [==============================] - 91s 273ms/step - loss: 0.2960 - accuracy: 0.8739 - precision: 0.7961 - recall: 0.8350 - val_loss: 0.2592 - val_accuracy: 0.8908 - val_precision: 0.8472 - val_recall: 0.9186\n"
     ]
    }
   ],
   "source": [
    "# training the model\n",
    "\n",
    "# with tf.device('/cpu:0'): # enabling cpu to train the model\n",
    "history = model.fit(train_dataset, epochs=180, validation_data=test_dataset,)"
   ]
  },
  {
   "cell_type": "code",
   "execution_count": 23,
   "id": "fa006c6a-6110-4473-badc-a47e7c87c76f",
   "metadata": {},
   "outputs": [
    {
     "data": {
      "image/png": "[encoded data removed]",
      "text/plain": [
       "<Figure size 640x480 with 1 Axes>"
      ]
     },
     "metadata": {},
     "output_type": "display_data"
    },
    {
     "data": {
      "image/png": "[encoded data removed]",
      "text/plain": [
       "<Figure size 640x480 with 1 Axes>"
      ]
     },
     "metadata": {},
     "output_type": "display_data"
    }
   ],
   "source": [
    "plt.plot(history.history['accuracy'])\n",
    "plt.plot(history.history['loss'])\n",
    "plt.plot(history.history['precision'])\n",
    "\n",
    "plt.ylabel('rate')\n",
    "plt.xlabel('epoch')\n",
    "plt.legend(['accuracy','loss','precision'])\n",
    "plt.show()\n",
    "\n",
    "\n",
    "plt.plot(history.history['val_loss'])\n",
    "plt.plot(history.history['val_accuracy'])\n",
    "plt.plot(history.history['val_precision'])\n",
    "\n",
    "plt.ylabel('rate')\n",
    "plt.xlabel('epoch')\n",
    "plt.legend(['val_loss', 'val_accuracy', 'val_precision'])\n",
    "plt.show()"
   ]
  },
  {
   "cell_type": "code",
   "execution_count": 50,
   "id": "8dde1fd3-1494-415a-acc6-fef6698116e7",
   "metadata": {},
   "outputs": [
    {
     "name": "stdout",
     "output_type": "stream",
     "text": [
      "Saved model to disk\n"
     ]
    }
   ],
   "source": [
    "# saving the model locally\n",
    "\n",
    "model.save(\"melanoma-VGG16base-model.h5\")\n",
    "print(\"Saved model to disk\")"
   ]
  },
  {
   "cell_type": "markdown",
   "id": "611e57c2-322f-432e-915f-3edb9a593796",
   "metadata": {},
   "source": [
    "### Validation"
   ]
  },
  {
   "cell_type": "code",
   "execution_count": 24,
   "id": "f5ebba2a-5c12-4e1d-9291-769b616dbaf0",
   "metadata": {},
   "outputs": [],
   "source": [
    "# Initializing validation variables\n",
    "\n",
    "validation_filenames = []\n",
    "validation_images = []\n",
    "validation_labels = []\n",
    "validation_path = './DermMel/valid/'\n",
    "\n",
    "# Invoking read_image() in order to read the images from the path and to store in the above initialized array\n",
    "\n",
    "read_image(path=validation_path, images=validation_images, labels=validation_labels, filenames=validation_filenames)"
   ]
  },
  {
   "cell_type": "markdown",
   "id": "8931d92a-d075-46cd-8c2d-af1967ec4865",
   "metadata": {},
   "source": [
    "### Validation Data"
   ]
  },
  {
   "cell_type": "code",
   "execution_count": 25,
   "id": "97941fd9-7fdc-42f6-b6c6-7270245ff19a",
   "metadata": {},
   "outputs": [
    {
     "data": {
      "text/html": [
       "<div>\n",
       "<style scoped>\n",
       "    .dataframe tbody tr th:only-of-type {\n",
       "        vertical-align: middle;\n",
       "    }\n",
       "\n",
       "    .dataframe tbody tr th {\n",
       "        vertical-align: top;\n",
       "    }\n",
       "\n",
       "    .dataframe thead th {\n",
       "        text-align: right;\n",
       "    }\n",
       "</style>\n",
       "<table border=\"1\" class=\"dataframe\">\n",
       "  <thead>\n",
       "    <tr style=\"text-align: right;\">\n",
       "      <th></th>\n",
       "      <th>filename</th>\n",
       "      <th>category</th>\n",
       "    </tr>\n",
       "  </thead>\n",
       "  <tbody>\n",
       "    <tr>\n",
       "      <th>0</th>\n",
       "      <td>Melanoma/AUGmented_0_1006.jpeg</td>\n",
       "      <td>Melanoma</td>\n",
       "    </tr>\n",
       "    <tr>\n",
       "      <th>1</th>\n",
       "      <td>Melanoma/AUGmented_0_1058.jpeg</td>\n",
       "      <td>Melanoma</td>\n",
       "    </tr>\n",
       "    <tr>\n",
       "      <th>2</th>\n",
       "      <td>Melanoma/AUGmented_0_110.jpeg</td>\n",
       "      <td>Melanoma</td>\n",
       "    </tr>\n",
       "    <tr>\n",
       "      <th>3</th>\n",
       "      <td>Melanoma/AUGmented_0_1108.jpeg</td>\n",
       "      <td>Melanoma</td>\n",
       "    </tr>\n",
       "    <tr>\n",
       "      <th>4</th>\n",
       "      <td>Melanoma/AUGmented_0_1140.jpeg</td>\n",
       "      <td>Melanoma</td>\n",
       "    </tr>\n",
       "    <tr>\n",
       "      <th>...</th>\n",
       "      <td>...</td>\n",
       "      <td>...</td>\n",
       "    </tr>\n",
       "    <tr>\n",
       "      <th>3557</th>\n",
       "      <td>NotMelanoma/ISIC_0034292.jpg</td>\n",
       "      <td>NotMelanoma</td>\n",
       "    </tr>\n",
       "    <tr>\n",
       "      <th>3558</th>\n",
       "      <td>NotMelanoma/ISIC_0034297.jpg</td>\n",
       "      <td>NotMelanoma</td>\n",
       "    </tr>\n",
       "    <tr>\n",
       "      <th>3559</th>\n",
       "      <td>NotMelanoma/ISIC_0034305.jpg</td>\n",
       "      <td>NotMelanoma</td>\n",
       "    </tr>\n",
       "    <tr>\n",
       "      <th>3560</th>\n",
       "      <td>NotMelanoma/ISIC_0034308.jpg</td>\n",
       "      <td>NotMelanoma</td>\n",
       "    </tr>\n",
       "    <tr>\n",
       "      <th>3561</th>\n",
       "      <td>NotMelanoma/ISIC_0034310.jpg</td>\n",
       "      <td>NotMelanoma</td>\n",
       "    </tr>\n",
       "  </tbody>\n",
       "</table>\n",
       "<p>3562 rows × 2 columns</p>\n",
       "</div>"
      ],
      "text/plain": [
       "                            filename     category\n",
       "0     Melanoma/AUGmented_0_1006.jpeg     Melanoma\n",
       "1     Melanoma/AUGmented_0_1058.jpeg     Melanoma\n",
       "2      Melanoma/AUGmented_0_110.jpeg     Melanoma\n",
       "3     Melanoma/AUGmented_0_1108.jpeg     Melanoma\n",
       "4     Melanoma/AUGmented_0_1140.jpeg     Melanoma\n",
       "...                              ...          ...\n",
       "3557    NotMelanoma/ISIC_0034292.jpg  NotMelanoma\n",
       "3558    NotMelanoma/ISIC_0034297.jpg  NotMelanoma\n",
       "3559    NotMelanoma/ISIC_0034305.jpg  NotMelanoma\n",
       "3560    NotMelanoma/ISIC_0034308.jpg  NotMelanoma\n",
       "3561    NotMelanoma/ISIC_0034310.jpg  NotMelanoma\n",
       "\n",
       "[3562 rows x 2 columns]"
      ]
     },
     "execution_count": 25,
     "metadata": {},
     "output_type": "execute_result"
    }
   ],
   "source": [
    "# Test dataframe made from create_dataframe()\n",
    "\n",
    "val_df = create_dataframe(filenames=validation_filenames, labels=validation_labels)\n",
    "val_df"
   ]
  },
  {
   "cell_type": "code",
   "execution_count": 26,
   "id": "2fe4926b-b001-453a-a1df-15a74913f95d",
   "metadata": {
    "tags": []
   },
   "outputs": [
    {
     "data": {
      "image/png": "[encoded data removed]",
      "text/plain": [
       "<Figure size 640x480 with 1 Axes>"
      ]
     },
     "metadata": {},
     "output_type": "display_data"
    }
   ],
   "source": [
    "# Invoking draw_count_plot()\n",
    "\n",
    "draw_countplot(dataframe=val_df, y_axis='category', title='Validation Data')"
   ]
  },
  {
   "cell_type": "markdown",
   "id": "7fdb0d5e-2142-46da-a9d2-8fe39e98de27",
   "metadata": {},
   "source": [
    "### pre-processing and validation dataset creation"
   ]
  },
  {
   "cell_type": "code",
   "execution_count": 27,
   "id": "621dacbb-3f4e-4cad-af85-8380552ff825",
   "metadata": {},
   "outputs": [
    {
     "name": "stdout",
     "output_type": "stream",
     "text": [
      "Found 3562 non-validated image filenames belonging to 2 classes.\n"
     ]
    }
   ],
   "source": [
    "# pre-processing test data\n",
    "\n",
    "val_datag=ImageDataGenerator(rescale=1./255) # converting the pixels of image between o's and 1's\n",
    "\n",
    "# Getting test images using flow_from_datafram()\n",
    "\n",
    "val_dataset=val_datag.flow_from_dataframe(dataframe=val_df, # dataframe name\n",
    "                                            directory=validation_path, # path\n",
    "                                            x_col=\"filename\", # x_col value\n",
    "                                            y_col=\"category\", # y_col value\n",
    "                                            color_mode='rgb', # color of the image used 'rgb' as the dataset contain rgb image\n",
    "                                            target_size=Image_Size, # setting the size of image\n",
    "                                            batch_size=32,  # mini-batch gradient descent (takes 32 images in one go)\n",
    "                                            \n",
    "                                            # while generating the test_dataset the machine won't validate names, due to some non-acceptable names someof the images are not read by the machine so to avoid that this param is used\n",
    "                                            validate_filenames=False, # whether to validate names or not \n",
    "                                          \n",
    "                                            shuffle=False, # made shuffle to false in order to make sure that the test dataset isn't shuffled\n",
    "                                            class_mode='categorical', # categorical is chosen as it is the classification problem\n",
    "                                           )"
   ]
  },
  {
   "cell_type": "code",
   "execution_count": 28,
   "id": "288e540d-1f78-4d71-8055-6a15b9bdc564",
   "metadata": {},
   "outputs": [
    {
     "data": {
      "text/plain": [
       "{'Melanoma': 0, 'NotMelanoma': 1}"
      ]
     },
     "execution_count": 28,
     "metadata": {},
     "output_type": "execute_result"
    }
   ],
   "source": [
    "test_dataset.class_indices #gives the key for the target values"
   ]
  },
  {
   "cell_type": "code",
   "execution_count": 29,
   "id": "3a8a5fc9-d512-45f1-bf75-115c1078ee50",
   "metadata": {},
   "outputs": [
    {
     "data": {
      "text/plain": [
       "{'Melanoma': 0, 'NotMelanoma': 1}"
      ]
     },
     "execution_count": 29,
     "metadata": {},
     "output_type": "execute_result"
    }
   ],
   "source": [
    "val_dataset.class_indices #gives the key for the target values"
   ]
  },
  {
   "cell_type": "markdown",
   "id": "9f0a7a60-7bda-4477-9dd2-08bff4e8aef8",
   "metadata": {},
   "source": [
    "### **Predicting**"
   ]
  },
  {
   "cell_type": "markdown",
   "id": "888160d7-8f6a-40c9-85dd-2a2958299ede",
   "metadata": {},
   "source": [
    "#### test_df"
   ]
  },
  {
   "cell_type": "code",
   "execution_count": 30,
   "id": "95b218f8-6e75-4fbb-a178-cbc4c2b7a2cb",
   "metadata": {},
   "outputs": [
    {
     "name": "stdout",
     "output_type": "stream",
     "text": [
      "112/112 [==============================] - 20s 178ms/step\n"
     ]
    }
   ],
   "source": [
    "# predicting the model with test dataset\n",
    "\n",
    "# with tf.device('/cpu:0'):\n",
    "test_pred=model.predict(test_dataset)"
   ]
  },
  {
   "cell_type": "code",
   "execution_count": 31,
   "id": "786b0144-a644-4158-8a38-0d607197d89a",
   "metadata": {},
   "outputs": [],
   "source": [
    "# getting the index of the highest value\n",
    "\n",
    "test_df[\"predict\"]=np.argmax(test_pred,axis=1)"
   ]
  },
  {
   "cell_type": "code",
   "execution_count": 32,
   "id": "f9aa38ee-f548-4a79-9121-ac2cf4a84afa",
   "metadata": {},
   "outputs": [],
   "source": [
    "# Assigning the class names for the keys in predict column of the test_df\n",
    "\n",
    "test_df[\"predict_c\"]=test_df[\"predict\"].map({0:\"Melanoma\",1:\"NotMelanoma\"})"
   ]
  },
  {
   "cell_type": "code",
   "execution_count": 33,
   "id": "515e04bd-f6a4-4bcf-ae5a-98ab923d4e3a",
   "metadata": {},
   "outputs": [
    {
     "data": {
      "text/html": [
       "<div>\n",
       "<style scoped>\n",
       "    .dataframe tbody tr th:only-of-type {\n",
       "        vertical-align: middle;\n",
       "    }\n",
       "\n",
       "    .dataframe tbody tr th {\n",
       "        vertical-align: top;\n",
       "    }\n",
       "\n",
       "    .dataframe thead th {\n",
       "        text-align: right;\n",
       "    }\n",
       "</style>\n",
       "<table border=\"1\" class=\"dataframe\">\n",
       "  <thead>\n",
       "    <tr style=\"text-align: right;\">\n",
       "      <th></th>\n",
       "      <th>filename</th>\n",
       "      <th>category</th>\n",
       "      <th>predict</th>\n",
       "      <th>predict_c</th>\n",
       "    </tr>\n",
       "  </thead>\n",
       "  <tbody>\n",
       "    <tr>\n",
       "      <th>0</th>\n",
       "      <td>Melanoma/AUGmented_0_1015.jpeg</td>\n",
       "      <td>Melanoma</td>\n",
       "      <td>0</td>\n",
       "      <td>Melanoma</td>\n",
       "    </tr>\n",
       "    <tr>\n",
       "      <th>1</th>\n",
       "      <td>Melanoma/AUGmented_0_1036.jpeg</td>\n",
       "      <td>Melanoma</td>\n",
       "      <td>0</td>\n",
       "      <td>Melanoma</td>\n",
       "    </tr>\n",
       "    <tr>\n",
       "      <th>2</th>\n",
       "      <td>Melanoma/AUGmented_0_1093.jpeg</td>\n",
       "      <td>Melanoma</td>\n",
       "      <td>0</td>\n",
       "      <td>Melanoma</td>\n",
       "    </tr>\n",
       "    <tr>\n",
       "      <th>3</th>\n",
       "      <td>Melanoma/AUGmented_0_1110.jpeg</td>\n",
       "      <td>Melanoma</td>\n",
       "      <td>0</td>\n",
       "      <td>Melanoma</td>\n",
       "    </tr>\n",
       "    <tr>\n",
       "      <th>4</th>\n",
       "      <td>Melanoma/AUGmented_0_1114.jpeg</td>\n",
       "      <td>Melanoma</td>\n",
       "      <td>0</td>\n",
       "      <td>Melanoma</td>\n",
       "    </tr>\n",
       "    <tr>\n",
       "      <th>...</th>\n",
       "      <td>...</td>\n",
       "      <td>...</td>\n",
       "      <td>...</td>\n",
       "      <td>...</td>\n",
       "    </tr>\n",
       "    <tr>\n",
       "      <th>3556</th>\n",
       "      <td>NotMelanoma/ISIC_0034257.jpg</td>\n",
       "      <td>NotMelanoma</td>\n",
       "      <td>1</td>\n",
       "      <td>NotMelanoma</td>\n",
       "    </tr>\n",
       "    <tr>\n",
       "      <th>3557</th>\n",
       "      <td>NotMelanoma/ISIC_0034260.jpg</td>\n",
       "      <td>NotMelanoma</td>\n",
       "      <td>0</td>\n",
       "      <td>Melanoma</td>\n",
       "    </tr>\n",
       "    <tr>\n",
       "      <th>3558</th>\n",
       "      <td>NotMelanoma/ISIC_0034278.jpg</td>\n",
       "      <td>NotMelanoma</td>\n",
       "      <td>0</td>\n",
       "      <td>Melanoma</td>\n",
       "    </tr>\n",
       "    <tr>\n",
       "      <th>3559</th>\n",
       "      <td>NotMelanoma/ISIC_0034309.jpg</td>\n",
       "      <td>NotMelanoma</td>\n",
       "      <td>1</td>\n",
       "      <td>NotMelanoma</td>\n",
       "    </tr>\n",
       "    <tr>\n",
       "      <th>3560</th>\n",
       "      <td>NotMelanoma/ISIC_0034311.jpg</td>\n",
       "      <td>NotMelanoma</td>\n",
       "      <td>0</td>\n",
       "      <td>Melanoma</td>\n",
       "    </tr>\n",
       "  </tbody>\n",
       "</table>\n",
       "<p>3561 rows × 4 columns</p>\n",
       "</div>"
      ],
      "text/plain": [
       "                            filename     category  predict    predict_c\n",
       "0     Melanoma/AUGmented_0_1015.jpeg     Melanoma        0     Melanoma\n",
       "1     Melanoma/AUGmented_0_1036.jpeg     Melanoma        0     Melanoma\n",
       "2     Melanoma/AUGmented_0_1093.jpeg     Melanoma        0     Melanoma\n",
       "3     Melanoma/AUGmented_0_1110.jpeg     Melanoma        0     Melanoma\n",
       "4     Melanoma/AUGmented_0_1114.jpeg     Melanoma        0     Melanoma\n",
       "...                              ...          ...      ...          ...\n",
       "3556    NotMelanoma/ISIC_0034257.jpg  NotMelanoma        1  NotMelanoma\n",
       "3557    NotMelanoma/ISIC_0034260.jpg  NotMelanoma        0     Melanoma\n",
       "3558    NotMelanoma/ISIC_0034278.jpg  NotMelanoma        0     Melanoma\n",
       "3559    NotMelanoma/ISIC_0034309.jpg  NotMelanoma        1  NotMelanoma\n",
       "3560    NotMelanoma/ISIC_0034311.jpg  NotMelanoma        0     Melanoma\n",
       "\n",
       "[3561 rows x 4 columns]"
      ]
     },
     "execution_count": 33,
     "metadata": {},
     "output_type": "execute_result"
    }
   ],
   "source": [
    "# dispaying the dataframe\n",
    "\n",
    "test_df"
   ]
  },
  {
   "cell_type": "code",
   "execution_count": 34,
   "id": "1a4600b7-af19-4967-92d7-e5af3762fa46",
   "metadata": {},
   "outputs": [
    {
     "data": {
      "image/png": "[encoded data removed]",
      "text/plain": [
       "<Figure size 640x480 with 1 Axes>"
      ]
     },
     "metadata": {},
     "output_type": "display_data"
    }
   ],
   "source": [
    "# Invoking draw_countplot()\n",
    "\n",
    "draw_countplot(dataframe=test_df, y_axis='category', title='Test Data')"
   ]
  },
  {
   "cell_type": "code",
   "execution_count": 35,
   "id": "4234496c-9168-4819-8ba2-536afee9a0a2",
   "metadata": {},
   "outputs": [
    {
     "data": {
      "image/png": "[encoded data removed]",
      "text/plain": [
       "<Figure size 640x480 with 1 Axes>"
      ]
     },
     "metadata": {},
     "output_type": "display_data"
    }
   ],
   "source": [
    "# Invoking draw_countplot()\n",
    "\n",
    "draw_countplot(dataframe=test_df, y_axis='predict_c', title='Predicted Data of test data')"
   ]
  },
  {
   "cell_type": "code",
   "execution_count": 36,
   "id": "a4f41467-b5b1-4c79-840c-25b638e178c2",
   "metadata": {},
   "outputs": [
    {
     "data": {
      "text/plain": [
       "NotMelanoma    1821\n",
       "Melanoma       1740\n",
       "Name: predict_c, dtype: int64"
      ]
     },
     "execution_count": 36,
     "metadata": {},
     "output_type": "execute_result"
    }
   ],
   "source": [
    "# Returns the number of data in each category, the predicted count\n",
    "\n",
    "test_df['predict_c'].value_counts()"
   ]
  },
  {
   "cell_type": "code",
   "execution_count": 37,
   "id": "aec59048-ca21-4392-92bd-9b7aa4869870",
   "metadata": {},
   "outputs": [
    {
     "data": {
      "text/plain": [
       "Melanoma       1781\n",
       "NotMelanoma    1780\n",
       "Name: category, dtype: int64"
      ]
     },
     "execution_count": 37,
     "metadata": {},
     "output_type": "execute_result"
    }
   ],
   "source": [
    "# Returns the number of data in each category, the actual count\n",
    "\n",
    "test_df['category'].value_counts()"
   ]
  },
  {
   "cell_type": "code",
   "execution_count": 38,
   "id": "bfce3511-464c-43f8-8551-a61b9b2d52d6",
   "metadata": {},
   "outputs": [
    {
     "name": "stdout",
     "output_type": "stream",
     "text": [
      "              precision    recall  f1-score   support\n",
      "\n",
      "    Melanoma       0.90      0.88      0.89      1781\n",
      " NotMelanoma       0.88      0.90      0.89      1780\n",
      "\n",
      "    accuracy                           0.89      3561\n",
      "   macro avg       0.89      0.89      0.89      3561\n",
      "weighted avg       0.89      0.89      0.89      3561\n",
      "\n"
     ]
    }
   ],
   "source": [
    "# getting the classification report for the test data\n",
    "\n",
    "print(classification_report(y_pred=test_df['predict_c'], y_true=test_df['category']))"
   ]
  },
  {
   "cell_type": "code",
   "execution_count": 39,
   "id": "d074d5e4-9759-4de4-a573-1b9ef30f2ff9",
   "metadata": {},
   "outputs": [
    {
     "data": {
      "image/png": "[encoded data removed]",
      "text/plain": [
       "<Figure size 640x480 with 2 Axes>"
      ]
     },
     "metadata": {},
     "output_type": "display_data"
    }
   ],
   "source": [
    "# confusion matrix for test data\n",
    "\n",
    "sns.heatmap(confusion_matrix(y_pred=test_df['predict_c'], y_true=test_df['category']), annot=True,\n",
    "            xticklabels=test_df['category'].unique(), yticklabels=test_df['category'].unique(), cmap='Greens', fmt='')\n",
    "plt.show()"
   ]
  },
  {
   "cell_type": "code",
   "execution_count": 40,
   "id": "0b76dd37-7354-40af-b0e7-586c5281a5e4",
   "metadata": {},
   "outputs": [
    {
     "name": "stdout",
     "output_type": "stream",
     "text": [
      "112/112 [==============================] - 21s 185ms/step\n"
     ]
    }
   ],
   "source": [
    "# predicting the model with validation dataset\n",
    "\n",
    "# with tf.device('/cpu:0'):\n",
    "val_pred=model.predict(val_dataset)"
   ]
  },
  {
   "cell_type": "code",
   "execution_count": 41,
   "id": "3060bbd5-cba0-4480-a368-4f0dfea424fd",
   "metadata": {},
   "outputs": [],
   "source": [
    "# getting the index of the highest value\n",
    "\n",
    "val_df[\"predict\"]=np.argmax(val_pred,axis=1)"
   ]
  },
  {
   "cell_type": "code",
   "execution_count": 42,
   "id": "bd34ae26-52ff-4170-936e-4a8f393fc8df",
   "metadata": {},
   "outputs": [],
   "source": [
    "# Assigning the class names for the keys in predict column of the val_df\n",
    "\n",
    "val_df[\"predict_c\"]=val_df[\"predict\"].map({0:\"Melanoma\",1:\"NotMelanoma\"})"
   ]
  },
  {
   "cell_type": "code",
   "execution_count": 43,
   "id": "5861b124-a514-496c-8ba3-3f74205613c3",
   "metadata": {},
   "outputs": [
    {
     "data": {
      "text/html": [
       "<div>\n",
       "<style scoped>\n",
       "    .dataframe tbody tr th:only-of-type {\n",
       "        vertical-align: middle;\n",
       "    }\n",
       "\n",
       "    .dataframe tbody tr th {\n",
       "        vertical-align: top;\n",
       "    }\n",
       "\n",
       "    .dataframe thead th {\n",
       "        text-align: right;\n",
       "    }\n",
       "</style>\n",
       "<table border=\"1\" class=\"dataframe\">\n",
       "  <thead>\n",
       "    <tr style=\"text-align: right;\">\n",
       "      <th></th>\n",
       "      <th>filename</th>\n",
       "      <th>category</th>\n",
       "      <th>predict</th>\n",
       "      <th>predict_c</th>\n",
       "    </tr>\n",
       "  </thead>\n",
       "  <tbody>\n",
       "    <tr>\n",
       "      <th>0</th>\n",
       "      <td>Melanoma/AUGmented_0_1006.jpeg</td>\n",
       "      <td>Melanoma</td>\n",
       "      <td>0</td>\n",
       "      <td>Melanoma</td>\n",
       "    </tr>\n",
       "    <tr>\n",
       "      <th>1</th>\n",
       "      <td>Melanoma/AUGmented_0_1058.jpeg</td>\n",
       "      <td>Melanoma</td>\n",
       "      <td>0</td>\n",
       "      <td>Melanoma</td>\n",
       "    </tr>\n",
       "    <tr>\n",
       "      <th>2</th>\n",
       "      <td>Melanoma/AUGmented_0_110.jpeg</td>\n",
       "      <td>Melanoma</td>\n",
       "      <td>0</td>\n",
       "      <td>Melanoma</td>\n",
       "    </tr>\n",
       "    <tr>\n",
       "      <th>3</th>\n",
       "      <td>Melanoma/AUGmented_0_1108.jpeg</td>\n",
       "      <td>Melanoma</td>\n",
       "      <td>0</td>\n",
       "      <td>Melanoma</td>\n",
       "    </tr>\n",
       "    <tr>\n",
       "      <th>4</th>\n",
       "      <td>Melanoma/AUGmented_0_1140.jpeg</td>\n",
       "      <td>Melanoma</td>\n",
       "      <td>0</td>\n",
       "      <td>Melanoma</td>\n",
       "    </tr>\n",
       "    <tr>\n",
       "      <th>...</th>\n",
       "      <td>...</td>\n",
       "      <td>...</td>\n",
       "      <td>...</td>\n",
       "      <td>...</td>\n",
       "    </tr>\n",
       "    <tr>\n",
       "      <th>3557</th>\n",
       "      <td>NotMelanoma/ISIC_0034292.jpg</td>\n",
       "      <td>NotMelanoma</td>\n",
       "      <td>1</td>\n",
       "      <td>NotMelanoma</td>\n",
       "    </tr>\n",
       "    <tr>\n",
       "      <th>3558</th>\n",
       "      <td>NotMelanoma/ISIC_0034297.jpg</td>\n",
       "      <td>NotMelanoma</td>\n",
       "      <td>1</td>\n",
       "      <td>NotMelanoma</td>\n",
       "    </tr>\n",
       "    <tr>\n",
       "      <th>3559</th>\n",
       "      <td>NotMelanoma/ISIC_0034305.jpg</td>\n",
       "      <td>NotMelanoma</td>\n",
       "      <td>1</td>\n",
       "      <td>NotMelanoma</td>\n",
       "    </tr>\n",
       "    <tr>\n",
       "      <th>3560</th>\n",
       "      <td>NotMelanoma/ISIC_0034308.jpg</td>\n",
       "      <td>NotMelanoma</td>\n",
       "      <td>1</td>\n",
       "      <td>NotMelanoma</td>\n",
       "    </tr>\n",
       "    <tr>\n",
       "      <th>3561</th>\n",
       "      <td>NotMelanoma/ISIC_0034310.jpg</td>\n",
       "      <td>NotMelanoma</td>\n",
       "      <td>0</td>\n",
       "      <td>Melanoma</td>\n",
       "    </tr>\n",
       "  </tbody>\n",
       "</table>\n",
       "<p>3562 rows × 4 columns</p>\n",
       "</div>"
      ],
      "text/plain": [
       "                            filename     category  predict    predict_c\n",
       "0     Melanoma/AUGmented_0_1006.jpeg     Melanoma        0     Melanoma\n",
       "1     Melanoma/AUGmented_0_1058.jpeg     Melanoma        0     Melanoma\n",
       "2      Melanoma/AUGmented_0_110.jpeg     Melanoma        0     Melanoma\n",
       "3     Melanoma/AUGmented_0_1108.jpeg     Melanoma        0     Melanoma\n",
       "4     Melanoma/AUGmented_0_1140.jpeg     Melanoma        0     Melanoma\n",
       "...                              ...          ...      ...          ...\n",
       "3557    NotMelanoma/ISIC_0034292.jpg  NotMelanoma        1  NotMelanoma\n",
       "3558    NotMelanoma/ISIC_0034297.jpg  NotMelanoma        1  NotMelanoma\n",
       "3559    NotMelanoma/ISIC_0034305.jpg  NotMelanoma        1  NotMelanoma\n",
       "3560    NotMelanoma/ISIC_0034308.jpg  NotMelanoma        1  NotMelanoma\n",
       "3561    NotMelanoma/ISIC_0034310.jpg  NotMelanoma        0     Melanoma\n",
       "\n",
       "[3562 rows x 4 columns]"
      ]
     },
     "execution_count": 43,
     "metadata": {},
     "output_type": "execute_result"
    }
   ],
   "source": [
    "# displaying the dataframe\n",
    "\n",
    "val_df"
   ]
  },
  {
   "cell_type": "code",
   "execution_count": 44,
   "id": "71dd8773-84ef-4a4f-b228-76df0c2f2592",
   "metadata": {},
   "outputs": [
    {
     "data": {
      "image/png": "[encoded data removed]",
      "text/plain": [
       "<Figure size 640x480 with 1 Axes>"
      ]
     },
     "metadata": {},
     "output_type": "display_data"
    }
   ],
   "source": [
    "# Invoking draw_countplot()\n",
    "\n",
    "draw_countplot(dataframe=val_df, y_axis='category', title='Validation Data')"
   ]
  },
  {
   "cell_type": "code",
   "execution_count": 45,
   "id": "8c92d235-e98b-4e32-9f84-52f67491cd42",
   "metadata": {},
   "outputs": [
    {
     "data": {
      "image/png": "[encoded data removed]",
      "text/plain": [
       "<Figure size 640x480 with 1 Axes>"
      ]
     },
     "metadata": {},
     "output_type": "display_data"
    }
   ],
   "source": [
    "# Invoking draw_countplot()\n",
    "\n",
    "draw_countplot(dataframe=val_df, y_axis='predict_c', title='Predicted Data of validation data')"
   ]
  },
  {
   "cell_type": "code",
   "execution_count": 46,
   "id": "675cecec-5afe-4890-9aff-4822090f7c31",
   "metadata": {},
   "outputs": [
    {
     "data": {
      "text/plain": [
       "Melanoma       1798\n",
       "NotMelanoma    1764\n",
       "Name: predict_c, dtype: int64"
      ]
     },
     "execution_count": 46,
     "metadata": {},
     "output_type": "execute_result"
    }
   ],
   "source": [
    "# Returns the number of data in each category, the predicted count\n",
    "\n",
    "val_df['predict_c'].value_counts()"
   ]
  },
  {
   "cell_type": "code",
   "execution_count": 47,
   "id": "699bf606-a420-4617-9050-4faca538ab29",
   "metadata": {},
   "outputs": [
    {
     "data": {
      "text/plain": [
       "Melanoma       1781\n",
       "NotMelanoma    1781\n",
       "Name: category, dtype: int64"
      ]
     },
     "execution_count": 47,
     "metadata": {},
     "output_type": "execute_result"
    }
   ],
   "source": [
    "# Returns the number of data in each category, the actual count\n",
    "\n",
    "val_df['category'].value_counts()"
   ]
  },
  {
   "cell_type": "code",
   "execution_count": 48,
   "id": "1c77e7ae-f2c1-406e-a3b6-0a3c71fa1e4d",
   "metadata": {},
   "outputs": [
    {
     "name": "stdout",
     "output_type": "stream",
     "text": [
      "              precision    recall  f1-score   support\n",
      "\n",
      "    Melanoma       0.90      0.90      0.90      1781\n",
      " NotMelanoma       0.90      0.89      0.90      1781\n",
      "\n",
      "    accuracy                           0.90      3562\n",
      "   macro avg       0.90      0.90      0.90      3562\n",
      "weighted avg       0.90      0.90      0.90      3562\n",
      "\n"
     ]
    }
   ],
   "source": [
    "# getting the classification report for the validation data\n",
    "\n",
    "print(classification_report(y_pred=val_df['predict_c'], y_true=val_df['category']))"
   ]
  },
  {
   "cell_type": "code",
   "execution_count": 49,
   "id": "91d8faaf-725f-49dc-81c3-c013acd9b1de",
   "metadata": {},
   "outputs": [
    {
     "data": {
      "image/png": "[encoded data removed]",
      "text/plain": [
       "<Figure size 640x480 with 2 Axes>"
      ]
     },
     "metadata": {},
     "output_type": "display_data"
    }
   ],
   "source": [
    "# confusion matrix for validation data\n",
    "\n",
    "sns.heatmap(confusion_matrix(y_pred=val_df['predict_c'], y_true=val_df['category']), annot=True,\n",
    "            xticklabels=val_df['category'].unique(), yticklabels=val_df['category'].unique(), cmap='Greens', fmt='')\n",
    "plt.show()"
   ]
  },
  {
   "cell_type": "markdown",
   "id": "be86dc17-b7ab-4b8d-830f-300c3937c44a",
   "metadata": {},
   "source": [
    "# Summary\n",
    "* The model gives **90% accuracy and 87% precision** in the **training data.**\n",
    "* In the **testing data** the model gives **90% of accuracy and 88+ % precision.**\n",
    "* In the **validation data** the model gives **91% of accuracy and 89+ % precision.**\n",
    "\n",
    "### Prediction count on the test dataset\n",
    "\n",
    "* The dataset contains **1781 melanoma** images and **1780 non melanoma** images.\n",
    "* Among that it predicted **1548 melanoma** and **1650 non melanoma** were **correctly.**\n",
    "* the images of count **233 melanoma** and **120 non melanoma** were predicted **wrongly.**\n",
    "\n",
    "\n",
    "### Prediction count on the validation data dataset\n",
    "\n",
    "* The dataset contains **1781 melanoma** and **non melanoma** images.\n",
    "* Among that it predicted **1580 melanoma** and **1669 non melanoma** were **correctly.**\n",
    "* the images of count **201 melanoma** and **112 non melanoma** were predicted **wrongly.**"
   ]
  }
 ],
 "metadata": {
  "kernelspec": {
   "display_name": "Python 3 (ipykernel)",
   "language": "python",
   "name": "python3"
  },
  "language_info": {
   "codemirror_mode": {
    "name": "ipython",
    "version": 3
   },
   "file_extension": ".py",
   "mimetype": "text/x-python",
   "name": "python",
   "nbconvert_exporter": "python",
   "pygments_lexer": "ipython3",
   "version": "3.9.13"
  }
 },
 "nbformat": 4,
 "nbformat_minor": 5
}
