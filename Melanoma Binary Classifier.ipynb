{
 "cells": [
  {
   "cell_type": "markdown",
   "id": "39157438-4875-4749-9b4d-e2fd7d04075f",
   "metadata": {},
   "source": [
    "#####"
   ]
  },
  {
   "cell_type": "markdown",
   "id": "2f94aadc-5295-4caf-b3a6-3aa42822cf16",
   "metadata": {},
   "source": [
    "<center> <h1 style='font-size:50px; text-align:center; font-weight:900'>Melanoma vs Normal Moles</h1> </center>"
   ]
  },
  {
   "cell_type": "markdown",
   "id": "d41c60b4-adb3-4890-8856-27df7fefdf12",
   "metadata": {},
   "source": [
    "###"
   ]
  },
  {
   "cell_type": "markdown",
   "id": "f10008d8-b0d7-42aa-a067-c5eb09d4298d",
   "metadata": {},
   "source": [
    "![melanoma](https://miiskin.com/wp-content/uploads/2019/09/how-melanoma-looks-like.jpg)"
   ]
  },
  {
   "cell_type": "markdown",
   "id": "f10c7fd3-6e82-4580-99bf-93e71cfd4ead",
   "metadata": {},
   "source": [
    "######"
   ]
  },
  {
   "cell_type": "markdown",
   "id": "9ef3f05e-9f75-4e1d-b393-ee93bb699b6a",
   "metadata": {},
   "source": [
    "# Introduction\n",
    "\n",
    "* Biomedical image processing has experienced dramatic growth and is an interdisciplinary research field attracting expertise from applied mathematics, computer science, engineering, statistics, physics, biology, and medicine.\n",
    "* Computer-aided diagnostic processing has already become an important part of the clinical routine.\n",
    "* Along with the onslaught of new high-tech developments and the use of different imaging modalities, additional challenges arise; for example, how to process and analyze large amounts of images to obtain high-quality information for disease diagnosis and treatment.\n",
    "* The main objective of this project is to provide an efficient way to diagonize between the melanoma moles and the normal moles.\n",
    "* This model is build on the VGG 16 architecture which contains sixteen layers which extracts the useful features from the image and thereby processes it."
   ]
  },
  {
   "cell_type": "markdown",
   "id": "1bdc8a23-0cab-4a4f-9b37-ebfceb7c0f6f",
   "metadata": {},
   "source": [
    "# Objective\n",
    "\n",
    "* To train CNN model which is capable of diagnosing melanoma vs non-melanoma cells.\n",
    "* To improve the accuracy by using transfer learning technique."
   ]
  },
  {
   "cell_type": "markdown",
   "id": "026d6e23-8b3d-4d24-af0b-761dff0257be",
   "metadata": {},
   "source": [
    "# Reason for the project"
   ]
  },
  {
   "cell_type": "markdown",
   "id": "471ad884-ddee-4f95-81d0-129f49e6b2d5",
   "metadata": {},
   "source": [
    "**Melanoma is a type of skin cancer that can be life-threatening if left untreated. It is essential to diagnose melanoma early to increase the chances of successful treatment and a positive outcome. Melanoma diagnosis is necessary because:**\n",
    "\n",
    "* **Early Detection:** Early detection of melanoma increases the chances of successful treatment. If diagnosed early, melanoma can often be removed through surgery or other treatments with a high success rate.\n",
    "\n",
    "* **Prognosis:** The stage of melanoma at the time of diagnosis is a significant factor in determining the prognosis or the likely course of the disease. The earlier the diagnosis, the more favorable the prognosis.\n",
    "\n",
    "* **Treatment Planning:** The diagnosis of melanoma helps medical professionals to determine the appropriate treatment plan for the patient. Treatment options may include surgery, radiation therapy, chemotherapy, immunotherapy, or a combination of these.\n",
    "\n",
    "* **Monitoring:** Even after successful treatment, patients with melanoma require ongoing monitoring to detect any recurrence or spread of the disease. Regular check-ups and monitoring are necessary to ensure that the patient remains cancer-free and to detect any signs of a recurrence or spread of the disease.\n",
    "\n",
    "In summary, the timely diagnosis of melanoma is crucial for the successful treatment and management of the disease. It is important to be aware of any changes in the skin, such as the appearance of new moles or changes in the size, shape, or color of existing moles, and to seek medical attention promptly if any concerns arise."
   ]
  },
  {
   "cell_type": "markdown",
   "id": "2362804b-fd60-45b6-ac77-0dee5c1f7dd7",
   "metadata": {},
   "source": [
    "### Importing the required libraries"
   ]
  },
  {
   "cell_type": "code",
   "execution_count": 1,
   "id": "ee8f44ea-f5e8-41fa-a979-2b75905642b6",
   "metadata": {},
   "outputs": [],
   "source": [
    "from tensorflow.keras.layers import Input, Dropout, Flatten, Dense, Activation, BatchNormalization, Dropout\n",
    "from tensorflow.keras.preprocessing.image import ImageDataGenerator\n",
    "from sklearn.metrics import classification_report, confusion_matrix\n",
    "from tensorflow.keras.models import Sequential, load_model\n",
    "from sklearn.model_selection import train_test_split\n",
    "from tensorflow.keras.metrics import Precision\n",
    "from keras.applications.vgg16 import VGG16\n",
    "from keras.utils import to_categorical\n",
    "from keras.optimizers import Adam\n",
    "import matplotlib.pyplot as plt\n",
    "import tensorflow as tf\n",
    "import seaborn as sns\n",
    "from PIL import Image\n",
    "import pandas as pd\n",
    "import numpy as np\n",
    "import cv2 as cv\n",
    "import random\n",
    "import os"
   ]
  },
  {
   "cell_type": "markdown",
   "id": "36537bc6-c3de-45df-9437-504d065b7481",
   "metadata": {},
   "source": [
    "### Enabling GPU for higher performance"
   ]
  },
  {
   "cell_type": "code",
   "execution_count": 2,
   "id": "1c8b2f84-3b00-41a2-b7c4-c420c23b9a48",
   "metadata": {
    "tags": []
   },
   "outputs": [
    {
     "name": "stdout",
     "output_type": "stream",
     "text": [
      "1 Physical GPUs, 1 Logical GPUs\n"
     ]
    }
   ],
   "source": [
    "gpus = tf.config.list_physical_devices('GPU')\n",
    "if gpus:\n",
    "  try:\n",
    "    # Currently, memory growth needs to be the same across GPUs\n",
    "    for gpu in gpus:\n",
    "      tf.config.experimental.set_memory_growth(gpu, True)\n",
    "    logical_gpus = tf.config.list_logical_devices('GPU')\n",
    "    print(len(gpus), \"Physical GPUs,\", len(logical_gpus), \"Logical GPUs\")\n",
    "  except RuntimeError as e:\n",
    "    # Memory growth must be set before GPUs have been initialized\n",
    "    print(e)"
   ]
  },
  {
   "cell_type": "markdown",
   "id": "539054f9-ca33-4a74-a062-febe744bab38",
   "metadata": {},
   "source": [
    "### Initializing the common variables and functions"
   ]
  },
  {
   "cell_type": "code",
   "execution_count": 3,
   "id": "c1bb84e8-cd96-4323-a498-0d801f616ff0",
   "metadata": {},
   "outputs": [],
   "source": [
    "# Used to resize the image to 224 x 224 size (resolution)\n",
    "\n",
    "def resize_image(path, save_path):\n",
    "\n",
    "    for root, dirs, files in os.walk(path):\n",
    "\n",
    "        for name in dirs:\n",
    "            \n",
    "            direct = os.path.join(path, name)\n",
    "            \n",
    "            for filename in os.listdir(direct):\n",
    "                \n",
    "                img = Image.open(os.path.join(path + \"/\" + name, filename))\n",
    "                img = img.resize((224,224))\n",
    "                \n",
    "                # images.append(img)\n",
    "                # filenames.append(name + '/' + filename)\n",
    "                if not os.path.exists(save_path):\n",
    "                    os.makedirs(save_path)\n",
    "                if not os.path.exists(save_path + name):\n",
    "                    os.makedirs(save_path + name)\n",
    "                img.save(save_path + name + '/' + filename)"
   ]
  },
  {
   "cell_type": "code",
   "execution_count": 4,
   "id": "7f5a5041-0ef8-413b-a5c5-20b8c90b70c6",
   "metadata": {},
   "outputs": [],
   "source": [
    "# Invoking the function\n",
    "\n",
    "resize_image(path=train_path, save_path='./processed image/' )"
   ]
  },
  {
   "cell_type": "code",
   "execution_count": 5,
   "id": "29b71e0a-f22c-4f1d-a448-39aa84850ddf",
   "metadata": {},
   "outputs": [],
   "source": [
    "# Defining the common variables\n",
    "\n",
    "Image_Width=224\n",
    "Image_Height=224\n",
    "Image_Size=(Image_Width,Image_Height)\n",
    "Image_Channels=3\n",
    "batch_size = 32"
   ]
  },
  {
   "cell_type": "code",
   "execution_count": 6,
   "id": "91a5da18-3498-4f40-8ca0-a9a5f3b0c66b",
   "metadata": {},
   "outputs": [],
   "source": [
    "# Function to read the image from the given path and append the image, labels, filenames to the given array\n",
    "\n",
    "def read_image(path, images, labels, filenames):\n",
    "    \n",
    "    for root, dirs, files in os.walk(path):\n",
    "\n",
    "        for name in dirs:\n",
    "            \n",
    "            direct = os.path.join(path, name)\n",
    "            \n",
    "            for filename in os.listdir(direct):\n",
    "                \n",
    "                img = cv.imread(os.path.join(path + \"/\" + name, filename))\n",
    "                labels.append(name)\n",
    "                img = cv.resize(img, Image_Size)\n",
    "                images.append(img)\n",
    "                filenames.append(name + '/' + filename)"
   ]
  },
  {
   "cell_type": "code",
   "execution_count": 7,
   "id": "6cd3f202-2c46-4b20-90db-0e00d317d24e",
   "metadata": {},
   "outputs": [],
   "source": [
    "# Function to create dataframe from the filenames and labels\n",
    "\n",
    "def create_dataframe(filenames, labels):\n",
    "    \n",
    "    df = pd.DataFrame({\n",
    "        \n",
    "    'filename' : filenames,\n",
    "    'category' : labels\n",
    "\n",
    "    })\n",
    "    \n",
    "    return df"
   ]
  },
  {
   "cell_type": "code",
   "execution_count": 8,
   "id": "ef5578f4-e7d4-4457-a03f-56b24d47baca",
   "metadata": {},
   "outputs": [],
   "source": [
    "# Function to draw countplot for the dataframe category (class: Melanoma, class: Not Melanoma)\n",
    "\n",
    "def draw_countplot(dataframe, y_axis, title):\n",
    "    \n",
    "    sns.countplot(data=dataframe, y = y_axis, width=0.3, palette = 'Set2')\n",
    "    plt.title(title, weight='black')\n",
    "    plt.show()"
   ]
  },
  {
   "cell_type": "code",
   "execution_count": 9,
   "id": "05dfdd00-f0c4-4a93-899f-2b4b8ac7e922",
   "metadata": {},
   "outputs": [],
   "source": [
    "# Initializing train variables\n",
    "\n",
    "train_filenames = []\n",
    "train_images = []\n",
    "train_labels = []\n",
    "train_path = './processed image/'\n",
    "\n",
    "# Invoking read_image() in order to read the images from the path and to store in the above initialized array\n",
    "\n",
    "read_image(path=train_path, images=train_images, labels=train_labels, filenames=train_filenames)"
   ]
  },
  {
   "cell_type": "markdown",
   "id": "773075f8-794a-4ed2-9af7-fc97556a19a4",
   "metadata": {},
   "source": [
    "### Train Data"
   ]
  },
  {
   "cell_type": "code",
   "execution_count": 10,
   "id": "1b18a303-abda-4a80-babd-ae772bebc8b2",
   "metadata": {},
   "outputs": [
    {
     "data": {
      "text/html": [
       "<div>\n",
       "<style scoped>\n",
       "    .dataframe tbody tr th:only-of-type {\n",
       "        vertical-align: middle;\n",
       "    }\n",
       "\n",
       "    .dataframe tbody tr th {\n",
       "        vertical-align: top;\n",
       "    }\n",
       "\n",
       "    .dataframe thead th {\n",
       "        text-align: right;\n",
       "    }\n",
       "</style>\n",
       "<table border=\"1\" class=\"dataframe\">\n",
       "  <thead>\n",
       "    <tr style=\"text-align: right;\">\n",
       "      <th></th>\n",
       "      <th>filename</th>\n",
       "      <th>category</th>\n",
       "    </tr>\n",
       "  </thead>\n",
       "  <tbody>\n",
       "    <tr>\n",
       "      <th>0</th>\n",
       "      <td>Melanoma/AUGmented_0_1000.jpeg</td>\n",
       "      <td>Melanoma</td>\n",
       "    </tr>\n",
       "    <tr>\n",
       "      <th>1</th>\n",
       "      <td>Melanoma/AUGmented_0_1007.jpeg</td>\n",
       "      <td>Melanoma</td>\n",
       "    </tr>\n",
       "    <tr>\n",
       "      <th>2</th>\n",
       "      <td>Melanoma/AUGmented_0_1009.jpeg</td>\n",
       "      <td>Melanoma</td>\n",
       "    </tr>\n",
       "    <tr>\n",
       "      <th>3</th>\n",
       "      <td>Melanoma/AUGmented_0_1022.jpeg</td>\n",
       "      <td>Melanoma</td>\n",
       "    </tr>\n",
       "    <tr>\n",
       "      <th>4</th>\n",
       "      <td>Melanoma/AUGmented_0_1029.jpeg</td>\n",
       "      <td>Melanoma</td>\n",
       "    </tr>\n",
       "    <tr>\n",
       "      <th>...</th>\n",
       "      <td>...</td>\n",
       "      <td>...</td>\n",
       "    </tr>\n",
       "    <tr>\n",
       "      <th>10677</th>\n",
       "      <td>NotMelanoma/ISIC_0034314.jpg</td>\n",
       "      <td>NotMelanoma</td>\n",
       "    </tr>\n",
       "    <tr>\n",
       "      <th>10678</th>\n",
       "      <td>NotMelanoma/ISIC_0034315.jpg</td>\n",
       "      <td>NotMelanoma</td>\n",
       "    </tr>\n",
       "    <tr>\n",
       "      <th>10679</th>\n",
       "      <td>NotMelanoma/ISIC_0034318.jpg</td>\n",
       "      <td>NotMelanoma</td>\n",
       "    </tr>\n",
       "    <tr>\n",
       "      <th>10680</th>\n",
       "      <td>NotMelanoma/ISIC_0034319.jpg</td>\n",
       "      <td>NotMelanoma</td>\n",
       "    </tr>\n",
       "    <tr>\n",
       "      <th>10681</th>\n",
       "      <td>NotMelanoma/ISIC_0034320.jpg</td>\n",
       "      <td>NotMelanoma</td>\n",
       "    </tr>\n",
       "  </tbody>\n",
       "</table>\n",
       "<p>10682 rows × 2 columns</p>\n",
       "</div>"
      ],
      "text/plain": [
       "                             filename     category\n",
       "0      Melanoma/AUGmented_0_1000.jpeg     Melanoma\n",
       "1      Melanoma/AUGmented_0_1007.jpeg     Melanoma\n",
       "2      Melanoma/AUGmented_0_1009.jpeg     Melanoma\n",
       "3      Melanoma/AUGmented_0_1022.jpeg     Melanoma\n",
       "4      Melanoma/AUGmented_0_1029.jpeg     Melanoma\n",
       "...                               ...          ...\n",
       "10677    NotMelanoma/ISIC_0034314.jpg  NotMelanoma\n",
       "10678    NotMelanoma/ISIC_0034315.jpg  NotMelanoma\n",
       "10679    NotMelanoma/ISIC_0034318.jpg  NotMelanoma\n",
       "10680    NotMelanoma/ISIC_0034319.jpg  NotMelanoma\n",
       "10681    NotMelanoma/ISIC_0034320.jpg  NotMelanoma\n",
       "\n",
       "[10682 rows x 2 columns]"
      ]
     },
     "execution_count": 10,
     "metadata": {},
     "output_type": "execute_result"
    }
   ],
   "source": [
    "# Train dataframe made from create_dataframe()\n",
    "\n",
    "train_df = create_dataframe(filenames=train_filenames, labels=train_labels)\n",
    "train_df"
   ]
  },
  {
   "cell_type": "code",
   "execution_count": 11,
   "id": "bfbf295b-fe7d-47e7-9ebe-c34ed3268c52",
   "metadata": {},
   "outputs": [
    {
     "data": {
      "image/png": "[encoded data removed]",
      "text/plain": [
       "<Figure size 640x480 with 1 Axes>"
      ]
     },
     "metadata": {},
     "output_type": "display_data"
    }
   ],
   "source": [
    "# Invoking draw_countplot()\n",
    "\n",
    "draw_countplot(dataframe=train_df, y_axis='category', title='Train Data')"
   ]
  },
  {
   "cell_type": "code",
   "execution_count": 12,
   "id": "1cce7c18-c7bb-43bc-a836-defb4bc45df9",
   "metadata": {},
   "outputs": [],
   "source": [
    "# Test dataframe made from create_dataframe()\n",
    "\n",
    "test_filenames = []\n",
    "test_images = []\n",
    "test_labels = []\n",
    "test_path = './DermMel/test/'\n",
    "\n",
    "# Invoking read_image() in order to read the images from the path and to store in the above initialized array\n",
    "\n",
    "read_image(path=test_path, images=test_images, labels=test_labels, filenames=test_filenames)"
   ]
  },
  {
   "cell_type": "markdown",
   "id": "180f5470-c370-43d6-a0b0-35b1568f8797",
   "metadata": {},
   "source": [
    "### Test Data"
   ]
  },
  {
   "cell_type": "code",
   "execution_count": 13,
   "id": "cfeb6151-350c-476a-bbd9-a02e570a3d7c",
   "metadata": {},
   "outputs": [
    {
     "data": {
      "text/html": [
       "<div>\n",
       "<style scoped>\n",
       "    .dataframe tbody tr th:only-of-type {\n",
       "        vertical-align: middle;\n",
       "    }\n",
       "\n",
       "    .dataframe tbody tr th {\n",
       "        vertical-align: top;\n",
       "    }\n",
       "\n",
       "    .dataframe thead th {\n",
       "        text-align: right;\n",
       "    }\n",
       "</style>\n",
       "<table border=\"1\" class=\"dataframe\">\n",
       "  <thead>\n",
       "    <tr style=\"text-align: right;\">\n",
       "      <th></th>\n",
       "      <th>filename</th>\n",
       "      <th>category</th>\n",
       "    </tr>\n",
       "  </thead>\n",
       "  <tbody>\n",
       "    <tr>\n",
       "      <th>0</th>\n",
       "      <td>Melanoma/AUGmented_0_1015.jpeg</td>\n",
       "      <td>Melanoma</td>\n",
       "    </tr>\n",
       "    <tr>\n",
       "      <th>1</th>\n",
       "      <td>Melanoma/AUGmented_0_1036.jpeg</td>\n",
       "      <td>Melanoma</td>\n",
       "    </tr>\n",
       "    <tr>\n",
       "      <th>2</th>\n",
       "      <td>Melanoma/AUGmented_0_1093.jpeg</td>\n",
       "      <td>Melanoma</td>\n",
       "    </tr>\n",
       "    <tr>\n",
       "      <th>3</th>\n",
       "      <td>Melanoma/AUGmented_0_1110.jpeg</td>\n",
       "      <td>Melanoma</td>\n",
       "    </tr>\n",
       "    <tr>\n",
       "      <th>4</th>\n",
       "      <td>Melanoma/AUGmented_0_1114.jpeg</td>\n",
       "      <td>Melanoma</td>\n",
       "    </tr>\n",
       "    <tr>\n",
       "      <th>...</th>\n",
       "      <td>...</td>\n",
       "      <td>...</td>\n",
       "    </tr>\n",
       "    <tr>\n",
       "      <th>3556</th>\n",
       "      <td>NotMelanoma/ISIC_0034257.jpg</td>\n",
       "      <td>NotMelanoma</td>\n",
       "    </tr>\n",
       "    <tr>\n",
       "      <th>3557</th>\n",
       "      <td>NotMelanoma/ISIC_0034260.jpg</td>\n",
       "      <td>NotMelanoma</td>\n",
       "    </tr>\n",
       "    <tr>\n",
       "      <th>3558</th>\n",
       "      <td>NotMelanoma/ISIC_0034278.jpg</td>\n",
       "      <td>NotMelanoma</td>\n",
       "    </tr>\n",
       "    <tr>\n",
       "      <th>3559</th>\n",
       "      <td>NotMelanoma/ISIC_0034309.jpg</td>\n",
       "      <td>NotMelanoma</td>\n",
       "    </tr>\n",
       "    <tr>\n",
       "      <th>3560</th>\n",
       "      <td>NotMelanoma/ISIC_0034311.jpg</td>\n",
       "      <td>NotMelanoma</td>\n",
       "    </tr>\n",
       "  </tbody>\n",
       "</table>\n",
       "<p>3561 rows × 2 columns</p>\n",
       "</div>"
      ],
      "text/plain": [
       "                            filename     category\n",
       "0     Melanoma/AUGmented_0_1015.jpeg     Melanoma\n",
       "1     Melanoma/AUGmented_0_1036.jpeg     Melanoma\n",
       "2     Melanoma/AUGmented_0_1093.jpeg     Melanoma\n",
       "3     Melanoma/AUGmented_0_1110.jpeg     Melanoma\n",
       "4     Melanoma/AUGmented_0_1114.jpeg     Melanoma\n",
       "...                              ...          ...\n",
       "3556    NotMelanoma/ISIC_0034257.jpg  NotMelanoma\n",
       "3557    NotMelanoma/ISIC_0034260.jpg  NotMelanoma\n",
       "3558    NotMelanoma/ISIC_0034278.jpg  NotMelanoma\n",
       "3559    NotMelanoma/ISIC_0034309.jpg  NotMelanoma\n",
       "3560    NotMelanoma/ISIC_0034311.jpg  NotMelanoma\n",
       "\n",
       "[3561 rows x 2 columns]"
      ]
     },
     "execution_count": 13,
     "metadata": {},
     "output_type": "execute_result"
    }
   ],
   "source": [
    "# Test dataframe made from create_dataframe()\n",
    "\n",
    "test_df = create_dataframe(filenames=test_filenames, labels=test_labels)\n",
    "test_df"
   ]
  },
  {
   "cell_type": "code",
   "execution_count": 14,
   "id": "3be60575-7609-4bb8-9a7f-9253ef1e04a6",
   "metadata": {},
   "outputs": [
    {
     "data": {
      "image/png": "[encoded data removed]",
      "text/plain": [
       "<Figure size 640x480 with 1 Axes>"
      ]
     },
     "metadata": {},
     "output_type": "display_data"
    }
   ],
   "source": [
    "# Invoking draw_countplot()\n",
    "\n",
    "draw_countplot(dataframe=test_df, y_axis='category', title='Test Data')"
   ]
  },
  {
   "cell_type": "markdown",
   "id": "08a467b7-efb5-4d19-88a0-c87295e98249",
   "metadata": {},
   "source": [
    "### pre-processing and dataset creation"
   ]
  },
  {
   "cell_type": "code",
   "execution_count": 15,
   "id": "ebc4bd7c-30ef-48a4-b5a3-a3396d230a37",
   "metadata": {},
   "outputs": [
    {
     "name": "stdout",
     "output_type": "stream",
     "text": [
      "Found 10682 validated image filenames belonging to 2 classes.\n"
     ]
    }
   ],
   "source": [
    "#preprocessing train data\n",
    "\n",
    "train_datag=ImageDataGenerator(rescale=1./ 255, # converting the pixels of image between o's and 1's\n",
    "                              horizontal_flip = True, # flipping the image horizontally\n",
    "                               vertical_flip = True, # flipping the image vertically\n",
    "                               rotation_range = 25, # rotating the image fro 25 degree\n",
    "                              )\n",
    "\n",
    "# Getting train images using flow_from_datafram()\n",
    "\n",
    "train_dataset=train_datag.flow_from_dataframe(dataframe=train_df, # dataframe name\n",
    "                                              directory=train_path, # path\n",
    "                                              x_col=\"filename\", # x_col value\n",
    "                                              y_col=\"category\", # y_col_value\n",
    "                                              color_mode='rgb', # color of the image used 'rgb' as the dataset contain rgb image\n",
    "                                              target_size=Image_Size, # setting the size of the image\n",
    "                                              batch_size=32, # mini-batch gradient descent (takes 32 images in one go)\n",
    "                                             )"
   ]
  },
  {
   "cell_type": "code",
   "execution_count": 16,
   "id": "bfd291f7-1f13-471f-b60f-09d20abec34e",
   "metadata": {},
   "outputs": [
    {
     "name": "stdout",
     "output_type": "stream",
     "text": [
      "Found 3561 non-validated image filenames belonging to 2 classes.\n"
     ]
    }
   ],
   "source": [
    "# pre-processing test data\n",
    "\n",
    "test_datag=ImageDataGenerator(rescale=1./255) # converting the pixels of image between o's and 1's\n",
    "\n",
    "# Getting test images using flow_from_datafram()\n",
    "\n",
    "test_dataset=test_datag.flow_from_dataframe(dataframe=test_df, # dataframe name\n",
    "                                            directory=test_path, # path\n",
    "                                            x_col=\"filename\", # x_col value\n",
    "                                            y_col=\"category\", # y_col value\n",
    "                                            color_mode='rgb', # color of the image used 'rgb' as the dataset contain rgb image\n",
    "                                            target_size=Image_Size, # setting the size of the image\n",
    "                                            batch_size=32, # mini-batch gradient descent (takes 32 images in one go)\n",
    "                                            \n",
    "                                            # while generating the test_dataset the machine won't validate names, due to some non-acceptable names someof the images are not read by the machine so to avoid that this param is used\n",
    "                                            validate_filenames=False, # whether to validate names or not \n",
    "                                            \n",
    "                                            shuffle=False, # made shuffle to false in order to make sure that the test dataset isn't shuffled\n",
    "                                            class_mode='categorical', # categorical is chosen as it is the classification problem\n",
    "                                           )"
   ]
  },
  {
   "cell_type": "code",
   "execution_count": 17,
   "id": "71eafdc1-e78a-4166-8959-cc734854bd54",
   "metadata": {},
   "outputs": [
    {
     "data": {
      "text/plain": [
       "{'Melanoma': 0, 'NotMelanoma': 1}"
      ]
     },
     "execution_count": 17,
     "metadata": {},
     "output_type": "execute_result"
    }
   ],
   "source": [
    "train_dataset.class_indices #gives the key for the target values"
   ]
  },
  {
   "cell_type": "code",
   "execution_count": 18,
   "id": "8eed3cc2-4d2c-4354-8149-ce38abee03fa",
   "metadata": {},
   "outputs": [
    {
     "data": {
      "text/plain": [
       "(32, 224, 224, 3)"
      ]
     },
     "execution_count": 18,
     "metadata": {},
     "output_type": "execute_result"
    }
   ],
   "source": [
    "train_dataset[0][0].shape # 32 batches, 128-height, 128-width ,3-d image that is colored image"
   ]
  },
  {
   "cell_type": "markdown",
   "id": "bd695fe7-8c74-4287-806e-d001126834da",
   "metadata": {},
   "source": [
    "### **Model building**"
   ]
  },
  {
   "cell_type": "code",
   "execution_count": 19,
   "id": "efa9029b-bca8-49e4-976d-ff4eb19e9b21",
   "metadata": {},
   "outputs": [
    {
     "name": "stdout",
     "output_type": "stream",
     "text": [
      "Model: \"sequential\"\n",
      "_________________________________________________________________\n",
      " Layer (type)                Output Shape              Param #   \n",
      "=================================================================\n",
      " vgg16 (Functional)          (None, 7, 7, 512)         14714688  \n",
      "                                                                 \n",
      " flatten (Flatten)           (None, 25088)             0         \n",
      "                                                                 \n",
      " dense (Dense)               (None, 512)               12845568  \n",
      "                                                                 \n",
      " batch_normalization (BatchN  (None, 512)              2048      \n",
      " ormalization)                                                   \n",
      "                                                                 \n",
      " dropout (Dropout)           (None, 512)               0         \n",
      "                                                                 \n",
      " dense_1 (Dense)             (None, 128)               65664     \n",
      "                                                                 \n",
      " batch_normalization_1 (Batc  (None, 128)              512       \n",
      " hNormalization)                                                 \n",
      "                                                                 \n",
      " dropout_1 (Dropout)         (None, 128)               0         \n",
      "                                                                 \n",
      " dense_2 (Dense)             (None, 64)                8256      \n",
      "                                                                 \n",
      " batch_normalization_2 (Batc  (None, 64)               256       \n",
      " hNormalization)                                                 \n",
      "                                                                 \n",
      " dropout_2 (Dropout)         (None, 64)                0         \n",
      "                                                                 \n",
      " dense_3 (Dense)             (None, 2)                 130       \n",
      "                                                                 \n",
      "=================================================================\n",
      "Total params: 27,637,122\n",
      "Trainable params: 12,921,026\n",
      "Non-trainable params: 14,716,096\n",
      "_________________________________________________________________\n"
     ]
    }
   ],
   "source": [
    "# getting the VGG16 model and making the trainable false,\n",
    "# so that such a big model wont get trained in our machine, and also this huge model can't be trained in our machine\n",
    "\n",
    "# This is called transfer learning, this uses the layers of the VGG16 model and the extraction is taken place based on that\n",
    "\n",
    "conv_base = VGG16(\n",
    "    include_top=False,\n",
    "    weights='imagenet',\n",
    "    input_shape=(224,224,3),\n",
    ")\n",
    "\n",
    "# Making the layers to get trained as false\n",
    "\n",
    "for layer in conv_base.layers:\n",
    "    layer.trainable = False\n",
    "    \n",
    "# Model building\n",
    "    \n",
    "model = Sequential()\n",
    "\n",
    "# Base model (VGG16 Model)\n",
    "model.add(conv_base)\n",
    "\n",
    "# flattens the layers (making it into 1-D format)\n",
    "model.add(Flatten())\n",
    "\n",
    "# Fully connected layers\n",
    "\n",
    "\n",
    "# Layer 1\n",
    "model.add(Dense(units=512, activation='relu'))\n",
    "model.add(BatchNormalization())\n",
    "model.add(Dropout(0.5))\n",
    "\n",
    "# Layer 2\n",
    "model.add(Dense(units=128, activation='relu'))\n",
    "model.add(BatchNormalization())\n",
    "model.add(Dropout(0.5))\n",
    "\n",
    "# Layer 3\n",
    "model.add(Dense(units=64, activation='relu'))\n",
    "model.add(BatchNormalization())\n",
    "model.add(Dropout(0.3))\n",
    "\n",
    "# Output layer\n",
    "model.add(Dense(units=2, activation='sigmoid'))\n",
    "\n",
    "# Printing summary of the model\n",
    "model.summary()"
   ]
  },
  {
   "cell_type": "code",
   "execution_count": 20,
   "id": "2fe98ecd-30de-401b-8179-1bc0fd935557",
   "metadata": {},
   "outputs": [],
   "source": [
    "# defining the optimizer\n",
    "\n",
    "adam_optimizer = Adam(learning_rate = 0.00003)\n",
    "\n",
    "# compiling the model\n",
    "\n",
    "model.compile(loss=\"CategoricalCrossentropy\",optimizer=adam_optimizer, metrics=[\"accuracy\", Precision()])"
   ]
  },
  {
   "cell_type": "markdown",
   "id": "e8ea7694-07ea-47c9-8659-79a1cc2838cb",
   "metadata": {},
   "source": [
    "#### Free up RAM memory to speedup training process"
   ]
  },
  {
   "cell_type": "code",
   "execution_count": 21,
   "id": "b55bd923-7166-4085-924d-25eacc791fe6",
   "metadata": {},
   "outputs": [],
   "source": [
    "del train_images\n",
    "del test_images\n",
    "del train_df\n",
    "del train_filenames\n",
    "del test_filenames\n",
    "del train_labels\n",
    "del test_labels"
   ]
  },
  {
   "cell_type": "markdown",
   "id": "91c19aa2-2398-4a55-a6ba-b030b122598a",
   "metadata": {},
   "source": [
    "### Training"
   ]
  },
  {
   "cell_type": "code",
   "execution_count": 22,
   "id": "233bb20d-e7e7-4b57-b598-f04ce74bd9ae",
   "metadata": {},
   "outputs": [
    {
     "name": "stdout",
     "output_type": "stream",
     "text": [
      "Epoch 1/30\n",
      "334/334 [==============================] - 662s 2s/step - loss: 0.6950 - accuracy: 0.7270 - precision: 0.6941 - val_loss: 0.4147 - val_accuracy: 0.8096 - val_precision: 0.8155\n",
      "Epoch 2/30\n",
      "334/334 [==============================] - 665s 2s/step - loss: 0.5711 - accuracy: 0.7710 - precision: 0.7377 - val_loss: 0.3923 - val_accuracy: 0.8239 - val_precision: 0.7909\n",
      "Epoch 3/30\n",
      "334/334 [==============================] - 665s 2s/step - loss: 0.5412 - accuracy: 0.7876 - precision: 0.7490 - val_loss: 0.3921 - val_accuracy: 0.8411 - val_precision: 0.8109\n",
      "Epoch 4/30\n",
      "334/334 [==============================] - 665s 2s/step - loss: 0.5099 - accuracy: 0.7939 - precision: 0.7534 - val_loss: 0.3796 - val_accuracy: 0.8486 - val_precision: 0.8099\n",
      "Epoch 5/30\n",
      "334/334 [==============================] - 670s 2s/step - loss: 0.4973 - accuracy: 0.7980 - precision: 0.7635 - val_loss: 0.3576 - val_accuracy: 0.8475 - val_precision: 0.8099\n",
      "Epoch 6/30\n",
      "334/334 [==============================] - 666s 2s/step - loss: 0.4809 - accuracy: 0.8009 - precision: 0.7625 - val_loss: 0.3563 - val_accuracy: 0.8464 - val_precision: 0.7497\n",
      "Epoch 7/30\n",
      "334/334 [==============================] - 666s 2s/step - loss: 0.4703 - accuracy: 0.8065 - precision: 0.7650 - val_loss: 0.3405 - val_accuracy: 0.8596 - val_precision: 0.7848\n",
      "Epoch 8/30\n",
      "334/334 [==============================] - 666s 2s/step - loss: 0.4504 - accuracy: 0.8136 - precision: 0.7699 - val_loss: 0.3423 - val_accuracy: 0.8565 - val_precision: 0.8341\n",
      "Epoch 9/30\n",
      "334/334 [==============================] - 667s 2s/step - loss: 0.4456 - accuracy: 0.8163 - precision: 0.7768 - val_loss: 0.3652 - val_accuracy: 0.8478 - val_precision: 0.8110\n",
      "Epoch 10/30\n",
      "334/334 [==============================] - 666s 2s/step - loss: 0.4338 - accuracy: 0.8221 - precision: 0.7870 - val_loss: 0.3348 - val_accuracy: 0.8627 - val_precision: 0.8276\n",
      "Epoch 11/30\n",
      "334/334 [==============================] - 665s 2s/step - loss: 0.4276 - accuracy: 0.8194 - precision: 0.7801 - val_loss: 0.3313 - val_accuracy: 0.8644 - val_precision: 0.8524\n",
      "Epoch 12/30\n",
      "334/334 [==============================] - 666s 2s/step - loss: 0.4199 - accuracy: 0.8223 - precision: 0.7834 - val_loss: 0.3496 - val_accuracy: 0.8571 - val_precision: 0.8098\n",
      "Epoch 13/30\n",
      "334/334 [==============================] - 666s 2s/step - loss: 0.4028 - accuracy: 0.8283 - precision: 0.7880 - val_loss: 0.3355 - val_accuracy: 0.8632 - val_precision: 0.8236\n",
      "Epoch 14/30\n",
      "334/334 [==============================] - 667s 2s/step - loss: 0.3916 - accuracy: 0.8369 - precision: 0.7937 - val_loss: 0.3245 - val_accuracy: 0.8689 - val_precision: 0.8048\n",
      "Epoch 15/30\n",
      "334/334 [==============================] - 665s 2s/step - loss: 0.3834 - accuracy: 0.8359 - precision: 0.7927 - val_loss: 0.3080 - val_accuracy: 0.8680 - val_precision: 0.8516\n",
      "Epoch 16/30\n",
      "334/334 [==============================] - 670s 2s/step - loss: 0.3801 - accuracy: 0.8378 - precision: 0.7968 - val_loss: 0.3277 - val_accuracy: 0.8677 - val_precision: 0.8075\n",
      "Epoch 17/30\n",
      "334/334 [==============================] - 667s 2s/step - loss: 0.3896 - accuracy: 0.8359 - precision: 0.7963 - val_loss: 0.3409 - val_accuracy: 0.8632 - val_precision: 0.8446\n",
      "Epoch 18/30\n",
      "334/334 [==============================] - 668s 2s/step - loss: 0.3799 - accuracy: 0.8372 - precision: 0.7986 - val_loss: 0.3047 - val_accuracy: 0.8708 - val_precision: 0.8454\n",
      "Epoch 19/30\n",
      "334/334 [==============================] - 668s 2s/step - loss: 0.3791 - accuracy: 0.8407 - precision: 0.8031 - val_loss: 0.3123 - val_accuracy: 0.8672 - val_precision: 0.8401\n",
      "Epoch 20/30\n",
      "334/334 [==============================] - 666s 2s/step - loss: 0.3694 - accuracy: 0.8405 - precision: 0.8033 - val_loss: 0.3170 - val_accuracy: 0.8686 - val_precision: 0.8323\n",
      "Epoch 21/30\n",
      "334/334 [==============================] - 664s 2s/step - loss: 0.3596 - accuracy: 0.8485 - precision: 0.8033 - val_loss: 0.3256 - val_accuracy: 0.8632 - val_precision: 0.8336\n",
      "Epoch 22/30\n",
      "334/334 [==============================] - 665s 2s/step - loss: 0.3522 - accuracy: 0.8513 - precision: 0.8074 - val_loss: 0.3053 - val_accuracy: 0.8697 - val_precision: 0.8368\n",
      "Epoch 23/30\n",
      "334/334 [==============================] - 666s 2s/step - loss: 0.3590 - accuracy: 0.8486 - precision: 0.8051 - val_loss: 0.3087 - val_accuracy: 0.8714 - val_precision: 0.8426\n",
      "Epoch 24/30\n",
      "334/334 [==============================] - 665s 2s/step - loss: 0.3473 - accuracy: 0.8512 - precision: 0.8085 - val_loss: 0.3009 - val_accuracy: 0.8689 - val_precision: 0.8469\n",
      "Epoch 25/30\n",
      "334/334 [==============================] - 666s 2s/step - loss: 0.3447 - accuracy: 0.8529 - precision: 0.8082 - val_loss: 0.3240 - val_accuracy: 0.8705 - val_precision: 0.8255\n",
      "Epoch 26/30\n",
      "334/334 [==============================] - 665s 2s/step - loss: 0.3383 - accuracy: 0.8576 - precision: 0.8129 - val_loss: 0.3063 - val_accuracy: 0.8736 - val_precision: 0.8499\n",
      "Epoch 27/30\n",
      "334/334 [==============================] - 667s 2s/step - loss: 0.3468 - accuracy: 0.8511 - precision: 0.8044 - val_loss: 0.2912 - val_accuracy: 0.8742 - val_precision: 0.8434\n",
      "Epoch 28/30\n",
      "334/334 [==============================] - 667s 2s/step - loss: 0.3405 - accuracy: 0.8530 - precision: 0.8065 - val_loss: 0.2994 - val_accuracy: 0.8705 - val_precision: 0.8447\n",
      "Epoch 29/30\n",
      "334/334 [==============================] - 667s 2s/step - loss: 0.3339 - accuracy: 0.8572 - precision: 0.8111 - val_loss: 0.3165 - val_accuracy: 0.8666 - val_precision: 0.8240\n",
      "Epoch 30/30\n",
      "334/334 [==============================] - 674s 2s/step - loss: 0.3376 - accuracy: 0.8567 - precision: 0.8144 - val_loss: 0.2835 - val_accuracy: 0.8784 - val_precision: 0.8512\n"
     ]
    }
   ],
   "source": [
    "# training the model\n",
    "\n",
    "with tf.device('/cpu:0'): # enabling cpu to train the model\n",
    "    history = model.fit(train_dataset, epochs=30, validation_data=test_dataset)"
   ]
  },
  {
   "cell_type": "code",
   "execution_count": 55,
   "id": "55026f0f-18e1-4697-81bc-b4d47ce0c42d",
   "metadata": {},
   "outputs": [
    {
     "name": "stdout",
     "output_type": "stream",
     "text": [
      "Epoch 31/50\n",
      "334/334 [==============================] - 669s 2s/step - loss: 0.3306 - accuracy: 0.8619 - precision: 0.8162 - val_loss: 0.2990 - val_accuracy: 0.8719 - val_precision: 0.8549\n",
      "Epoch 32/50\n",
      "334/334 [==============================] - 668s 2s/step - loss: 0.3328 - accuracy: 0.8570 - precision: 0.8086 - val_loss: 0.2875 - val_accuracy: 0.8792 - val_precision: 0.8547\n",
      "Epoch 33/50\n",
      "334/334 [==============================] - 671s 2s/step - loss: 0.3193 - accuracy: 0.8614 - precision: 0.8147 - val_loss: 0.2880 - val_accuracy: 0.8778 - val_precision: 0.8403\n",
      "Epoch 34/50\n",
      "334/334 [==============================] - 669s 2s/step - loss: 0.3182 - accuracy: 0.8620 - precision: 0.8172 - val_loss: 0.2835 - val_accuracy: 0.8778 - val_precision: 0.8402\n",
      "Epoch 35/50\n",
      "334/334 [==============================] - 670s 2s/step - loss: 0.3150 - accuracy: 0.8672 - precision: 0.8221 - val_loss: 0.3019 - val_accuracy: 0.8725 - val_precision: 0.8262\n",
      "Epoch 36/50\n",
      "334/334 [==============================] - 672s 2s/step - loss: 0.3173 - accuracy: 0.8675 - precision: 0.8193 - val_loss: 0.2788 - val_accuracy: 0.8778 - val_precision: 0.8588\n",
      "Epoch 37/50\n",
      "334/334 [==============================] - 671s 2s/step - loss: 0.3151 - accuracy: 0.8673 - precision: 0.8193 - val_loss: 0.2914 - val_accuracy: 0.8773 - val_precision: 0.8455\n",
      "Epoch 38/50\n",
      "334/334 [==============================] - 672s 2s/step - loss: 0.3103 - accuracy: 0.8659 - precision: 0.8212 - val_loss: 0.2877 - val_accuracy: 0.8826 - val_precision: 0.8647\n",
      "Epoch 39/50\n",
      "334/334 [==============================] - 672s 2s/step - loss: 0.3114 - accuracy: 0.8665 - precision: 0.8234 - val_loss: 0.2803 - val_accuracy: 0.8784 - val_precision: 0.8539\n",
      "Epoch 40/50\n",
      "334/334 [==============================] - 673s 2s/step - loss: 0.3151 - accuracy: 0.8634 - precision: 0.8230 - val_loss: 0.3408 - val_accuracy: 0.8599 - val_precision: 0.8331\n",
      "Epoch 41/50\n",
      "334/334 [==============================] - 670s 2s/step - loss: 0.3056 - accuracy: 0.8695 - precision: 0.8273 - val_loss: 0.2878 - val_accuracy: 0.8767 - val_precision: 0.8480\n",
      "Epoch 42/50\n",
      "334/334 [==============================] - 674s 2s/step - loss: 0.3008 - accuracy: 0.8724 - precision: 0.8270 - val_loss: 0.3109 - val_accuracy: 0.8680 - val_precision: 0.8325\n",
      "Epoch 43/50\n",
      "334/334 [==============================] - 674s 2s/step - loss: 0.2921 - accuracy: 0.8756 - precision: 0.8282 - val_loss: 0.2821 - val_accuracy: 0.8790 - val_precision: 0.8570\n",
      "Epoch 44/50\n",
      "334/334 [==============================] - 676s 2s/step - loss: 0.2967 - accuracy: 0.8713 - precision: 0.8205 - val_loss: 0.2769 - val_accuracy: 0.8815 - val_precision: 0.8544\n",
      "Epoch 45/50\n",
      "334/334 [==============================] - 672s 2s/step - loss: 0.2930 - accuracy: 0.8753 - precision: 0.8270 - val_loss: 0.2946 - val_accuracy: 0.8748 - val_precision: 0.8581\n",
      "Epoch 46/50\n",
      "334/334 [==============================] - 672s 2s/step - loss: 0.2950 - accuracy: 0.8734 - precision: 0.8255 - val_loss: 0.2780 - val_accuracy: 0.8781 - val_precision: 0.8456\n",
      "Epoch 47/50\n",
      "334/334 [==============================] - 674s 2s/step - loss: 0.3005 - accuracy: 0.8737 - precision: 0.8236 - val_loss: 0.2749 - val_accuracy: 0.8851 - val_precision: 0.8466\n",
      "Epoch 48/50\n",
      "334/334 [==============================] - 675s 2s/step - loss: 0.2946 - accuracy: 0.8740 - precision: 0.8276 - val_loss: 0.2649 - val_accuracy: 0.8871 - val_precision: 0.8672\n",
      "Epoch 49/50\n",
      "334/334 [==============================] - 674s 2s/step - loss: 0.2965 - accuracy: 0.8732 - precision: 0.8274 - val_loss: 0.2767 - val_accuracy: 0.8857 - val_precision: 0.8465\n",
      "Epoch 50/50\n",
      "334/334 [==============================] - 672s 2s/step - loss: 0.2897 - accuracy: 0.8786 - precision: 0.8317 - val_loss: 0.2648 - val_accuracy: 0.8880 - val_precision: 0.8686\n"
     ]
    }
   ],
   "source": [
    "with tf.device('/cpu:0'): # enabling cpu to train the model\n",
    "    history = model.fit(train_dataset, epochs=50, validation_data=test_dataset,initial_epoch=30)"
   ]
  },
  {
   "cell_type": "code",
   "execution_count": 56,
   "id": "9d357b47-8616-48a8-be85-346848a829b0",
   "metadata": {},
   "outputs": [
    {
     "name": "stdout",
     "output_type": "stream",
     "text": [
      "Epoch 51/60\n",
      "334/334 [==============================] - 664s 2s/step - loss: 0.2859 - accuracy: 0.8788 - precision: 0.8285 - val_loss: 0.2833 - val_accuracy: 0.8818 - val_precision: 0.8543\n",
      "Epoch 52/60\n",
      "334/334 [==============================] - 665s 2s/step - loss: 0.2890 - accuracy: 0.8766 - precision: 0.8295 - val_loss: 0.2656 - val_accuracy: 0.8854 - val_precision: 0.8622\n",
      "Epoch 53/60\n",
      "334/334 [==============================] - 667s 2s/step - loss: 0.2870 - accuracy: 0.8806 - precision: 0.8299 - val_loss: 0.2899 - val_accuracy: 0.8821 - val_precision: 0.8652\n",
      "Epoch 54/60\n",
      "334/334 [==============================] - 665s 2s/step - loss: 0.2826 - accuracy: 0.8821 - precision: 0.8333 - val_loss: 0.2769 - val_accuracy: 0.8846 - val_precision: 0.8682\n",
      "Epoch 55/60\n",
      "334/334 [==============================] - 669s 2s/step - loss: 0.2893 - accuracy: 0.8787 - precision: 0.8309 - val_loss: 0.2709 - val_accuracy: 0.8882 - val_precision: 0.8385\n",
      "Epoch 56/60\n",
      "334/334 [==============================] - 667s 2s/step - loss: 0.2809 - accuracy: 0.8814 - precision: 0.8355 - val_loss: 0.2740 - val_accuracy: 0.8849 - val_precision: 0.8598\n",
      "Epoch 57/60\n",
      "334/334 [==============================] - 667s 2s/step - loss: 0.2827 - accuracy: 0.8790 - precision: 0.8338 - val_loss: 0.2753 - val_accuracy: 0.8868 - val_precision: 0.8463\n",
      "Epoch 58/60\n",
      "334/334 [==============================] - 667s 2s/step - loss: 0.2736 - accuracy: 0.8827 - precision: 0.8379 - val_loss: 0.2660 - val_accuracy: 0.8857 - val_precision: 0.8460\n",
      "Epoch 59/60\n",
      "334/334 [==============================] - 666s 2s/step - loss: 0.2725 - accuracy: 0.8863 - precision: 0.8395 - val_loss: 0.2764 - val_accuracy: 0.8823 - val_precision: 0.8484\n",
      "Epoch 60/60\n",
      "334/334 [==============================] - 668s 2s/step - loss: 0.2788 - accuracy: 0.8824 - precision: 0.8349 - val_loss: 0.2716 - val_accuracy: 0.8854 - val_precision: 0.8660\n"
     ]
    }
   ],
   "source": [
    "with tf.device('/cpu:0'): # enabling cpu to train the model\n",
    "    history = model.fit(train_dataset, epochs=60, validation_data=test_dataset,initial_epoch=50)"
   ]
  },
  {
   "cell_type": "code",
   "execution_count": 57,
   "id": "0c61bf27-7a58-41d5-a744-7c2de7bf20b7",
   "metadata": {},
   "outputs": [
    {
     "name": "stdout",
     "output_type": "stream",
     "text": [
      "Epoch 61/100\n",
      "334/334 [==============================] - 664s 2s/step - loss: 0.2826 - accuracy: 0.8798 - precision: 0.8336 - val_loss: 0.2784 - val_accuracy: 0.8857 - val_precision: 0.8513\n",
      "Epoch 62/100\n",
      "334/334 [==============================] - 668s 2s/step - loss: 0.2731 - accuracy: 0.8832 - precision: 0.8360 - val_loss: 0.2661 - val_accuracy: 0.8888 - val_precision: 0.8658\n",
      "Epoch 63/100\n",
      "334/334 [==============================] - 668s 2s/step - loss: 0.2761 - accuracy: 0.8807 - precision: 0.8383 - val_loss: 0.2963 - val_accuracy: 0.8748 - val_precision: 0.8473\n",
      "Epoch 64/100\n",
      "334/334 [==============================] - 668s 2s/step - loss: 0.2717 - accuracy: 0.8827 - precision: 0.8389 - val_loss: 0.2580 - val_accuracy: 0.8865 - val_precision: 0.8820\n",
      "Epoch 65/100\n",
      "334/334 [==============================] - 669s 2s/step - loss: 0.2654 - accuracy: 0.8863 - precision: 0.8483 - val_loss: 0.2949 - val_accuracy: 0.8807 - val_precision: 0.8745\n",
      "Epoch 66/100\n",
      "334/334 [==============================] - 669s 2s/step - loss: 0.2690 - accuracy: 0.8884 - precision: 0.8422 - val_loss: 0.2681 - val_accuracy: 0.8860 - val_precision: 0.8270\n",
      "Epoch 67/100\n",
      "334/334 [==============================] - 668s 2s/step - loss: 0.2576 - accuracy: 0.8885 - precision: 0.8471 - val_loss: 0.2902 - val_accuracy: 0.8826 - val_precision: 0.8556\n",
      "Epoch 68/100\n",
      "334/334 [==============================] - 669s 2s/step - loss: 0.2741 - accuracy: 0.8839 - precision: 0.8415 - val_loss: 0.2700 - val_accuracy: 0.8877 - val_precision: 0.8643\n",
      "Epoch 69/100\n",
      "334/334 [==============================] - 670s 2s/step - loss: 0.2574 - accuracy: 0.8919 - precision: 0.8535 - val_loss: 0.2562 - val_accuracy: 0.8947 - val_precision: 0.8717\n",
      "Epoch 70/100\n",
      "334/334 [==============================] - 675s 2s/step - loss: 0.2679 - accuracy: 0.8875 - precision: 0.8462 - val_loss: 0.2506 - val_accuracy: 0.8950 - val_precision: 0.8685\n",
      "Epoch 71/100\n",
      "334/334 [==============================] - 675s 2s/step - loss: 0.2633 - accuracy: 0.8914 - precision: 0.8500 - val_loss: 0.2598 - val_accuracy: 0.8882 - val_precision: 0.8560\n",
      "Epoch 72/100\n",
      "334/334 [==============================] - 675s 2s/step - loss: 0.2658 - accuracy: 0.8874 - precision: 0.8489 - val_loss: 0.2647 - val_accuracy: 0.8919 - val_precision: 0.8629\n",
      "Epoch 73/100\n",
      "334/334 [==============================] - 675s 2s/step - loss: 0.2539 - accuracy: 0.8934 - precision: 0.8537 - val_loss: 0.2587 - val_accuracy: 0.8891 - val_precision: 0.8755\n",
      "Epoch 74/100\n",
      "334/334 [==============================] - 674s 2s/step - loss: 0.2600 - accuracy: 0.8919 - precision: 0.8529 - val_loss: 0.2914 - val_accuracy: 0.8778 - val_precision: 0.8515\n",
      "Epoch 75/100\n",
      "334/334 [==============================] - 674s 2s/step - loss: 0.2650 - accuracy: 0.8881 - precision: 0.8495 - val_loss: 0.2550 - val_accuracy: 0.8896 - val_precision: 0.8563\n",
      "Epoch 76/100\n",
      "334/334 [==============================] - 673s 2s/step - loss: 0.2602 - accuracy: 0.8898 - precision: 0.8472 - val_loss: 0.3014 - val_accuracy: 0.8725 - val_precision: 0.8636\n",
      "Epoch 77/100\n",
      "334/334 [==============================] - 673s 2s/step - loss: 0.2588 - accuracy: 0.8904 - precision: 0.8471 - val_loss: 0.2947 - val_accuracy: 0.8711 - val_precision: 0.8479\n",
      "Epoch 78/100\n",
      "334/334 [==============================] - 673s 2s/step - loss: 0.2590 - accuracy: 0.8910 - precision: 0.8484 - val_loss: 0.2577 - val_accuracy: 0.8916 - val_precision: 0.8661\n",
      "Epoch 79/100\n",
      "334/334 [==============================] - 673s 2s/step - loss: 0.2521 - accuracy: 0.8924 - precision: 0.8546 - val_loss: 0.2531 - val_accuracy: 0.8902 - val_precision: 0.8660\n",
      "Epoch 80/100\n",
      "334/334 [==============================] - 693s 2s/step - loss: 0.2531 - accuracy: 0.8935 - precision: 0.8554 - val_loss: 0.2896 - val_accuracy: 0.8748 - val_precision: 0.8582\n",
      "Epoch 81/100\n",
      "334/334 [==============================] - 723s 2s/step - loss: 0.2558 - accuracy: 0.8931 - precision: 0.8478 - val_loss: 0.2650 - val_accuracy: 0.8896 - val_precision: 0.8800\n",
      "Epoch 82/100\n",
      "334/334 [==============================] - 710s 2s/step - loss: 0.2490 - accuracy: 0.8960 - precision: 0.8583 - val_loss: 0.2748 - val_accuracy: 0.8868 - val_precision: 0.8607\n",
      "Epoch 83/100\n",
      "334/334 [==============================] - 700s 2s/step - loss: 0.2594 - accuracy: 0.8918 - precision: 0.8523 - val_loss: 0.2688 - val_accuracy: 0.8930 - val_precision: 0.8635\n",
      "Epoch 84/100\n",
      "334/334 [==============================] - 704s 2s/step - loss: 0.2551 - accuracy: 0.8937 - precision: 0.8536 - val_loss: 0.2494 - val_accuracy: 0.8919 - val_precision: 0.8722\n",
      "Epoch 85/100\n",
      "334/334 [==============================] - 698s 2s/step - loss: 0.2498 - accuracy: 0.8980 - precision: 0.8576 - val_loss: 0.2546 - val_accuracy: 0.8919 - val_precision: 0.8624\n",
      "Epoch 86/100\n",
      "334/334 [==============================] - 707s 2s/step - loss: 0.2511 - accuracy: 0.8919 - precision: 0.8562 - val_loss: 0.2986 - val_accuracy: 0.8776 - val_precision: 0.8528\n",
      "Epoch 87/100\n",
      "334/334 [==============================] - 710s 2s/step - loss: 0.2552 - accuracy: 0.8925 - precision: 0.8540 - val_loss: 0.2477 - val_accuracy: 0.8953 - val_precision: 0.8556\n",
      "Epoch 88/100\n",
      "334/334 [==============================] - 720s 2s/step - loss: 0.2445 - accuracy: 0.8996 - precision: 0.8557 - val_loss: 0.3523 - val_accuracy: 0.8585 - val_precision: 0.8340\n",
      "Epoch 89/100\n",
      "334/334 [==============================] - 710s 2s/step - loss: 0.2515 - accuracy: 0.8946 - precision: 0.8545 - val_loss: 0.2500 - val_accuracy: 0.8944 - val_precision: 0.8587\n",
      "Epoch 90/100\n",
      "334/334 [==============================] - 703s 2s/step - loss: 0.2454 - accuracy: 0.8933 - precision: 0.8562 - val_loss: 0.2494 - val_accuracy: 0.8997 - val_precision: 0.8809\n",
      "Epoch 91/100\n",
      "334/334 [==============================] - 705s 2s/step - loss: 0.2444 - accuracy: 0.8974 - precision: 0.8577 - val_loss: 0.2436 - val_accuracy: 0.8975 - val_precision: 0.8601\n",
      "Epoch 92/100\n",
      "334/334 [==============================] - 691s 2s/step - loss: 0.2521 - accuracy: 0.8952 - precision: 0.8581 - val_loss: 0.2544 - val_accuracy: 0.8933 - val_precision: 0.8657\n",
      "Epoch 93/100\n",
      "334/334 [==============================] - 687s 2s/step - loss: 0.2500 - accuracy: 0.8937 - precision: 0.8565 - val_loss: 0.2471 - val_accuracy: 0.8913 - val_precision: 0.8761\n",
      "Epoch 94/100\n",
      "334/334 [==============================] - 704s 2s/step - loss: 0.2449 - accuracy: 0.8997 - precision: 0.8558 - val_loss: 0.2666 - val_accuracy: 0.8913 - val_precision: 0.8548\n",
      "Epoch 95/100\n",
      "334/334 [==============================] - 689s 2s/step - loss: 0.2417 - accuracy: 0.9001 - precision: 0.8595 - val_loss: 0.2423 - val_accuracy: 0.8986 - val_precision: 0.8558\n",
      "Epoch 96/100\n",
      "334/334 [==============================] - 682s 2s/step - loss: 0.2388 - accuracy: 0.9000 - precision: 0.8620 - val_loss: 0.2471 - val_accuracy: 0.8947 - val_precision: 0.8643\n",
      "Epoch 97/100\n",
      "334/334 [==============================] - 692s 2s/step - loss: 0.2447 - accuracy: 0.8988 - precision: 0.8592 - val_loss: 0.2459 - val_accuracy: 0.8953 - val_precision: 0.8693\n",
      "Epoch 98/100\n",
      "334/334 [==============================] - 689s 2s/step - loss: 0.2383 - accuracy: 0.8993 - precision: 0.8615 - val_loss: 0.2485 - val_accuracy: 0.8961 - val_precision: 0.8731\n",
      "Epoch 99/100\n",
      "334/334 [==============================] - 676s 2s/step - loss: 0.2482 - accuracy: 0.8966 - precision: 0.8555 - val_loss: 0.2460 - val_accuracy: 0.8955 - val_precision: 0.8493\n",
      "Epoch 100/100\n",
      "334/334 [==============================] - 680s 2s/step - loss: 0.2430 - accuracy: 0.8992 - precision: 0.8602 - val_loss: 0.2621 - val_accuracy: 0.8947 - val_precision: 0.8634\n"
     ]
    }
   ],
   "source": [
    "with tf.device('/cpu:0'): # enabling cpu to train the model\n",
    "    history = model.fit(train_dataset, epochs=100, validation_data=test_dataset,initial_epoch=60)"
   ]
  },
  {
   "cell_type": "code",
   "execution_count": 85,
   "id": "0c9c30ca-84c7-4698-994d-af7da4864357",
   "metadata": {},
   "outputs": [
    {
     "name": "stdout",
     "output_type": "stream",
     "text": [
      "Epoch 101/150\n",
      "334/334 [==============================] - 680s 2s/step - loss: 0.2307 - accuracy: 0.9021 - precision: 0.8632 - val_loss: 0.3235 - val_accuracy: 0.8694 - val_precision: 0.8348\n",
      "Epoch 102/150\n",
      "334/334 [==============================] - 683s 2s/step - loss: 0.2310 - accuracy: 0.9041 - precision: 0.8618 - val_loss: 0.2452 - val_accuracy: 0.8961 - val_precision: 0.8717\n",
      "Epoch 103/150\n",
      "334/334 [==============================] - 687s 2s/step - loss: 0.2427 - accuracy: 0.9003 - precision: 0.8590 - val_loss: 0.2431 - val_accuracy: 0.8944 - val_precision: 0.8633\n",
      "Epoch 104/150\n",
      "334/334 [==============================] - 683s 2s/step - loss: 0.2425 - accuracy: 0.8998 - precision: 0.8601 - val_loss: 0.2634 - val_accuracy: 0.8910 - val_precision: 0.8558\n",
      "Epoch 105/150\n",
      "334/334 [==============================] - 682s 2s/step - loss: 0.2370 - accuracy: 0.9015 - precision: 0.8640 - val_loss: 0.2984 - val_accuracy: 0.8781 - val_precision: 0.8702\n",
      "Epoch 106/150\n",
      "334/334 [==============================] - 683s 2s/step - loss: 0.2352 - accuracy: 0.9012 - precision: 0.8631 - val_loss: 0.2460 - val_accuracy: 0.8955 - val_precision: 0.8576\n",
      "Epoch 107/150\n",
      "334/334 [==============================] - 683s 2s/step - loss: 0.2379 - accuracy: 0.8983 - precision: 0.8580 - val_loss: 0.2575 - val_accuracy: 0.8947 - val_precision: 0.8692\n",
      "Epoch 108/150\n",
      "334/334 [==============================] - 684s 2s/step - loss: 0.2319 - accuracy: 0.9040 - precision: 0.8625 - val_loss: 0.2868 - val_accuracy: 0.8804 - val_precision: 0.8438\n",
      "Epoch 109/150\n",
      "334/334 [==============================] - 680s 2s/step - loss: 0.2305 - accuracy: 0.9032 - precision: 0.8671 - val_loss: 0.2447 - val_accuracy: 0.8969 - val_precision: 0.8665\n",
      "Epoch 110/150\n",
      "334/334 [==============================] - 680s 2s/step - loss: 0.2325 - accuracy: 0.9000 - precision: 0.8662 - val_loss: 0.2497 - val_accuracy: 0.8978 - val_precision: 0.8725\n",
      "Epoch 111/150\n",
      "334/334 [==============================] - 680s 2s/step - loss: 0.2336 - accuracy: 0.9065 - precision: 0.8674 - val_loss: 0.2848 - val_accuracy: 0.8840 - val_precision: 0.8810\n",
      "Epoch 112/150\n",
      "334/334 [==============================] - 681s 2s/step - loss: 0.2330 - accuracy: 0.9038 - precision: 0.8662 - val_loss: 0.2470 - val_accuracy: 0.8972 - val_precision: 0.8708\n",
      "Epoch 113/150\n",
      "334/334 [==============================] - 681s 2s/step - loss: 0.2304 - accuracy: 0.9057 - precision: 0.8677 - val_loss: 0.2503 - val_accuracy: 0.8924 - val_precision: 0.8621\n",
      "Epoch 114/150\n",
      "334/334 [==============================] - 680s 2s/step - loss: 0.2321 - accuracy: 0.9059 - precision: 0.8672 - val_loss: 0.2414 - val_accuracy: 0.8950 - val_precision: 0.8849\n",
      "Epoch 115/150\n",
      "334/334 [==============================] - 680s 2s/step - loss: 0.2320 - accuracy: 0.9048 - precision: 0.8649 - val_loss: 0.3080 - val_accuracy: 0.8798 - val_precision: 0.8698\n",
      "Epoch 116/150\n",
      "334/334 [==============================] - 681s 2s/step - loss: 0.2345 - accuracy: 0.9016 - precision: 0.8671 - val_loss: 0.2463 - val_accuracy: 0.8950 - val_precision: 0.8702\n",
      "Epoch 117/150\n",
      "334/334 [==============================] - 681s 2s/step - loss: 0.2267 - accuracy: 0.9068 - precision: 0.8679 - val_loss: 0.2656 - val_accuracy: 0.8916 - val_precision: 0.8818\n",
      "Epoch 118/150\n",
      "334/334 [==============================] - 682s 2s/step - loss: 0.2294 - accuracy: 0.9042 - precision: 0.8730 - val_loss: 0.2465 - val_accuracy: 0.8958 - val_precision: 0.8723\n",
      "Epoch 119/150\n",
      "334/334 [==============================] - 681s 2s/step - loss: 0.2279 - accuracy: 0.9038 - precision: 0.8663 - val_loss: 0.2472 - val_accuracy: 0.8933 - val_precision: 0.8630\n",
      "Epoch 120/150\n",
      "334/334 [==============================] - 680s 2s/step - loss: 0.2225 - accuracy: 0.9093 - precision: 0.8736 - val_loss: 0.2683 - val_accuracy: 0.8922 - val_precision: 0.8712\n",
      "Epoch 121/150\n",
      "334/334 [==============================] - 680s 2s/step - loss: 0.2272 - accuracy: 0.9057 - precision: 0.8670 - val_loss: 0.2437 - val_accuracy: 0.8969 - val_precision: 0.8633\n",
      "Epoch 122/150\n",
      "334/334 [==============================] - 681s 2s/step - loss: 0.2264 - accuracy: 0.9072 - precision: 0.8678 - val_loss: 0.2487 - val_accuracy: 0.8969 - val_precision: 0.8734\n",
      "Epoch 123/150\n",
      "334/334 [==============================] - 680s 2s/step - loss: 0.2269 - accuracy: 0.9092 - precision: 0.8732 - val_loss: 0.2566 - val_accuracy: 0.8950 - val_precision: 0.8702\n",
      "Epoch 124/150\n",
      "334/334 [==============================] - 682s 2s/step - loss: 0.2295 - accuracy: 0.9056 - precision: 0.8635 - val_loss: 0.2409 - val_accuracy: 0.8997 - val_precision: 0.8843\n",
      "Epoch 125/150\n",
      "334/334 [==============================] - 681s 2s/step - loss: 0.2354 - accuracy: 0.8986 - precision: 0.8613 - val_loss: 0.2463 - val_accuracy: 0.8947 - val_precision: 0.8660\n",
      "Epoch 126/150\n",
      "334/334 [==============================] - 680s 2s/step - loss: 0.2186 - accuracy: 0.9092 - precision: 0.8733 - val_loss: 0.2384 - val_accuracy: 0.8964 - val_precision: 0.8752\n",
      "Epoch 127/150\n",
      "334/334 [==============================] - 680s 2s/step - loss: 0.2140 - accuracy: 0.9128 - precision: 0.8725 - val_loss: 0.2487 - val_accuracy: 0.8933 - val_precision: 0.8628\n",
      "Epoch 128/150\n",
      "334/334 [==============================] - 680s 2s/step - loss: 0.2173 - accuracy: 0.9113 - precision: 0.8724 - val_loss: 0.2406 - val_accuracy: 0.8981 - val_precision: 0.8617\n",
      "Epoch 129/150\n",
      "334/334 [==============================] - 682s 2s/step - loss: 0.2192 - accuracy: 0.9098 - precision: 0.8685 - val_loss: 0.2438 - val_accuracy: 0.8953 - val_precision: 0.8680\n",
      "Epoch 130/150\n",
      "334/334 [==============================] - 682s 2s/step - loss: 0.2245 - accuracy: 0.9093 - precision: 0.8665 - val_loss: 0.2391 - val_accuracy: 0.8969 - val_precision: 0.8737\n",
      "Epoch 131/150\n",
      "334/334 [==============================] - 681s 2s/step - loss: 0.2201 - accuracy: 0.9066 - precision: 0.8707 - val_loss: 0.2665 - val_accuracy: 0.8955 - val_precision: 0.8722\n",
      "Epoch 132/150\n",
      "334/334 [==============================] - 680s 2s/step - loss: 0.2255 - accuracy: 0.9060 - precision: 0.8654 - val_loss: 0.2475 - val_accuracy: 0.8910 - val_precision: 0.8583\n",
      "Epoch 133/150\n",
      "334/334 [==============================] - 680s 2s/step - loss: 0.2215 - accuracy: 0.9071 - precision: 0.8688 - val_loss: 0.2568 - val_accuracy: 0.8941 - val_precision: 0.8702\n",
      "Epoch 134/150\n",
      "334/334 [==============================] - 681s 2s/step - loss: 0.2184 - accuracy: 0.9089 - precision: 0.8682 - val_loss: 0.2540 - val_accuracy: 0.8964 - val_precision: 0.8714\n",
      "Epoch 135/150\n",
      "334/334 [==============================] - 682s 2s/step - loss: 0.2183 - accuracy: 0.9115 - precision: 0.8730 - val_loss: 0.2449 - val_accuracy: 0.8995 - val_precision: 0.8786\n",
      "Epoch 136/150\n",
      "334/334 [==============================] - 683s 2s/step - loss: 0.2171 - accuracy: 0.9089 - precision: 0.8695 - val_loss: 0.2403 - val_accuracy: 0.8972 - val_precision: 0.8734\n",
      "Epoch 137/150\n",
      "334/334 [==============================] - 683s 2s/step - loss: 0.2240 - accuracy: 0.9054 - precision: 0.8667 - val_loss: 0.2410 - val_accuracy: 0.8978 - val_precision: 0.8589\n",
      "Epoch 138/150\n",
      "334/334 [==============================] - 681s 2s/step - loss: 0.2200 - accuracy: 0.9075 - precision: 0.8708 - val_loss: 0.2483 - val_accuracy: 0.8986 - val_precision: 0.8793\n",
      "Epoch 139/150\n",
      "334/334 [==============================] - 680s 2s/step - loss: 0.2147 - accuracy: 0.9137 - precision: 0.8716 - val_loss: 0.2339 - val_accuracy: 0.8997 - val_precision: 0.8728\n",
      "Epoch 140/150\n",
      "334/334 [==============================] - 681s 2s/step - loss: 0.2137 - accuracy: 0.9136 - precision: 0.8752 - val_loss: 0.2313 - val_accuracy: 0.9003 - val_precision: 0.8715\n",
      "Epoch 141/150\n",
      "334/334 [==============================] - 682s 2s/step - loss: 0.2189 - accuracy: 0.9102 - precision: 0.8690 - val_loss: 0.2431 - val_accuracy: 0.8955 - val_precision: 0.8739\n",
      "Epoch 142/150\n",
      "334/334 [==============================] - 682s 2s/step - loss: 0.2156 - accuracy: 0.9121 - precision: 0.8715 - val_loss: 0.2356 - val_accuracy: 0.9000 - val_precision: 0.8833\n",
      "Epoch 143/150\n",
      "334/334 [==============================] - 683s 2s/step - loss: 0.2100 - accuracy: 0.9142 - precision: 0.8713 - val_loss: 0.2764 - val_accuracy: 0.8908 - val_precision: 0.8669\n",
      "Epoch 144/150\n",
      "334/334 [==============================] - 682s 2s/step - loss: 0.2085 - accuracy: 0.9174 - precision: 0.8752 - val_loss: 0.2466 - val_accuracy: 0.8989 - val_precision: 0.8837\n",
      "Epoch 145/150\n",
      "334/334 [==============================] - 685s 2s/step - loss: 0.2097 - accuracy: 0.9156 - precision: 0.8760 - val_loss: 0.2377 - val_accuracy: 0.9028 - val_precision: 0.8819\n",
      "Epoch 146/150\n",
      "334/334 [==============================] - 683s 2s/step - loss: 0.2120 - accuracy: 0.9154 - precision: 0.8747 - val_loss: 0.2357 - val_accuracy: 0.9028 - val_precision: 0.8744\n",
      "Epoch 147/150\n",
      "334/334 [==============================] - 684s 2s/step - loss: 0.2163 - accuracy: 0.9107 - precision: 0.8674 - val_loss: 0.3011 - val_accuracy: 0.8840 - val_precision: 0.8755\n",
      "Epoch 148/150\n",
      "334/334 [==============================] - 681s 2s/step - loss: 0.2157 - accuracy: 0.9113 - precision: 0.8719 - val_loss: 0.2459 - val_accuracy: 0.8969 - val_precision: 0.8750\n",
      "Epoch 149/150\n",
      "334/334 [==============================] - 681s 2s/step - loss: 0.2156 - accuracy: 0.9104 - precision: 0.8730 - val_loss: 0.2574 - val_accuracy: 0.8992 - val_precision: 0.8805\n",
      "Epoch 150/150\n",
      "334/334 [==============================] - 681s 2s/step - loss: 0.2163 - accuracy: 0.9099 - precision: 0.8725 - val_loss: 0.2335 - val_accuracy: 0.9009 - val_precision: 0.8819\n"
     ]
    }
   ],
   "source": [
    "with tf.device('/cpu:0'): # enabling cpu to train the model\n",
    "    history = model.fit(train_dataset, epochs=150, validation_data=test_dataset,initial_epoch=100)"
   ]
  },
  {
   "cell_type": "code",
   "execution_count": 86,
   "id": "8dde1fd3-1494-415a-acc6-fef6698116e7",
   "metadata": {},
   "outputs": [
    {
     "name": "stdout",
     "output_type": "stream",
     "text": [
      "Saved model to disk\n"
     ]
    }
   ],
   "source": [
    "# saving the model locally\n",
    "\n",
    "model.save(\"melanoma-VGG16base-model-150.h5\")\n",
    "print(\"Saved model to disk\")"
   ]
  },
  {
   "cell_type": "markdown",
   "id": "611e57c2-322f-432e-915f-3edb9a593796",
   "metadata": {},
   "source": [
    "### Validation"
   ]
  },
  {
   "cell_type": "code",
   "execution_count": 87,
   "id": "f5ebba2a-5c12-4e1d-9291-769b616dbaf0",
   "metadata": {},
   "outputs": [],
   "source": [
    "# Initializing validation variables\n",
    "\n",
    "validation_filenames = []\n",
    "validation_images = []\n",
    "validation_labels = []\n",
    "validation_path = './DermMel/valid/'\n",
    "\n",
    "# Invoking read_image() in order to read the images from the path and to store in the above initialized array\n",
    "\n",
    "read_image(path=validation_path, images=validation_images, labels=validation_labels, filenames=validation_filenames)"
   ]
  },
  {
   "cell_type": "markdown",
   "id": "8931d92a-d075-46cd-8c2d-af1967ec4865",
   "metadata": {},
   "source": [
    "### Validation Data"
   ]
  },
  {
   "cell_type": "code",
   "execution_count": 88,
   "id": "97941fd9-7fdc-42f6-b6c6-7270245ff19a",
   "metadata": {},
   "outputs": [
    {
     "data": {
      "text/html": [
       "<div>\n",
       "<style scoped>\n",
       "    .dataframe tbody tr th:only-of-type {\n",
       "        vertical-align: middle;\n",
       "    }\n",
       "\n",
       "    .dataframe tbody tr th {\n",
       "        vertical-align: top;\n",
       "    }\n",
       "\n",
       "    .dataframe thead th {\n",
       "        text-align: right;\n",
       "    }\n",
       "</style>\n",
       "<table border=\"1\" class=\"dataframe\">\n",
       "  <thead>\n",
       "    <tr style=\"text-align: right;\">\n",
       "      <th></th>\n",
       "      <th>filename</th>\n",
       "      <th>category</th>\n",
       "    </tr>\n",
       "  </thead>\n",
       "  <tbody>\n",
       "    <tr>\n",
       "      <th>0</th>\n",
       "      <td>Melanoma/AUGmented_0_1006.jpeg</td>\n",
       "      <td>Melanoma</td>\n",
       "    </tr>\n",
       "    <tr>\n",
       "      <th>1</th>\n",
       "      <td>Melanoma/AUGmented_0_1058.jpeg</td>\n",
       "      <td>Melanoma</td>\n",
       "    </tr>\n",
       "    <tr>\n",
       "      <th>2</th>\n",
       "      <td>Melanoma/AUGmented_0_110.jpeg</td>\n",
       "      <td>Melanoma</td>\n",
       "    </tr>\n",
       "    <tr>\n",
       "      <th>3</th>\n",
       "      <td>Melanoma/AUGmented_0_1108.jpeg</td>\n",
       "      <td>Melanoma</td>\n",
       "    </tr>\n",
       "    <tr>\n",
       "      <th>4</th>\n",
       "      <td>Melanoma/AUGmented_0_1140.jpeg</td>\n",
       "      <td>Melanoma</td>\n",
       "    </tr>\n",
       "    <tr>\n",
       "      <th>...</th>\n",
       "      <td>...</td>\n",
       "      <td>...</td>\n",
       "    </tr>\n",
       "    <tr>\n",
       "      <th>3557</th>\n",
       "      <td>NotMelanoma/ISIC_0034292.jpg</td>\n",
       "      <td>NotMelanoma</td>\n",
       "    </tr>\n",
       "    <tr>\n",
       "      <th>3558</th>\n",
       "      <td>NotMelanoma/ISIC_0034297.jpg</td>\n",
       "      <td>NotMelanoma</td>\n",
       "    </tr>\n",
       "    <tr>\n",
       "      <th>3559</th>\n",
       "      <td>NotMelanoma/ISIC_0034305.jpg</td>\n",
       "      <td>NotMelanoma</td>\n",
       "    </tr>\n",
       "    <tr>\n",
       "      <th>3560</th>\n",
       "      <td>NotMelanoma/ISIC_0034308.jpg</td>\n",
       "      <td>NotMelanoma</td>\n",
       "    </tr>\n",
       "    <tr>\n",
       "      <th>3561</th>\n",
       "      <td>NotMelanoma/ISIC_0034310.jpg</td>\n",
       "      <td>NotMelanoma</td>\n",
       "    </tr>\n",
       "  </tbody>\n",
       "</table>\n",
       "<p>3562 rows × 2 columns</p>\n",
       "</div>"
      ],
      "text/plain": [
       "                            filename     category\n",
       "0     Melanoma/AUGmented_0_1006.jpeg     Melanoma\n",
       "1     Melanoma/AUGmented_0_1058.jpeg     Melanoma\n",
       "2      Melanoma/AUGmented_0_110.jpeg     Melanoma\n",
       "3     Melanoma/AUGmented_0_1108.jpeg     Melanoma\n",
       "4     Melanoma/AUGmented_0_1140.jpeg     Melanoma\n",
       "...                              ...          ...\n",
       "3557    NotMelanoma/ISIC_0034292.jpg  NotMelanoma\n",
       "3558    NotMelanoma/ISIC_0034297.jpg  NotMelanoma\n",
       "3559    NotMelanoma/ISIC_0034305.jpg  NotMelanoma\n",
       "3560    NotMelanoma/ISIC_0034308.jpg  NotMelanoma\n",
       "3561    NotMelanoma/ISIC_0034310.jpg  NotMelanoma\n",
       "\n",
       "[3562 rows x 2 columns]"
      ]
     },
     "execution_count": 88,
     "metadata": {},
     "output_type": "execute_result"
    }
   ],
   "source": [
    "# Test dataframe made from create_dataframe()\n",
    "\n",
    "val_df = create_dataframe(filenames=validation_filenames, labels=validation_labels)\n",
    "val_df"
   ]
  },
  {
   "cell_type": "code",
   "execution_count": 89,
   "id": "2fe4926b-b001-453a-a1df-15a74913f95d",
   "metadata": {
    "tags": []
   },
   "outputs": [
    {
     "data": {
      "image/png": "[encoded data removed]",
      "text/plain": [
       "<Figure size 640x480 with 1 Axes>"
      ]
     },
     "metadata": {},
     "output_type": "display_data"
    }
   ],
   "source": [
    "# Invoking draw_count_plot()\n",
    "\n",
    "draw_countplot(dataframe=val_df, y_axis='category', title='Validation Data')"
   ]
  },
  {
   "cell_type": "markdown",
   "id": "7fdb0d5e-2142-46da-a9d2-8fe39e98de27",
   "metadata": {},
   "source": [
    "### pre-processing and validation dataset creation"
   ]
  },
  {
   "cell_type": "code",
   "execution_count": 90,
   "id": "621dacbb-3f4e-4cad-af85-8380552ff825",
   "metadata": {},
   "outputs": [
    {
     "name": "stdout",
     "output_type": "stream",
     "text": [
      "Found 3562 non-validated image filenames belonging to 2 classes.\n"
     ]
    }
   ],
   "source": [
    "# pre-processing test data\n",
    "\n",
    "val_datag=ImageDataGenerator(rescale=1./255) # converting the pixels of image between o's and 1's\n",
    "\n",
    "# Getting test images using flow_from_datafram()\n",
    "\n",
    "val_dataset=val_datag.flow_from_dataframe(dataframe=val_df, # dataframe name\n",
    "                                            directory=validation_path, # path\n",
    "                                            x_col=\"filename\", # x_col value\n",
    "                                            y_col=\"category\", # y_col value\n",
    "                                            color_mode='rgb', # color of the image used 'rgb' as the dataset contain rgb image\n",
    "                                            target_size=Image_Size, # setting the size of image\n",
    "                                            batch_size=32,  # mini-batch gradient descent (takes 32 images in one go)\n",
    "                                            \n",
    "                                            # while generating the test_dataset the machine won't validate names, due to some non-acceptable names someof the images are not read by the machine so to avoid that this param is used\n",
    "                                            validate_filenames=False, # whether to validate names or not \n",
    "                                          \n",
    "                                            shuffle=False, # made shuffle to false in order to make sure that the test dataset isn't shuffled\n",
    "                                            class_mode='categorical', # categorical is chosen as it is the classification problem\n",
    "                                           )"
   ]
  },
  {
   "cell_type": "code",
   "execution_count": 91,
   "id": "288e540d-1f78-4d71-8055-6a15b9bdc564",
   "metadata": {},
   "outputs": [
    {
     "data": {
      "text/plain": [
       "{'Melanoma': 0, 'NotMelanoma': 1}"
      ]
     },
     "execution_count": 91,
     "metadata": {},
     "output_type": "execute_result"
    }
   ],
   "source": [
    "test_dataset.class_indices #gives the key for the target values"
   ]
  },
  {
   "cell_type": "code",
   "execution_count": 92,
   "id": "3a8a5fc9-d512-45f1-bf75-115c1078ee50",
   "metadata": {},
   "outputs": [
    {
     "data": {
      "text/plain": [
       "{'Melanoma': 0, 'NotMelanoma': 1}"
      ]
     },
     "execution_count": 92,
     "metadata": {},
     "output_type": "execute_result"
    }
   ],
   "source": [
    "val_dataset.class_indices #gives the key for the target values"
   ]
  },
  {
   "cell_type": "markdown",
   "id": "9f0a7a60-7bda-4477-9dd2-08bff4e8aef8",
   "metadata": {},
   "source": [
    "### **Predicting**"
   ]
  },
  {
   "cell_type": "markdown",
   "id": "888160d7-8f6a-40c9-85dd-2a2958299ede",
   "metadata": {},
   "source": [
    "#### test_df"
   ]
  },
  {
   "cell_type": "code",
   "execution_count": 93,
   "id": "95b218f8-6e75-4fbb-a178-cbc4c2b7a2cb",
   "metadata": {},
   "outputs": [
    {
     "name": "stdout",
     "output_type": "stream",
     "text": [
      "112/112 [==============================] - 166s 1s/step\n"
     ]
    }
   ],
   "source": [
    "# predicting the model with test dataset\n",
    "\n",
    "with tf.device('/cpu:0'):\n",
    "    test_pred=model.predict(test_dataset)"
   ]
  },
  {
   "cell_type": "code",
   "execution_count": 94,
   "id": "786b0144-a644-4158-8a38-0d607197d89a",
   "metadata": {},
   "outputs": [],
   "source": [
    "# getting the index of the highest value\n",
    "\n",
    "test_df[\"predict\"]=np.argmax(test_pred,axis=1)"
   ]
  },
  {
   "cell_type": "code",
   "execution_count": 95,
   "id": "f9aa38ee-f548-4a79-9121-ac2cf4a84afa",
   "metadata": {},
   "outputs": [],
   "source": [
    "# Assigning the class names for the keys in predict column of the test_df\n",
    "\n",
    "test_df[\"predict_c\"]=test_df[\"predict\"].map({0:\"Melanoma\",1:\"NotMelanoma\"})"
   ]
  },
  {
   "cell_type": "code",
   "execution_count": 96,
   "id": "515e04bd-f6a4-4bcf-ae5a-98ab923d4e3a",
   "metadata": {},
   "outputs": [
    {
     "data": {
      "text/html": [
       "<div>\n",
       "<style scoped>\n",
       "    .dataframe tbody tr th:only-of-type {\n",
       "        vertical-align: middle;\n",
       "    }\n",
       "\n",
       "    .dataframe tbody tr th {\n",
       "        vertical-align: top;\n",
       "    }\n",
       "\n",
       "    .dataframe thead th {\n",
       "        text-align: right;\n",
       "    }\n",
       "</style>\n",
       "<table border=\"1\" class=\"dataframe\">\n",
       "  <thead>\n",
       "    <tr style=\"text-align: right;\">\n",
       "      <th></th>\n",
       "      <th>filename</th>\n",
       "      <th>category</th>\n",
       "      <th>predict</th>\n",
       "      <th>predict_c</th>\n",
       "    </tr>\n",
       "  </thead>\n",
       "  <tbody>\n",
       "    <tr>\n",
       "      <th>0</th>\n",
       "      <td>Melanoma/AUGmented_0_1015.jpeg</td>\n",
       "      <td>Melanoma</td>\n",
       "      <td>0</td>\n",
       "      <td>Melanoma</td>\n",
       "    </tr>\n",
       "    <tr>\n",
       "      <th>1</th>\n",
       "      <td>Melanoma/AUGmented_0_1036.jpeg</td>\n",
       "      <td>Melanoma</td>\n",
       "      <td>0</td>\n",
       "      <td>Melanoma</td>\n",
       "    </tr>\n",
       "    <tr>\n",
       "      <th>2</th>\n",
       "      <td>Melanoma/AUGmented_0_1093.jpeg</td>\n",
       "      <td>Melanoma</td>\n",
       "      <td>0</td>\n",
       "      <td>Melanoma</td>\n",
       "    </tr>\n",
       "    <tr>\n",
       "      <th>3</th>\n",
       "      <td>Melanoma/AUGmented_0_1110.jpeg</td>\n",
       "      <td>Melanoma</td>\n",
       "      <td>0</td>\n",
       "      <td>Melanoma</td>\n",
       "    </tr>\n",
       "    <tr>\n",
       "      <th>4</th>\n",
       "      <td>Melanoma/AUGmented_0_1114.jpeg</td>\n",
       "      <td>Melanoma</td>\n",
       "      <td>0</td>\n",
       "      <td>Melanoma</td>\n",
       "    </tr>\n",
       "    <tr>\n",
       "      <th>...</th>\n",
       "      <td>...</td>\n",
       "      <td>...</td>\n",
       "      <td>...</td>\n",
       "      <td>...</td>\n",
       "    </tr>\n",
       "    <tr>\n",
       "      <th>3556</th>\n",
       "      <td>NotMelanoma/ISIC_0034257.jpg</td>\n",
       "      <td>NotMelanoma</td>\n",
       "      <td>0</td>\n",
       "      <td>Melanoma</td>\n",
       "    </tr>\n",
       "    <tr>\n",
       "      <th>3557</th>\n",
       "      <td>NotMelanoma/ISIC_0034260.jpg</td>\n",
       "      <td>NotMelanoma</td>\n",
       "      <td>1</td>\n",
       "      <td>NotMelanoma</td>\n",
       "    </tr>\n",
       "    <tr>\n",
       "      <th>3558</th>\n",
       "      <td>NotMelanoma/ISIC_0034278.jpg</td>\n",
       "      <td>NotMelanoma</td>\n",
       "      <td>0</td>\n",
       "      <td>Melanoma</td>\n",
       "    </tr>\n",
       "    <tr>\n",
       "      <th>3559</th>\n",
       "      <td>NotMelanoma/ISIC_0034309.jpg</td>\n",
       "      <td>NotMelanoma</td>\n",
       "      <td>1</td>\n",
       "      <td>NotMelanoma</td>\n",
       "    </tr>\n",
       "    <tr>\n",
       "      <th>3560</th>\n",
       "      <td>NotMelanoma/ISIC_0034311.jpg</td>\n",
       "      <td>NotMelanoma</td>\n",
       "      <td>0</td>\n",
       "      <td>Melanoma</td>\n",
       "    </tr>\n",
       "  </tbody>\n",
       "</table>\n",
       "<p>3561 rows × 4 columns</p>\n",
       "</div>"
      ],
      "text/plain": [
       "                            filename     category  predict    predict_c\n",
       "0     Melanoma/AUGmented_0_1015.jpeg     Melanoma        0     Melanoma\n",
       "1     Melanoma/AUGmented_0_1036.jpeg     Melanoma        0     Melanoma\n",
       "2     Melanoma/AUGmented_0_1093.jpeg     Melanoma        0     Melanoma\n",
       "3     Melanoma/AUGmented_0_1110.jpeg     Melanoma        0     Melanoma\n",
       "4     Melanoma/AUGmented_0_1114.jpeg     Melanoma        0     Melanoma\n",
       "...                              ...          ...      ...          ...\n",
       "3556    NotMelanoma/ISIC_0034257.jpg  NotMelanoma        0     Melanoma\n",
       "3557    NotMelanoma/ISIC_0034260.jpg  NotMelanoma        1  NotMelanoma\n",
       "3558    NotMelanoma/ISIC_0034278.jpg  NotMelanoma        0     Melanoma\n",
       "3559    NotMelanoma/ISIC_0034309.jpg  NotMelanoma        1  NotMelanoma\n",
       "3560    NotMelanoma/ISIC_0034311.jpg  NotMelanoma        0     Melanoma\n",
       "\n",
       "[3561 rows x 4 columns]"
      ]
     },
     "execution_count": 96,
     "metadata": {},
     "output_type": "execute_result"
    }
   ],
   "source": [
    "# dispaying the dataframe\n",
    "\n",
    "test_df"
   ]
  },
  {
   "cell_type": "code",
   "execution_count": 97,
   "id": "1a4600b7-af19-4967-92d7-e5af3762fa46",
   "metadata": {},
   "outputs": [
    {
     "data": {
      "image/png": "[encoded data removed]",
      "text/plain": [
       "<Figure size 640x480 with 1 Axes>"
      ]
     },
     "metadata": {},
     "output_type": "display_data"
    }
   ],
   "source": [
    "# Invoking draw_countplot()\n",
    "\n",
    "draw_countplot(dataframe=test_df, y_axis='category', title='Test Data')"
   ]
  },
  {
   "cell_type": "code",
   "execution_count": 98,
   "id": "4234496c-9168-4819-8ba2-536afee9a0a2",
   "metadata": {},
   "outputs": [
    {
     "data": {
      "image/png": "[encoded data removed]",
      "text/plain": [
       "<Figure size 640x480 with 1 Axes>"
      ]
     },
     "metadata": {},
     "output_type": "display_data"
    }
   ],
   "source": [
    "# Invoking draw_countplot()\n",
    "\n",
    "draw_countplot(dataframe=test_df, y_axis='predict_c', title='Predicted Data of test data')"
   ]
  },
  {
   "cell_type": "code",
   "execution_count": 99,
   "id": "a4f41467-b5b1-4c79-840c-25b638e178c2",
   "metadata": {},
   "outputs": [
    {
     "data": {
      "text/plain": [
       "NotMelanoma    1893\n",
       "Melanoma       1668\n",
       "Name: predict_c, dtype: int64"
      ]
     },
     "execution_count": 99,
     "metadata": {},
     "output_type": "execute_result"
    }
   ],
   "source": [
    "# Returns the number of data in each category, the predicted count\n",
    "\n",
    "test_df['predict_c'].value_counts()"
   ]
  },
  {
   "cell_type": "code",
   "execution_count": 100,
   "id": "aec59048-ca21-4392-92bd-9b7aa4869870",
   "metadata": {},
   "outputs": [
    {
     "data": {
      "text/plain": [
       "Melanoma       1781\n",
       "NotMelanoma    1780\n",
       "Name: category, dtype: int64"
      ]
     },
     "execution_count": 100,
     "metadata": {},
     "output_type": "execute_result"
    }
   ],
   "source": [
    "# Returns the number of data in each category, the actual count\n",
    "\n",
    "test_df['category'].value_counts()"
   ]
  },
  {
   "cell_type": "code",
   "execution_count": 101,
   "id": "bfce3511-464c-43f8-8551-a61b9b2d52d6",
   "metadata": {},
   "outputs": [
    {
     "name": "stdout",
     "output_type": "stream",
     "text": [
      "              precision    recall  f1-score   support\n",
      "\n",
      "    Melanoma       0.93      0.87      0.90      1781\n",
      " NotMelanoma       0.88      0.93      0.90      1780\n",
      "\n",
      "    accuracy                           0.90      3561\n",
      "   macro avg       0.90      0.90      0.90      3561\n",
      "weighted avg       0.90      0.90      0.90      3561\n",
      "\n"
     ]
    }
   ],
   "source": [
    "# getting the classification report for the test data\n",
    "\n",
    "print(classification_report(y_pred=test_df['predict_c'], y_true=test_df['category']))"
   ]
  },
  {
   "cell_type": "code",
   "execution_count": 102,
   "id": "d074d5e4-9759-4de4-a573-1b9ef30f2ff9",
   "metadata": {},
   "outputs": [
    {
     "data": {
      "image/png": "[encoded data removed]",
      "text/plain": [
       "<Figure size 640x480 with 2 Axes>"
      ]
     },
     "metadata": {},
     "output_type": "display_data"
    }
   ],
   "source": [
    "# confusion matrix for test data\n",
    "\n",
    "sns.heatmap(confusion_matrix(y_pred=test_df['predict_c'], y_true=test_df['category']), annot=True,\n",
    "            xticklabels=test_df['category'].unique(), yticklabels=test_df['category'].unique(), cmap='Greens', fmt='')\n",
    "plt.show()"
   ]
  },
  {
   "cell_type": "code",
   "execution_count": 103,
   "id": "0b76dd37-7354-40af-b0e7-586c5281a5e4",
   "metadata": {},
   "outputs": [
    {
     "name": "stdout",
     "output_type": "stream",
     "text": [
      "112/112 [==============================] - 166s 1s/step\n"
     ]
    }
   ],
   "source": [
    "# predicting the model with validation dataset\n",
    "\n",
    "with tf.device('/cpu:0'):\n",
    "    val_pred=model.predict(val_dataset)"
   ]
  },
  {
   "cell_type": "code",
   "execution_count": 104,
   "id": "3060bbd5-cba0-4480-a368-4f0dfea424fd",
   "metadata": {},
   "outputs": [],
   "source": [
    "# getting the index of the highest value\n",
    "\n",
    "val_df[\"predict\"]=np.argmax(val_pred,axis=1)"
   ]
  },
  {
   "cell_type": "code",
   "execution_count": 105,
   "id": "bd34ae26-52ff-4170-936e-4a8f393fc8df",
   "metadata": {},
   "outputs": [],
   "source": [
    "# Assigning the class names for the keys in predict column of the val_df\n",
    "\n",
    "val_df[\"predict_c\"]=val_df[\"predict\"].map({0:\"Melanoma\",1:\"NotMelanoma\"})"
   ]
  },
  {
   "cell_type": "code",
   "execution_count": 106,
   "id": "5861b124-a514-496c-8ba3-3f74205613c3",
   "metadata": {},
   "outputs": [
    {
     "data": {
      "text/html": [
       "<div>\n",
       "<style scoped>\n",
       "    .dataframe tbody tr th:only-of-type {\n",
       "        vertical-align: middle;\n",
       "    }\n",
       "\n",
       "    .dataframe tbody tr th {\n",
       "        vertical-align: top;\n",
       "    }\n",
       "\n",
       "    .dataframe thead th {\n",
       "        text-align: right;\n",
       "    }\n",
       "</style>\n",
       "<table border=\"1\" class=\"dataframe\">\n",
       "  <thead>\n",
       "    <tr style=\"text-align: right;\">\n",
       "      <th></th>\n",
       "      <th>filename</th>\n",
       "      <th>category</th>\n",
       "      <th>predict</th>\n",
       "      <th>predict_c</th>\n",
       "    </tr>\n",
       "  </thead>\n",
       "  <tbody>\n",
       "    <tr>\n",
       "      <th>0</th>\n",
       "      <td>Melanoma/AUGmented_0_1006.jpeg</td>\n",
       "      <td>Melanoma</td>\n",
       "      <td>0</td>\n",
       "      <td>Melanoma</td>\n",
       "    </tr>\n",
       "    <tr>\n",
       "      <th>1</th>\n",
       "      <td>Melanoma/AUGmented_0_1058.jpeg</td>\n",
       "      <td>Melanoma</td>\n",
       "      <td>0</td>\n",
       "      <td>Melanoma</td>\n",
       "    </tr>\n",
       "    <tr>\n",
       "      <th>2</th>\n",
       "      <td>Melanoma/AUGmented_0_110.jpeg</td>\n",
       "      <td>Melanoma</td>\n",
       "      <td>0</td>\n",
       "      <td>Melanoma</td>\n",
       "    </tr>\n",
       "    <tr>\n",
       "      <th>3</th>\n",
       "      <td>Melanoma/AUGmented_0_1108.jpeg</td>\n",
       "      <td>Melanoma</td>\n",
       "      <td>0</td>\n",
       "      <td>Melanoma</td>\n",
       "    </tr>\n",
       "    <tr>\n",
       "      <th>4</th>\n",
       "      <td>Melanoma/AUGmented_0_1140.jpeg</td>\n",
       "      <td>Melanoma</td>\n",
       "      <td>0</td>\n",
       "      <td>Melanoma</td>\n",
       "    </tr>\n",
       "    <tr>\n",
       "      <th>...</th>\n",
       "      <td>...</td>\n",
       "      <td>...</td>\n",
       "      <td>...</td>\n",
       "      <td>...</td>\n",
       "    </tr>\n",
       "    <tr>\n",
       "      <th>3557</th>\n",
       "      <td>NotMelanoma/ISIC_0034292.jpg</td>\n",
       "      <td>NotMelanoma</td>\n",
       "      <td>1</td>\n",
       "      <td>NotMelanoma</td>\n",
       "    </tr>\n",
       "    <tr>\n",
       "      <th>3558</th>\n",
       "      <td>NotMelanoma/ISIC_0034297.jpg</td>\n",
       "      <td>NotMelanoma</td>\n",
       "      <td>1</td>\n",
       "      <td>NotMelanoma</td>\n",
       "    </tr>\n",
       "    <tr>\n",
       "      <th>3559</th>\n",
       "      <td>NotMelanoma/ISIC_0034305.jpg</td>\n",
       "      <td>NotMelanoma</td>\n",
       "      <td>1</td>\n",
       "      <td>NotMelanoma</td>\n",
       "    </tr>\n",
       "    <tr>\n",
       "      <th>3560</th>\n",
       "      <td>NotMelanoma/ISIC_0034308.jpg</td>\n",
       "      <td>NotMelanoma</td>\n",
       "      <td>1</td>\n",
       "      <td>NotMelanoma</td>\n",
       "    </tr>\n",
       "    <tr>\n",
       "      <th>3561</th>\n",
       "      <td>NotMelanoma/ISIC_0034310.jpg</td>\n",
       "      <td>NotMelanoma</td>\n",
       "      <td>1</td>\n",
       "      <td>NotMelanoma</td>\n",
       "    </tr>\n",
       "  </tbody>\n",
       "</table>\n",
       "<p>3562 rows × 4 columns</p>\n",
       "</div>"
      ],
      "text/plain": [
       "                            filename     category  predict    predict_c\n",
       "0     Melanoma/AUGmented_0_1006.jpeg     Melanoma        0     Melanoma\n",
       "1     Melanoma/AUGmented_0_1058.jpeg     Melanoma        0     Melanoma\n",
       "2      Melanoma/AUGmented_0_110.jpeg     Melanoma        0     Melanoma\n",
       "3     Melanoma/AUGmented_0_1108.jpeg     Melanoma        0     Melanoma\n",
       "4     Melanoma/AUGmented_0_1140.jpeg     Melanoma        0     Melanoma\n",
       "...                              ...          ...      ...          ...\n",
       "3557    NotMelanoma/ISIC_0034292.jpg  NotMelanoma        1  NotMelanoma\n",
       "3558    NotMelanoma/ISIC_0034297.jpg  NotMelanoma        1  NotMelanoma\n",
       "3559    NotMelanoma/ISIC_0034305.jpg  NotMelanoma        1  NotMelanoma\n",
       "3560    NotMelanoma/ISIC_0034308.jpg  NotMelanoma        1  NotMelanoma\n",
       "3561    NotMelanoma/ISIC_0034310.jpg  NotMelanoma        1  NotMelanoma\n",
       "\n",
       "[3562 rows x 4 columns]"
      ]
     },
     "execution_count": 106,
     "metadata": {},
     "output_type": "execute_result"
    }
   ],
   "source": [
    "# displaying the dataframe\n",
    "\n",
    "val_df"
   ]
  },
  {
   "cell_type": "code",
   "execution_count": 107,
   "id": "71dd8773-84ef-4a4f-b228-76df0c2f2592",
   "metadata": {},
   "outputs": [
    {
     "data": {
      "image/png": "[encoded data removed]",
      "text/plain": [
       "<Figure size 640x480 with 1 Axes>"
      ]
     },
     "metadata": {},
     "output_type": "display_data"
    }
   ],
   "source": [
    "# Invoking draw_countplot()\n",
    "\n",
    "draw_countplot(dataframe=val_df, y_axis='category', title='Validation Data')"
   ]
  },
  {
   "cell_type": "code",
   "execution_count": 108,
   "id": "8c92d235-e98b-4e32-9f84-52f67491cd42",
   "metadata": {},
   "outputs": [
    {
     "data": {
      "image/png": "[encoded data removed]",
      "text/plain": [
       "<Figure size 640x480 with 1 Axes>"
      ]
     },
     "metadata": {},
     "output_type": "display_data"
    }
   ],
   "source": [
    "# Invoking draw_countplot()\n",
    "\n",
    "draw_countplot(dataframe=val_df, y_axis='predict_c', title='Predicted Data of validation data')"
   ]
  },
  {
   "cell_type": "code",
   "execution_count": 109,
   "id": "675cecec-5afe-4890-9aff-4822090f7c31",
   "metadata": {},
   "outputs": [
    {
     "data": {
      "text/plain": [
       "NotMelanoma    1870\n",
       "Melanoma       1692\n",
       "Name: predict_c, dtype: int64"
      ]
     },
     "execution_count": 109,
     "metadata": {},
     "output_type": "execute_result"
    }
   ],
   "source": [
    "# Returns the number of data in each category, the predicted count\n",
    "\n",
    "val_df['predict_c'].value_counts()"
   ]
  },
  {
   "cell_type": "code",
   "execution_count": 110,
   "id": "699bf606-a420-4617-9050-4faca538ab29",
   "metadata": {},
   "outputs": [
    {
     "data": {
      "text/plain": [
       "Melanoma       1781\n",
       "NotMelanoma    1781\n",
       "Name: category, dtype: int64"
      ]
     },
     "execution_count": 110,
     "metadata": {},
     "output_type": "execute_result"
    }
   ],
   "source": [
    "# Returns the number of data in each category, the actual count\n",
    "\n",
    "val_df['category'].value_counts()"
   ]
  },
  {
   "cell_type": "code",
   "execution_count": 111,
   "id": "1c77e7ae-f2c1-406e-a3b6-0a3c71fa1e4d",
   "metadata": {},
   "outputs": [
    {
     "name": "stdout",
     "output_type": "stream",
     "text": [
      "              precision    recall  f1-score   support\n",
      "\n",
      "    Melanoma       0.93      0.89      0.91      1781\n",
      " NotMelanoma       0.89      0.94      0.91      1781\n",
      "\n",
      "    accuracy                           0.91      3562\n",
      "   macro avg       0.91      0.91      0.91      3562\n",
      "weighted avg       0.91      0.91      0.91      3562\n",
      "\n"
     ]
    }
   ],
   "source": [
    "# getting the classification report for the validation data\n",
    "\n",
    "print(classification_report(y_pred=val_df['predict_c'], y_true=val_df['category']))"
   ]
  },
  {
   "cell_type": "code",
   "execution_count": 112,
   "id": "91d8faaf-725f-49dc-81c3-c013acd9b1de",
   "metadata": {},
   "outputs": [
    {
     "data": {
      "image/png": "[encoded data removed]",
      "text/plain": [
       "<Figure size 640x480 with 2 Axes>"
      ]
     },
     "metadata": {},
     "output_type": "display_data"
    }
   ],
   "source": [
    "# confusion matrix for validation data\n",
    "\n",
    "sns.heatmap(confusion_matrix(y_pred=val_df['predict_c'], y_true=val_df['category']), annot=True,\n",
    "            xticklabels=val_df['category'].unique(), yticklabels=val_df['category'].unique(), cmap='Greens', fmt='')\n",
    "plt.show()"
   ]
  },
  {
   "cell_type": "markdown",
   "id": "be86dc17-b7ab-4b8d-830f-300c3937c44a",
   "metadata": {},
   "source": [
    "# Summary\n",
    "* The model gives **90% accuracy and 87% precision** in the **training data.**\n",
    "* In the **testing data** the model gives **90% of accuracy and 88+ % precision.**\n",
    "* In the **validation data** the model gives **91% of accuracy and 89+ % precision.**\n",
    "\n",
    "### Prediction count on the test dataset\n",
    "\n",
    "* The dataset contains **1781 melanoma** images and **1780 non melanoma** images.\n",
    "* Among that it predicted **1548 melanoma** and **1650 non melanoma** were **correctly.**\n",
    "* the images of count **233 melanoma** and **120 non melanoma** were predicted **wrongly.**\n",
    "\n",
    "\n",
    "### Prediction count on the validation data dataset\n",
    "\n",
    "* The dataset contains **1781 melanoma** and **non melanoma** images.\n",
    "* Among that it predicted **1580 melanoma** and **1669 non melanoma** were **correctly.**\n",
    "* the images of count **201 melanoma** and **112 non melanoma** were predicted **wrongly.**"
   ]
  }
 ],
 "metadata": {
  "kernelspec": {
   "display_name": "Python 3 (ipykernel)",
   "language": "python",
   "name": "python3"
  },
  "language_info": {
   "codemirror_mode": {
    "name": "ipython",
    "version": 3
   },
   "file_extension": ".py",
   "mimetype": "text/x-python",
   "name": "python",
   "nbconvert_exporter": "python",
   "pygments_lexer": "ipython3",
   "version": "3.9.13"
  }
 },
 "nbformat": 4,
 "nbformat_minor": 5
}
