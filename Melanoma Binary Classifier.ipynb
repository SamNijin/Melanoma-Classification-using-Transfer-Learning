{
 "cells": [
  {
   "cell_type": "code",
   "execution_count": 1,
   "id": "ee8f44ea-f5e8-41fa-a979-2b75905642b6",
   "metadata": {},
   "outputs": [],
   "source": [
    "from tensorflow.keras.layers import Input, Dropout, Flatten, Dense, Activation, BatchNormalization, Dropout\n",
    "from tensorflow.keras.preprocessing.image import ImageDataGenerator\n",
    "from sklearn.metrics import classification_report, confusion_matrix\n",
    "from tensorflow.keras.models import Sequential, load_model\n",
    "from sklearn.model_selection import train_test_split\n",
    "from tensorflow.keras.metrics import Precision\n",
    "from keras.applications.vgg16 import VGG16\n",
    "from keras.utils import to_categorical\n",
    "from keras.optimizers import Adam\n",
    "import matplotlib.pyplot as plt\n",
    "import tensorflow as tf\n",
    "import seaborn as sns\n",
    "from PIL import Image\n",
    "import pandas as pd\n",
    "import numpy as np\n",
    "import cv2 as cv\n",
    "import random\n",
    "import os"
   ]
  },
  {
   "cell_type": "code",
   "execution_count": 2,
   "id": "1c8b2f84-3b00-41a2-b7c4-c420c23b9a48",
   "metadata": {
    "tags": []
   },
   "outputs": [
    {
     "name": "stdout",
     "output_type": "stream",
     "text": [
      "1 Physical GPUs, 1 Logical GPUs\n"
     ]
    }
   ],
   "source": [
    "gpus = tf.config.list_physical_devices('GPU')\n",
    "if gpus:\n",
    "  try:\n",
    "    # Currently, memory growth needs to be the same across GPUs\n",
    "    for gpu in gpus:\n",
    "      tf.config.experimental.set_memory_growth(gpu, True)\n",
    "    logical_gpus = tf.config.list_logical_devices('GPU')\n",
    "    print(len(gpus), \"Physical GPUs,\", len(logical_gpus), \"Logical GPUs\")\n",
    "  except RuntimeError as e:\n",
    "    # Memory growth must be set before GPUs have been initialized\n",
    "    print(e)"
   ]
  },
  {
   "cell_type": "code",
   "execution_count": 3,
   "id": "c1bb84e8-cd96-4323-a498-0d801f616ff0",
   "metadata": {},
   "outputs": [],
   "source": [
    "# def resize_image(path, save_path):\n",
    "\n",
    "    \n",
    "#     for root, dirs, files in os.walk(path):\n",
    "\n",
    "#         for name in dirs:\n",
    "            \n",
    "#             direct = os.path.join(path, name)\n",
    "            \n",
    "#             for filename in os.listdir(direct):\n",
    "                \n",
    "#                 img = Image.open(os.path.join(path + \"/\" + name, filename))\n",
    "#                 img = img.resize((224,224))\n",
    "                \n",
    "#                 # images.append(img)\n",
    "#                 # filenames.append(name + '/' + filename)\n",
    "#                 if not os.path.exists(save_path):\n",
    "#                     os.makedirs(save_path)\n",
    "#                 if not os.path.exists(save_path + name):\n",
    "#                     os.makedirs(save_path + name)\n",
    "#                 img.save(save_path + name + '/' + filename)"
   ]
  },
  {
   "cell_type": "code",
   "execution_count": 4,
   "id": "7f5a5041-0ef8-413b-a5c5-20b8c90b70c6",
   "metadata": {},
   "outputs": [],
   "source": [
    "# resize_image(path=train_path, save_path='./processed image/' )"
   ]
  },
  {
   "cell_type": "code",
   "execution_count": 5,
   "id": "29b71e0a-f22c-4f1d-a448-39aa84850ddf",
   "metadata": {},
   "outputs": [],
   "source": [
    "Image_Width=224   #600\n",
    "Image_Height=224  #400\n",
    "Image_Size=(Image_Width,Image_Height)\n",
    "Image_Channels=3\n",
    "batch_size = 32"
   ]
  },
  {
   "cell_type": "code",
   "execution_count": 6,
   "id": "91a5da18-3498-4f40-8ca0-a9a5f3b0c66b",
   "metadata": {},
   "outputs": [],
   "source": [
    "def read_image(path, images, labels, filenames):\n",
    "    \n",
    "    for root, dirs, files in os.walk(path):\n",
    "\n",
    "        for name in dirs:\n",
    "            \n",
    "            direct = os.path.join(path, name)\n",
    "            \n",
    "            for filename in os.listdir(direct):\n",
    "                \n",
    "                img = cv.imread(os.path.join(path + \"/\" + name, filename))\n",
    "                labels.append(name)\n",
    "                img = cv.resize(img, Image_Size)\n",
    "                images.append(img)\n",
    "                filenames.append(name + '/' + filename)"
   ]
  },
  {
   "cell_type": "code",
   "execution_count": 7,
   "id": "6cd3f202-2c46-4b20-90db-0e00d317d24e",
   "metadata": {},
   "outputs": [],
   "source": [
    "def create_dataframe(filenames, labels):\n",
    "    \n",
    "    df = pd.DataFrame({\n",
    "        \n",
    "    'filename' : filenames,\n",
    "    'category' : labels\n",
    "\n",
    "    })\n",
    "    \n",
    "    return df"
   ]
  },
  {
   "cell_type": "code",
   "execution_count": 8,
   "id": "ef5578f4-e7d4-4457-a03f-56b24d47baca",
   "metadata": {},
   "outputs": [],
   "source": [
    "def draw_countplot(dataframe, y_axis, title):\n",
    "    \n",
    "    sns.countplot(data=dataframe, y = y_axis, width=0.3, palette = 'Set2')\n",
    "    plt.title(title, weight='black')\n",
    "    plt.show()"
   ]
  },
  {
   "cell_type": "code",
   "execution_count": 9,
   "id": "05dfdd00-f0c4-4a93-899f-2b4b8ac7e922",
   "metadata": {},
   "outputs": [],
   "source": [
    "train_filenames = []\n",
    "train_images = []\n",
    "train_labels = []\n",
    "train_path = './processed image/'\n",
    "\n",
    "read_image(path=train_path, images=train_images, labels=train_labels, filenames=train_filenames)"
   ]
  },
  {
   "cell_type": "markdown",
   "id": "773075f8-794a-4ed2-9af7-fc97556a19a4",
   "metadata": {},
   "source": [
    "### Train Data"
   ]
  },
  {
   "cell_type": "code",
   "execution_count": 10,
   "id": "1b18a303-abda-4a80-babd-ae772bebc8b2",
   "metadata": {},
   "outputs": [
    {
     "data": {
      "text/html": [
       "<div>\n",
       "<style scoped>\n",
       "    .dataframe tbody tr th:only-of-type {\n",
       "        vertical-align: middle;\n",
       "    }\n",
       "\n",
       "    .dataframe tbody tr th {\n",
       "        vertical-align: top;\n",
       "    }\n",
       "\n",
       "    .dataframe thead th {\n",
       "        text-align: right;\n",
       "    }\n",
       "</style>\n",
       "<table border=\"1\" class=\"dataframe\">\n",
       "  <thead>\n",
       "    <tr style=\"text-align: right;\">\n",
       "      <th></th>\n",
       "      <th>filename</th>\n",
       "      <th>category</th>\n",
       "    </tr>\n",
       "  </thead>\n",
       "  <tbody>\n",
       "    <tr>\n",
       "      <th>0</th>\n",
       "      <td>Melanoma/AUGmented_0_1000.jpeg</td>\n",
       "      <td>Melanoma</td>\n",
       "    </tr>\n",
       "    <tr>\n",
       "      <th>1</th>\n",
       "      <td>Melanoma/AUGmented_0_1007.jpeg</td>\n",
       "      <td>Melanoma</td>\n",
       "    </tr>\n",
       "    <tr>\n",
       "      <th>2</th>\n",
       "      <td>Melanoma/AUGmented_0_1009.jpeg</td>\n",
       "      <td>Melanoma</td>\n",
       "    </tr>\n",
       "    <tr>\n",
       "      <th>3</th>\n",
       "      <td>Melanoma/AUGmented_0_1022.jpeg</td>\n",
       "      <td>Melanoma</td>\n",
       "    </tr>\n",
       "    <tr>\n",
       "      <th>4</th>\n",
       "      <td>Melanoma/AUGmented_0_1029.jpeg</td>\n",
       "      <td>Melanoma</td>\n",
       "    </tr>\n",
       "    <tr>\n",
       "      <th>...</th>\n",
       "      <td>...</td>\n",
       "      <td>...</td>\n",
       "    </tr>\n",
       "    <tr>\n",
       "      <th>10677</th>\n",
       "      <td>NotMelanoma/ISIC_0034314.jpg</td>\n",
       "      <td>NotMelanoma</td>\n",
       "    </tr>\n",
       "    <tr>\n",
       "      <th>10678</th>\n",
       "      <td>NotMelanoma/ISIC_0034315.jpg</td>\n",
       "      <td>NotMelanoma</td>\n",
       "    </tr>\n",
       "    <tr>\n",
       "      <th>10679</th>\n",
       "      <td>NotMelanoma/ISIC_0034318.jpg</td>\n",
       "      <td>NotMelanoma</td>\n",
       "    </tr>\n",
       "    <tr>\n",
       "      <th>10680</th>\n",
       "      <td>NotMelanoma/ISIC_0034319.jpg</td>\n",
       "      <td>NotMelanoma</td>\n",
       "    </tr>\n",
       "    <tr>\n",
       "      <th>10681</th>\n",
       "      <td>NotMelanoma/ISIC_0034320.jpg</td>\n",
       "      <td>NotMelanoma</td>\n",
       "    </tr>\n",
       "  </tbody>\n",
       "</table>\n",
       "<p>10682 rows × 2 columns</p>\n",
       "</div>"
      ],
      "text/plain": [
       "                             filename     category\n",
       "0      Melanoma/AUGmented_0_1000.jpeg     Melanoma\n",
       "1      Melanoma/AUGmented_0_1007.jpeg     Melanoma\n",
       "2      Melanoma/AUGmented_0_1009.jpeg     Melanoma\n",
       "3      Melanoma/AUGmented_0_1022.jpeg     Melanoma\n",
       "4      Melanoma/AUGmented_0_1029.jpeg     Melanoma\n",
       "...                               ...          ...\n",
       "10677    NotMelanoma/ISIC_0034314.jpg  NotMelanoma\n",
       "10678    NotMelanoma/ISIC_0034315.jpg  NotMelanoma\n",
       "10679    NotMelanoma/ISIC_0034318.jpg  NotMelanoma\n",
       "10680    NotMelanoma/ISIC_0034319.jpg  NotMelanoma\n",
       "10681    NotMelanoma/ISIC_0034320.jpg  NotMelanoma\n",
       "\n",
       "[10682 rows x 2 columns]"
      ]
     },
     "execution_count": 10,
     "metadata": {},
     "output_type": "execute_result"
    }
   ],
   "source": [
    "train_df = create_dataframe(filenames=train_filenames, labels=train_labels)\n",
    "train_df"
   ]
  },
  {
   "cell_type": "code",
   "execution_count": 11,
   "id": "bfbf295b-fe7d-47e7-9ebe-c34ed3268c52",
   "metadata": {},
   "outputs": [
    {
     "data": {
      "image/png": "[encoded data removed]",
      "text/plain": [
       "<Figure size 640x480 with 1 Axes>"
      ]
     },
     "metadata": {},
     "output_type": "display_data"
    }
   ],
   "source": [
    "draw_countplot(dataframe=train_df, y_axis='category', title='Train Data')"
   ]
  },
  {
   "cell_type": "code",
   "execution_count": 12,
   "id": "1cce7c18-c7bb-43bc-a836-defb4bc45df9",
   "metadata": {},
   "outputs": [],
   "source": [
    "test_filenames = []\n",
    "test_images = []\n",
    "test_labels = []\n",
    "test_path = './DermMel/test/'\n",
    "\n",
    "read_image(path=test_path, images=test_images, labels=test_labels, filenames=test_filenames)"
   ]
  },
  {
   "cell_type": "markdown",
   "id": "180f5470-c370-43d6-a0b0-35b1568f8797",
   "metadata": {},
   "source": [
    "### Test Data"
   ]
  },
  {
   "cell_type": "code",
   "execution_count": 13,
   "id": "cfeb6151-350c-476a-bbd9-a02e570a3d7c",
   "metadata": {},
   "outputs": [
    {
     "data": {
      "text/html": [
       "<div>\n",
       "<style scoped>\n",
       "    .dataframe tbody tr th:only-of-type {\n",
       "        vertical-align: middle;\n",
       "    }\n",
       "\n",
       "    .dataframe tbody tr th {\n",
       "        vertical-align: top;\n",
       "    }\n",
       "\n",
       "    .dataframe thead th {\n",
       "        text-align: right;\n",
       "    }\n",
       "</style>\n",
       "<table border=\"1\" class=\"dataframe\">\n",
       "  <thead>\n",
       "    <tr style=\"text-align: right;\">\n",
       "      <th></th>\n",
       "      <th>filename</th>\n",
       "      <th>category</th>\n",
       "    </tr>\n",
       "  </thead>\n",
       "  <tbody>\n",
       "    <tr>\n",
       "      <th>0</th>\n",
       "      <td>Melanoma/AUGmented_0_1015.jpeg</td>\n",
       "      <td>Melanoma</td>\n",
       "    </tr>\n",
       "    <tr>\n",
       "      <th>1</th>\n",
       "      <td>Melanoma/AUGmented_0_1036.jpeg</td>\n",
       "      <td>Melanoma</td>\n",
       "    </tr>\n",
       "    <tr>\n",
       "      <th>2</th>\n",
       "      <td>Melanoma/AUGmented_0_1093.jpeg</td>\n",
       "      <td>Melanoma</td>\n",
       "    </tr>\n",
       "    <tr>\n",
       "      <th>3</th>\n",
       "      <td>Melanoma/AUGmented_0_1110.jpeg</td>\n",
       "      <td>Melanoma</td>\n",
       "    </tr>\n",
       "    <tr>\n",
       "      <th>4</th>\n",
       "      <td>Melanoma/AUGmented_0_1114.jpeg</td>\n",
       "      <td>Melanoma</td>\n",
       "    </tr>\n",
       "    <tr>\n",
       "      <th>...</th>\n",
       "      <td>...</td>\n",
       "      <td>...</td>\n",
       "    </tr>\n",
       "    <tr>\n",
       "      <th>3556</th>\n",
       "      <td>NotMelanoma/ISIC_0034257.jpg</td>\n",
       "      <td>NotMelanoma</td>\n",
       "    </tr>\n",
       "    <tr>\n",
       "      <th>3557</th>\n",
       "      <td>NotMelanoma/ISIC_0034260.jpg</td>\n",
       "      <td>NotMelanoma</td>\n",
       "    </tr>\n",
       "    <tr>\n",
       "      <th>3558</th>\n",
       "      <td>NotMelanoma/ISIC_0034278.jpg</td>\n",
       "      <td>NotMelanoma</td>\n",
       "    </tr>\n",
       "    <tr>\n",
       "      <th>3559</th>\n",
       "      <td>NotMelanoma/ISIC_0034309.jpg</td>\n",
       "      <td>NotMelanoma</td>\n",
       "    </tr>\n",
       "    <tr>\n",
       "      <th>3560</th>\n",
       "      <td>NotMelanoma/ISIC_0034311.jpg</td>\n",
       "      <td>NotMelanoma</td>\n",
       "    </tr>\n",
       "  </tbody>\n",
       "</table>\n",
       "<p>3561 rows × 2 columns</p>\n",
       "</div>"
      ],
      "text/plain": [
       "                            filename     category\n",
       "0     Melanoma/AUGmented_0_1015.jpeg     Melanoma\n",
       "1     Melanoma/AUGmented_0_1036.jpeg     Melanoma\n",
       "2     Melanoma/AUGmented_0_1093.jpeg     Melanoma\n",
       "3     Melanoma/AUGmented_0_1110.jpeg     Melanoma\n",
       "4     Melanoma/AUGmented_0_1114.jpeg     Melanoma\n",
       "...                              ...          ...\n",
       "3556    NotMelanoma/ISIC_0034257.jpg  NotMelanoma\n",
       "3557    NotMelanoma/ISIC_0034260.jpg  NotMelanoma\n",
       "3558    NotMelanoma/ISIC_0034278.jpg  NotMelanoma\n",
       "3559    NotMelanoma/ISIC_0034309.jpg  NotMelanoma\n",
       "3560    NotMelanoma/ISIC_0034311.jpg  NotMelanoma\n",
       "\n",
       "[3561 rows x 2 columns]"
      ]
     },
     "execution_count": 13,
     "metadata": {},
     "output_type": "execute_result"
    }
   ],
   "source": [
    "test_df = create_dataframe(filenames=test_filenames, labels=test_labels)\n",
    "test_df"
   ]
  },
  {
   "cell_type": "code",
   "execution_count": 14,
   "id": "3be60575-7609-4bb8-9a7f-9253ef1e04a6",
   "metadata": {},
   "outputs": [
    {
     "data": {
      "image/png": "[encoded data removed]",
      "text/plain": [
       "<Figure size 640x480 with 1 Axes>"
      ]
     },
     "metadata": {},
     "output_type": "display_data"
    }
   ],
   "source": [
    "draw_countplot(dataframe=test_df, y_axis='category', title='Test Data')"
   ]
  },
  {
   "cell_type": "code",
   "execution_count": 15,
   "id": "ebc4bd7c-30ef-48a4-b5a3-a3396d230a37",
   "metadata": {},
   "outputs": [
    {
     "name": "stdout",
     "output_type": "stream",
     "text": [
      "Found 10682 validated image filenames belonging to 2 classes.\n"
     ]
    }
   ],
   "source": [
    "#preprocessing\n",
    "train_datag=ImageDataGenerator(rescale=1./ 255,\n",
    "                              horizontal_flip = True,\n",
    "                               vertical_flip = True,\n",
    "                               rotation_range = 25,\n",
    "                              )#rescalling\n",
    "\n",
    "train_dataset=train_datag.flow_from_dataframe(dataframe=train_df, #data_frame of data\n",
    "                                              directory=train_path, #path\n",
    "                                              x_col=\"filename\",\n",
    "                                              y_col=\"category\",\n",
    "                                              color_mode='rgb',\n",
    "                                              target_size=Image_Size, #resize image it doesnt mean converting into 2d we can give only height and breadth\n",
    "                                              batch_size=32, #by default 32\n",
    "                                              # validate_filenames= False\n",
    "                                             )"
   ]
  },
  {
   "cell_type": "code",
   "execution_count": 16,
   "id": "bfd291f7-1f13-471f-b60f-09d20abec34e",
   "metadata": {},
   "outputs": [
    {
     "name": "stdout",
     "output_type": "stream",
     "text": [
      "Found 3561 non-validated image filenames belonging to 2 classes.\n"
     ]
    }
   ],
   "source": [
    "test_datag=ImageDataGenerator(rescale=1./255)\n",
    "test_dataset=test_datag.flow_from_dataframe(dataframe=test_df,\n",
    "                                            directory=test_path,\n",
    "                                            x_col=\"filename\",\n",
    "                                            y_col=\"category\",\n",
    "                                            color_mode='rgb',\n",
    "                                            target_size=Image_Size,\n",
    "                                            batch_size=32,\n",
    "                                            validate_filenames=False,\n",
    "                                            shuffle=False,\n",
    "                                            class_mode='categorical',\n",
    "                                           )"
   ]
  },
  {
   "cell_type": "code",
   "execution_count": 17,
   "id": "71eafdc1-e78a-4166-8959-cc734854bd54",
   "metadata": {},
   "outputs": [
    {
     "data": {
      "text/plain": [
       "{'Melanoma': 0, 'NotMelanoma': 1}"
      ]
     },
     "execution_count": 17,
     "metadata": {},
     "output_type": "execute_result"
    }
   ],
   "source": [
    "train_dataset.class_indices #gives the class of target values"
   ]
  },
  {
   "cell_type": "code",
   "execution_count": 18,
   "id": "8eed3cc2-4d2c-4354-8149-ce38abee03fa",
   "metadata": {},
   "outputs": [
    {
     "data": {
      "text/plain": [
       "(32, 224, 224, 3)"
      ]
     },
     "execution_count": 18,
     "metadata": {},
     "output_type": "execute_result"
    }
   ],
   "source": [
    "train_dataset[0][0].shape# 0 batch# 32 batches 128-h 128-w,3d image"
   ]
  },
  {
   "cell_type": "code",
   "execution_count": 19,
   "id": "efa9029b-bca8-49e4-976d-ff4eb19e9b21",
   "metadata": {},
   "outputs": [
    {
     "name": "stdout",
     "output_type": "stream",
     "text": [
      "Model: \"sequential\"\n",
      "_________________________________________________________________\n",
      " Layer (type)                Output Shape              Param #   \n",
      "=================================================================\n",
      " vgg16 (Functional)          (None, 7, 7, 512)         14714688  \n",
      "                                                                 \n",
      " flatten (Flatten)           (None, 25088)             0         \n",
      "                                                                 \n",
      " dense (Dense)               (None, 512)               12845568  \n",
      "                                                                 \n",
      " batch_normalization (BatchN  (None, 512)              2048      \n",
      " ormalization)                                                   \n",
      "                                                                 \n",
      " dense_1 (Dense)             (None, 128)               65664     \n",
      "                                                                 \n",
      " dropout (Dropout)           (None, 128)               0         \n",
      "                                                                 \n",
      " dense_2 (Dense)             (None, 64)                8256      \n",
      "                                                                 \n",
      " dropout_1 (Dropout)         (None, 64)                0         \n",
      "                                                                 \n",
      " dense_3 (Dense)             (None, 2)                 130       \n",
      "                                                                 \n",
      "=================================================================\n",
      "Total params: 27,636,354\n",
      "Trainable params: 12,920,642\n",
      "Non-trainable params: 14,715,712\n",
      "_________________________________________________________________\n"
     ]
    }
   ],
   "source": [
    "conv_base = VGG16(\n",
    "    include_top=False,\n",
    "    weights='imagenet',\n",
    "    input_shape=(224,224,3),\n",
    ")\n",
    "\n",
    "for layer in conv_base.layers:\n",
    "    layer.trainable = False\n",
    "    \n",
    "    \n",
    "model = Sequential()\n",
    "\n",
    "model.add(conv_base)\n",
    "\n",
    "model.add(Flatten())\n",
    "\n",
    "model.add(Dense(units=512, activation='relu'))\n",
    "model.add(BatchNormalization())\n",
    "\n",
    "model.add(Dense(units=128, activation='relu'))\n",
    "model.add(Dropout(0.3))\n",
    "\n",
    "model.add(Dense(units=64, activation='relu'))\n",
    "model.add(Dropout(0.3))\n",
    "\n",
    "model.add(Dense(units=2, activation='softmax'))\n",
    "\n",
    "model.summary()"
   ]
  },
  {
   "cell_type": "code",
   "execution_count": 20,
   "id": "2fe98ecd-30de-401b-8179-1bc0fd935557",
   "metadata": {},
   "outputs": [],
   "source": [
    "adam_optimizer = Adam(learning_rate = 0.00003)\n",
    "model.compile(loss=\"CategoricalCrossentropy\",optimizer=adam_optimizer, metrics=[\"accuracy\", Precision()])"
   ]
  },
  {
   "cell_type": "code",
   "execution_count": 21,
   "id": "3ee8f998-0206-4e68-a5f8-f7df405a64b0",
   "metadata": {},
   "outputs": [
    {
     "data": {
      "text/plain": [
       "array([0.99689955, 0.9310539 , 0.9624265 ], dtype=float32)"
      ]
     },
     "execution_count": 21,
     "metadata": {},
     "output_type": "execute_result"
    }
   ],
   "source": [
    "train_dataset[0][0][0][0][0]"
   ]
  },
  {
   "cell_type": "code",
   "execution_count": 22,
   "id": "b55bd923-7166-4085-924d-25eacc791fe6",
   "metadata": {},
   "outputs": [],
   "source": [
    "del train_images\n",
    "del test_images\n",
    "del train_df\n",
    "del train_filenames\n",
    "del test_filenames\n",
    "del train_labels\n",
    "del test_labels"
   ]
  },
  {
   "cell_type": "code",
   "execution_count": 23,
   "id": "233bb20d-e7e7-4b57-b598-f04ce74bd9ae",
   "metadata": {},
   "outputs": [
    {
     "name": "stdout",
     "output_type": "stream",
     "text": [
      "Epoch 1/15\n",
      "334/334 [==============================] - 660s 2s/step - loss: 0.4648 - accuracy: 0.7863 - precision: 0.7863 - val_loss: 0.3893 - val_accuracy: 0.8318 - val_precision: 0.8318\n",
      "Epoch 2/15\n",
      "334/334 [==============================] - 663s 2s/step - loss: 0.3796 - accuracy: 0.8296 - precision: 0.8296 - val_loss: 0.3581 - val_accuracy: 0.8287 - val_precision: 0.8287\n",
      "Epoch 3/15\n",
      "334/334 [==============================] - 662s 2s/step - loss: 0.3561 - accuracy: 0.8475 - precision: 0.8475 - val_loss: 0.3588 - val_accuracy: 0.8349 - val_precision: 0.8349\n",
      "Epoch 4/15\n",
      "334/334 [==============================] - 661s 2s/step - loss: 0.3398 - accuracy: 0.8535 - precision: 0.8535 - val_loss: 0.3033 - val_accuracy: 0.8675 - val_precision: 0.8675\n",
      "Epoch 5/15\n",
      "334/334 [==============================] - 661s 2s/step - loss: 0.3217 - accuracy: 0.8635 - precision: 0.8635 - val_loss: 0.3455 - val_accuracy: 0.8526 - val_precision: 0.8526\n",
      "Epoch 6/15\n",
      "334/334 [==============================] - 662s 2s/step - loss: 0.3132 - accuracy: 0.8668 - precision: 0.8668 - val_loss: 0.2995 - val_accuracy: 0.8708 - val_precision: 0.8708\n",
      "Epoch 7/15\n",
      "334/334 [==============================] - 663s 2s/step - loss: 0.3046 - accuracy: 0.8672 - precision: 0.8672 - val_loss: 0.3053 - val_accuracy: 0.8680 - val_precision: 0.8680\n",
      "Epoch 8/15\n",
      "334/334 [==============================] - 663s 2s/step - loss: 0.2924 - accuracy: 0.8787 - precision: 0.8787 - val_loss: 0.2738 - val_accuracy: 0.8840 - val_precision: 0.8840\n",
      "Epoch 9/15\n",
      "334/334 [==============================] - 663s 2s/step - loss: 0.2869 - accuracy: 0.8771 - precision: 0.8771 - val_loss: 0.2752 - val_accuracy: 0.8843 - val_precision: 0.8843\n",
      "Epoch 10/15\n",
      "334/334 [==============================] - 662s 2s/step - loss: 0.2822 - accuracy: 0.8791 - precision: 0.8791 - val_loss: 0.3089 - val_accuracy: 0.8703 - val_precision: 0.8703\n",
      "Epoch 11/15\n",
      "334/334 [==============================] - 665s 2s/step - loss: 0.2724 - accuracy: 0.8844 - precision: 0.8844 - val_loss: 0.2697 - val_accuracy: 0.8874 - val_precision: 0.8874\n",
      "Epoch 12/15\n",
      "334/334 [==============================] - 663s 2s/step - loss: 0.2676 - accuracy: 0.8884 - precision: 0.8884 - val_loss: 0.2717 - val_accuracy: 0.8871 - val_precision: 0.8871\n",
      "Epoch 13/15\n",
      "334/334 [==============================] - 661s 2s/step - loss: 0.2557 - accuracy: 0.8899 - precision: 0.8899 - val_loss: 0.2661 - val_accuracy: 0.8896 - val_precision: 0.8896\n",
      "Epoch 14/15\n",
      "334/334 [==============================] - 662s 2s/step - loss: 0.2528 - accuracy: 0.8952 - precision: 0.8952 - val_loss: 0.3113 - val_accuracy: 0.8644 - val_precision: 0.8644\n",
      "Epoch 15/15\n",
      "334/334 [==============================] - 662s 2s/step - loss: 0.2542 - accuracy: 0.8947 - precision: 0.8947 - val_loss: 0.2835 - val_accuracy: 0.8781 - val_precision: 0.8781\n"
     ]
    }
   ],
   "source": [
    "with tf.device('/cpu:0'):\n",
    "    history = model.fit(train_dataset, epochs=20, validation_data=test_dataset)"
   ]
  },
  {
   "cell_type": "code",
   "execution_count": 24,
   "id": "8dde1fd3-1494-415a-acc6-fef6698116e7",
   "metadata": {},
   "outputs": [
    {
     "name": "stdout",
     "output_type": "stream",
     "text": [
      "Saved model to disk\n"
     ]
    }
   ],
   "source": [
    "model.save(\"melanoma-VGG16base.h5\")\n",
    "print(\"Saved model to disk\")"
   ]
  },
  {
   "cell_type": "code",
   "execution_count": 25,
   "id": "f5ebba2a-5c12-4e1d-9291-769b616dbaf0",
   "metadata": {},
   "outputs": [],
   "source": [
    "validation_filenames = []\n",
    "validation_images = []\n",
    "validation_labels = []\n",
    "validation_path = './DermMel/valid/'\n",
    "\n",
    "read_image(path=validation_path, images=validation_images, labels=validation_labels, filenames=validation_filenames)"
   ]
  },
  {
   "cell_type": "markdown",
   "id": "8931d92a-d075-46cd-8c2d-af1967ec4865",
   "metadata": {},
   "source": [
    "### Validation Data"
   ]
  },
  {
   "cell_type": "code",
   "execution_count": 26,
   "id": "97941fd9-7fdc-42f6-b6c6-7270245ff19a",
   "metadata": {},
   "outputs": [
    {
     "data": {
      "text/html": [
       "<div>\n",
       "<style scoped>\n",
       "    .dataframe tbody tr th:only-of-type {\n",
       "        vertical-align: middle;\n",
       "    }\n",
       "\n",
       "    .dataframe tbody tr th {\n",
       "        vertical-align: top;\n",
       "    }\n",
       "\n",
       "    .dataframe thead th {\n",
       "        text-align: right;\n",
       "    }\n",
       "</style>\n",
       "<table border=\"1\" class=\"dataframe\">\n",
       "  <thead>\n",
       "    <tr style=\"text-align: right;\">\n",
       "      <th></th>\n",
       "      <th>filename</th>\n",
       "      <th>category</th>\n",
       "    </tr>\n",
       "  </thead>\n",
       "  <tbody>\n",
       "    <tr>\n",
       "      <th>0</th>\n",
       "      <td>Melanoma/AUGmented_0_1006.jpeg</td>\n",
       "      <td>Melanoma</td>\n",
       "    </tr>\n",
       "    <tr>\n",
       "      <th>1</th>\n",
       "      <td>Melanoma/AUGmented_0_1058.jpeg</td>\n",
       "      <td>Melanoma</td>\n",
       "    </tr>\n",
       "    <tr>\n",
       "      <th>2</th>\n",
       "      <td>Melanoma/AUGmented_0_110.jpeg</td>\n",
       "      <td>Melanoma</td>\n",
       "    </tr>\n",
       "    <tr>\n",
       "      <th>3</th>\n",
       "      <td>Melanoma/AUGmented_0_1108.jpeg</td>\n",
       "      <td>Melanoma</td>\n",
       "    </tr>\n",
       "    <tr>\n",
       "      <th>4</th>\n",
       "      <td>Melanoma/AUGmented_0_1140.jpeg</td>\n",
       "      <td>Melanoma</td>\n",
       "    </tr>\n",
       "    <tr>\n",
       "      <th>...</th>\n",
       "      <td>...</td>\n",
       "      <td>...</td>\n",
       "    </tr>\n",
       "    <tr>\n",
       "      <th>3557</th>\n",
       "      <td>NotMelanoma/ISIC_0034292.jpg</td>\n",
       "      <td>NotMelanoma</td>\n",
       "    </tr>\n",
       "    <tr>\n",
       "      <th>3558</th>\n",
       "      <td>NotMelanoma/ISIC_0034297.jpg</td>\n",
       "      <td>NotMelanoma</td>\n",
       "    </tr>\n",
       "    <tr>\n",
       "      <th>3559</th>\n",
       "      <td>NotMelanoma/ISIC_0034305.jpg</td>\n",
       "      <td>NotMelanoma</td>\n",
       "    </tr>\n",
       "    <tr>\n",
       "      <th>3560</th>\n",
       "      <td>NotMelanoma/ISIC_0034308.jpg</td>\n",
       "      <td>NotMelanoma</td>\n",
       "    </tr>\n",
       "    <tr>\n",
       "      <th>3561</th>\n",
       "      <td>NotMelanoma/ISIC_0034310.jpg</td>\n",
       "      <td>NotMelanoma</td>\n",
       "    </tr>\n",
       "  </tbody>\n",
       "</table>\n",
       "<p>3562 rows × 2 columns</p>\n",
       "</div>"
      ],
      "text/plain": [
       "                            filename     category\n",
       "0     Melanoma/AUGmented_0_1006.jpeg     Melanoma\n",
       "1     Melanoma/AUGmented_0_1058.jpeg     Melanoma\n",
       "2      Melanoma/AUGmented_0_110.jpeg     Melanoma\n",
       "3     Melanoma/AUGmented_0_1108.jpeg     Melanoma\n",
       "4     Melanoma/AUGmented_0_1140.jpeg     Melanoma\n",
       "...                              ...          ...\n",
       "3557    NotMelanoma/ISIC_0034292.jpg  NotMelanoma\n",
       "3558    NotMelanoma/ISIC_0034297.jpg  NotMelanoma\n",
       "3559    NotMelanoma/ISIC_0034305.jpg  NotMelanoma\n",
       "3560    NotMelanoma/ISIC_0034308.jpg  NotMelanoma\n",
       "3561    NotMelanoma/ISIC_0034310.jpg  NotMelanoma\n",
       "\n",
       "[3562 rows x 2 columns]"
      ]
     },
     "execution_count": 26,
     "metadata": {},
     "output_type": "execute_result"
    }
   ],
   "source": [
    "val_df = create_dataframe(filenames=validation_filenames, labels=validation_labels)\n",
    "val_df"
   ]
  },
  {
   "cell_type": "code",
   "execution_count": 27,
   "id": "2fe4926b-b001-453a-a1df-15a74913f95d",
   "metadata": {
    "tags": []
   },
   "outputs": [
    {
     "data": {
      "image/png": "[encoded data removed]",
      "text/plain": [
       "<Figure size 640x480 with 1 Axes>"
      ]
     },
     "metadata": {},
     "output_type": "display_data"
    }
   ],
   "source": [
    "draw_countplot(dataframe=val_df, y_axis='category', title='Validation Data')"
   ]
  },
  {
   "cell_type": "code",
   "execution_count": 28,
   "id": "621dacbb-3f4e-4cad-af85-8380552ff825",
   "metadata": {},
   "outputs": [
    {
     "name": "stdout",
     "output_type": "stream",
     "text": [
      "Found 3562 non-validated image filenames belonging to 2 classes.\n"
     ]
    }
   ],
   "source": [
    "val_datag=ImageDataGenerator(rescale=1./255)\n",
    "val_dataset=val_datag.flow_from_dataframe(dataframe=val_df,\n",
    "                                            directory=validation_path,\n",
    "                                            x_col=\"filename\",\n",
    "                                            y_col=\"category\",\n",
    "                                            target_size=Image_Size,\n",
    "                                            batch_size=32,\n",
    "                                            validate_filenames=False,\n",
    "                                            shuffle=False,\n",
    "                                            class_mode='categorical',\n",
    "                                           )"
   ]
  },
  {
   "cell_type": "code",
   "execution_count": 29,
   "id": "288e540d-1f78-4d71-8055-6a15b9bdc564",
   "metadata": {},
   "outputs": [
    {
     "data": {
      "text/plain": [
       "{'Melanoma': 0, 'NotMelanoma': 1}"
      ]
     },
     "execution_count": 29,
     "metadata": {},
     "output_type": "execute_result"
    }
   ],
   "source": [
    "test_dataset.class_indices"
   ]
  },
  {
   "cell_type": "code",
   "execution_count": 30,
   "id": "3a8a5fc9-d512-45f1-bf75-115c1078ee50",
   "metadata": {},
   "outputs": [
    {
     "data": {
      "text/plain": [
       "{'Melanoma': 0, 'NotMelanoma': 1}"
      ]
     },
     "execution_count": 30,
     "metadata": {},
     "output_type": "execute_result"
    }
   ],
   "source": [
    "val_dataset.class_indices"
   ]
  },
  {
   "cell_type": "code",
   "execution_count": 31,
   "id": "95b218f8-6e75-4fbb-a178-cbc4c2b7a2cb",
   "metadata": {},
   "outputs": [
    {
     "name": "stdout",
     "output_type": "stream",
     "text": [
      "112/112 [==============================] - 161s 1s/step\n"
     ]
    }
   ],
   "source": [
    "with tf.device('/cpu:0'):\n",
    "    test_pred=model.predict(test_dataset)"
   ]
  },
  {
   "cell_type": "code",
   "execution_count": 32,
   "id": "786b0144-a644-4158-8a38-0d607197d89a",
   "metadata": {},
   "outputs": [],
   "source": [
    "test_df[\"predict\"]=np.argmax(test_pred,axis=1)"
   ]
  },
  {
   "cell_type": "code",
   "execution_count": 33,
   "id": "f9aa38ee-f548-4a79-9121-ac2cf4a84afa",
   "metadata": {},
   "outputs": [],
   "source": [
    "test_df[\"predict_c\"]=test_df[\"predict\"].map({0:\"Melanoma\",1:\"NotMelanoma\"})"
   ]
  },
  {
   "cell_type": "code",
   "execution_count": 34,
   "id": "515e04bd-f6a4-4bcf-ae5a-98ab923d4e3a",
   "metadata": {},
   "outputs": [
    {
     "data": {
      "text/html": [
       "<div>\n",
       "<style scoped>\n",
       "    .dataframe tbody tr th:only-of-type {\n",
       "        vertical-align: middle;\n",
       "    }\n",
       "\n",
       "    .dataframe tbody tr th {\n",
       "        vertical-align: top;\n",
       "    }\n",
       "\n",
       "    .dataframe thead th {\n",
       "        text-align: right;\n",
       "    }\n",
       "</style>\n",
       "<table border=\"1\" class=\"dataframe\">\n",
       "  <thead>\n",
       "    <tr style=\"text-align: right;\">\n",
       "      <th></th>\n",
       "      <th>filename</th>\n",
       "      <th>category</th>\n",
       "      <th>predict</th>\n",
       "      <th>predict_c</th>\n",
       "    </tr>\n",
       "  </thead>\n",
       "  <tbody>\n",
       "    <tr>\n",
       "      <th>0</th>\n",
       "      <td>Melanoma/AUGmented_0_1015.jpeg</td>\n",
       "      <td>Melanoma</td>\n",
       "      <td>0</td>\n",
       "      <td>Melanoma</td>\n",
       "    </tr>\n",
       "    <tr>\n",
       "      <th>1</th>\n",
       "      <td>Melanoma/AUGmented_0_1036.jpeg</td>\n",
       "      <td>Melanoma</td>\n",
       "      <td>0</td>\n",
       "      <td>Melanoma</td>\n",
       "    </tr>\n",
       "    <tr>\n",
       "      <th>2</th>\n",
       "      <td>Melanoma/AUGmented_0_1093.jpeg</td>\n",
       "      <td>Melanoma</td>\n",
       "      <td>0</td>\n",
       "      <td>Melanoma</td>\n",
       "    </tr>\n",
       "    <tr>\n",
       "      <th>3</th>\n",
       "      <td>Melanoma/AUGmented_0_1110.jpeg</td>\n",
       "      <td>Melanoma</td>\n",
       "      <td>0</td>\n",
       "      <td>Melanoma</td>\n",
       "    </tr>\n",
       "    <tr>\n",
       "      <th>4</th>\n",
       "      <td>Melanoma/AUGmented_0_1114.jpeg</td>\n",
       "      <td>Melanoma</td>\n",
       "      <td>0</td>\n",
       "      <td>Melanoma</td>\n",
       "    </tr>\n",
       "    <tr>\n",
       "      <th>...</th>\n",
       "      <td>...</td>\n",
       "      <td>...</td>\n",
       "      <td>...</td>\n",
       "      <td>...</td>\n",
       "    </tr>\n",
       "    <tr>\n",
       "      <th>3556</th>\n",
       "      <td>NotMelanoma/ISIC_0034257.jpg</td>\n",
       "      <td>NotMelanoma</td>\n",
       "      <td>0</td>\n",
       "      <td>Melanoma</td>\n",
       "    </tr>\n",
       "    <tr>\n",
       "      <th>3557</th>\n",
       "      <td>NotMelanoma/ISIC_0034260.jpg</td>\n",
       "      <td>NotMelanoma</td>\n",
       "      <td>1</td>\n",
       "      <td>NotMelanoma</td>\n",
       "    </tr>\n",
       "    <tr>\n",
       "      <th>3558</th>\n",
       "      <td>NotMelanoma/ISIC_0034278.jpg</td>\n",
       "      <td>NotMelanoma</td>\n",
       "      <td>0</td>\n",
       "      <td>Melanoma</td>\n",
       "    </tr>\n",
       "    <tr>\n",
       "      <th>3559</th>\n",
       "      <td>NotMelanoma/ISIC_0034309.jpg</td>\n",
       "      <td>NotMelanoma</td>\n",
       "      <td>1</td>\n",
       "      <td>NotMelanoma</td>\n",
       "    </tr>\n",
       "    <tr>\n",
       "      <th>3560</th>\n",
       "      <td>NotMelanoma/ISIC_0034311.jpg</td>\n",
       "      <td>NotMelanoma</td>\n",
       "      <td>1</td>\n",
       "      <td>NotMelanoma</td>\n",
       "    </tr>\n",
       "  </tbody>\n",
       "</table>\n",
       "<p>3561 rows × 4 columns</p>\n",
       "</div>"
      ],
      "text/plain": [
       "                            filename     category  predict    predict_c\n",
       "0     Melanoma/AUGmented_0_1015.jpeg     Melanoma        0     Melanoma\n",
       "1     Melanoma/AUGmented_0_1036.jpeg     Melanoma        0     Melanoma\n",
       "2     Melanoma/AUGmented_0_1093.jpeg     Melanoma        0     Melanoma\n",
       "3     Melanoma/AUGmented_0_1110.jpeg     Melanoma        0     Melanoma\n",
       "4     Melanoma/AUGmented_0_1114.jpeg     Melanoma        0     Melanoma\n",
       "...                              ...          ...      ...          ...\n",
       "3556    NotMelanoma/ISIC_0034257.jpg  NotMelanoma        0     Melanoma\n",
       "3557    NotMelanoma/ISIC_0034260.jpg  NotMelanoma        1  NotMelanoma\n",
       "3558    NotMelanoma/ISIC_0034278.jpg  NotMelanoma        0     Melanoma\n",
       "3559    NotMelanoma/ISIC_0034309.jpg  NotMelanoma        1  NotMelanoma\n",
       "3560    NotMelanoma/ISIC_0034311.jpg  NotMelanoma        1  NotMelanoma\n",
       "\n",
       "[3561 rows x 4 columns]"
      ]
     },
     "execution_count": 34,
     "metadata": {},
     "output_type": "execute_result"
    }
   ],
   "source": [
    "test_df"
   ]
  },
  {
   "cell_type": "code",
   "execution_count": 35,
   "id": "1a4600b7-af19-4967-92d7-e5af3762fa46",
   "metadata": {},
   "outputs": [
    {
     "data": {
      "image/png": "[encoded data removed]",
      "text/plain": [
       "<Figure size 640x480 with 1 Axes>"
      ]
     },
     "metadata": {},
     "output_type": "display_data"
    }
   ],
   "source": [
    "sns.countplot(data=test_df, x='category')\n",
    "plt.show()"
   ]
  },
  {
   "cell_type": "code",
   "execution_count": 36,
   "id": "4234496c-9168-4819-8ba2-536afee9a0a2",
   "metadata": {},
   "outputs": [
    {
     "data": {
      "image/png": "[encoded data removed]",
      "text/plain": [
       "<Figure size 640x480 with 1 Axes>"
      ]
     },
     "metadata": {},
     "output_type": "display_data"
    }
   ],
   "source": [
    "sns.countplot(data=test_df, x='predict_c')\n",
    "plt.show()"
   ]
  },
  {
   "cell_type": "code",
   "execution_count": 37,
   "id": "0b76dd37-7354-40af-b0e7-586c5281a5e4",
   "metadata": {},
   "outputs": [
    {
     "name": "stdout",
     "output_type": "stream",
     "text": [
      "112/112 [==============================] - 160s 1s/step\n"
     ]
    }
   ],
   "source": [
    "with tf.device('/cpu:0'):\n",
    "    val_pred=model.predict(val_dataset)"
   ]
  },
  {
   "cell_type": "code",
   "execution_count": 38,
   "id": "3060bbd5-cba0-4480-a368-4f0dfea424fd",
   "metadata": {},
   "outputs": [],
   "source": [
    "val_df[\"predict\"]=np.argmax(val_pred,axis=1)"
   ]
  },
  {
   "cell_type": "code",
   "execution_count": 39,
   "id": "bd34ae26-52ff-4170-936e-4a8f393fc8df",
   "metadata": {},
   "outputs": [],
   "source": [
    "val_df[\"predict_c\"]=val_df[\"predict\"].map({0:\"Melanoma\",1:\"NotMelanoma\"})"
   ]
  },
  {
   "cell_type": "code",
   "execution_count": 40,
   "id": "5861b124-a514-496c-8ba3-3f74205613c3",
   "metadata": {},
   "outputs": [
    {
     "data": {
      "text/html": [
       "<div>\n",
       "<style scoped>\n",
       "    .dataframe tbody tr th:only-of-type {\n",
       "        vertical-align: middle;\n",
       "    }\n",
       "\n",
       "    .dataframe tbody tr th {\n",
       "        vertical-align: top;\n",
       "    }\n",
       "\n",
       "    .dataframe thead th {\n",
       "        text-align: right;\n",
       "    }\n",
       "</style>\n",
       "<table border=\"1\" class=\"dataframe\">\n",
       "  <thead>\n",
       "    <tr style=\"text-align: right;\">\n",
       "      <th></th>\n",
       "      <th>filename</th>\n",
       "      <th>category</th>\n",
       "      <th>predict</th>\n",
       "      <th>predict_c</th>\n",
       "    </tr>\n",
       "  </thead>\n",
       "  <tbody>\n",
       "    <tr>\n",
       "      <th>0</th>\n",
       "      <td>Melanoma/AUGmented_0_1006.jpeg</td>\n",
       "      <td>Melanoma</td>\n",
       "      <td>0</td>\n",
       "      <td>Melanoma</td>\n",
       "    </tr>\n",
       "    <tr>\n",
       "      <th>1</th>\n",
       "      <td>Melanoma/AUGmented_0_1058.jpeg</td>\n",
       "      <td>Melanoma</td>\n",
       "      <td>1</td>\n",
       "      <td>NotMelanoma</td>\n",
       "    </tr>\n",
       "    <tr>\n",
       "      <th>2</th>\n",
       "      <td>Melanoma/AUGmented_0_110.jpeg</td>\n",
       "      <td>Melanoma</td>\n",
       "      <td>0</td>\n",
       "      <td>Melanoma</td>\n",
       "    </tr>\n",
       "    <tr>\n",
       "      <th>3</th>\n",
       "      <td>Melanoma/AUGmented_0_1108.jpeg</td>\n",
       "      <td>Melanoma</td>\n",
       "      <td>0</td>\n",
       "      <td>Melanoma</td>\n",
       "    </tr>\n",
       "    <tr>\n",
       "      <th>4</th>\n",
       "      <td>Melanoma/AUGmented_0_1140.jpeg</td>\n",
       "      <td>Melanoma</td>\n",
       "      <td>0</td>\n",
       "      <td>Melanoma</td>\n",
       "    </tr>\n",
       "    <tr>\n",
       "      <th>...</th>\n",
       "      <td>...</td>\n",
       "      <td>...</td>\n",
       "      <td>...</td>\n",
       "      <td>...</td>\n",
       "    </tr>\n",
       "    <tr>\n",
       "      <th>3557</th>\n",
       "      <td>NotMelanoma/ISIC_0034292.jpg</td>\n",
       "      <td>NotMelanoma</td>\n",
       "      <td>1</td>\n",
       "      <td>NotMelanoma</td>\n",
       "    </tr>\n",
       "    <tr>\n",
       "      <th>3558</th>\n",
       "      <td>NotMelanoma/ISIC_0034297.jpg</td>\n",
       "      <td>NotMelanoma</td>\n",
       "      <td>1</td>\n",
       "      <td>NotMelanoma</td>\n",
       "    </tr>\n",
       "    <tr>\n",
       "      <th>3559</th>\n",
       "      <td>NotMelanoma/ISIC_0034305.jpg</td>\n",
       "      <td>NotMelanoma</td>\n",
       "      <td>1</td>\n",
       "      <td>NotMelanoma</td>\n",
       "    </tr>\n",
       "    <tr>\n",
       "      <th>3560</th>\n",
       "      <td>NotMelanoma/ISIC_0034308.jpg</td>\n",
       "      <td>NotMelanoma</td>\n",
       "      <td>1</td>\n",
       "      <td>NotMelanoma</td>\n",
       "    </tr>\n",
       "    <tr>\n",
       "      <th>3561</th>\n",
       "      <td>NotMelanoma/ISIC_0034310.jpg</td>\n",
       "      <td>NotMelanoma</td>\n",
       "      <td>1</td>\n",
       "      <td>NotMelanoma</td>\n",
       "    </tr>\n",
       "  </tbody>\n",
       "</table>\n",
       "<p>3562 rows × 4 columns</p>\n",
       "</div>"
      ],
      "text/plain": [
       "                            filename     category  predict    predict_c\n",
       "0     Melanoma/AUGmented_0_1006.jpeg     Melanoma        0     Melanoma\n",
       "1     Melanoma/AUGmented_0_1058.jpeg     Melanoma        1  NotMelanoma\n",
       "2      Melanoma/AUGmented_0_110.jpeg     Melanoma        0     Melanoma\n",
       "3     Melanoma/AUGmented_0_1108.jpeg     Melanoma        0     Melanoma\n",
       "4     Melanoma/AUGmented_0_1140.jpeg     Melanoma        0     Melanoma\n",
       "...                              ...          ...      ...          ...\n",
       "3557    NotMelanoma/ISIC_0034292.jpg  NotMelanoma        1  NotMelanoma\n",
       "3558    NotMelanoma/ISIC_0034297.jpg  NotMelanoma        1  NotMelanoma\n",
       "3559    NotMelanoma/ISIC_0034305.jpg  NotMelanoma        1  NotMelanoma\n",
       "3560    NotMelanoma/ISIC_0034308.jpg  NotMelanoma        1  NotMelanoma\n",
       "3561    NotMelanoma/ISIC_0034310.jpg  NotMelanoma        1  NotMelanoma\n",
       "\n",
       "[3562 rows x 4 columns]"
      ]
     },
     "execution_count": 40,
     "metadata": {},
     "output_type": "execute_result"
    }
   ],
   "source": [
    "val_df"
   ]
  },
  {
   "cell_type": "code",
   "execution_count": 41,
   "id": "71dd8773-84ef-4a4f-b228-76df0c2f2592",
   "metadata": {},
   "outputs": [
    {
     "data": {
      "image/png": "[encoded data removed]",
      "text/plain": [
       "<Figure size 640x480 with 1 Axes>"
      ]
     },
     "metadata": {},
     "output_type": "display_data"
    }
   ],
   "source": [
    "sns.countplot(data=val_df, x='category')\n",
    "plt.show()"
   ]
  },
  {
   "cell_type": "code",
   "execution_count": 42,
   "id": "8c92d235-e98b-4e32-9f84-52f67491cd42",
   "metadata": {},
   "outputs": [
    {
     "data": {
      "image/png": "[encoded data removed]",
      "text/plain": [
       "<Figure size 640x480 with 1 Axes>"
      ]
     },
     "metadata": {},
     "output_type": "display_data"
    }
   ],
   "source": [
    "sns.countplot(data=val_df, x='predict_c')\n",
    "plt.show()"
   ]
  },
  {
   "cell_type": "code",
   "execution_count": 43,
   "id": "675cecec-5afe-4890-9aff-4822090f7c31",
   "metadata": {},
   "outputs": [
    {
     "data": {
      "text/plain": [
       "NotMelanoma    1942\n",
       "Melanoma       1620\n",
       "Name: predict_c, dtype: int64"
      ]
     },
     "execution_count": 43,
     "metadata": {},
     "output_type": "execute_result"
    }
   ],
   "source": [
    "val_df['predict_c'].value_counts()"
   ]
  },
  {
   "cell_type": "code",
   "execution_count": 44,
   "id": "b096251e-345a-430c-ac6c-fd4b36cbfde4",
   "metadata": {},
   "outputs": [
    {
     "data": {
      "image/png": "[encoded data removed]",
      "text/plain": [
       "<Figure size 640x480 with 1 Axes>"
      ]
     },
     "metadata": {},
     "output_type": "display_data"
    }
   ],
   "source": [
    "img = plt.imread('./DermMel/valid/Melanoma/AUGmented_0_1058.jpeg')\n",
    "plt.imshow(img)\n",
    "plt.show()"
   ]
  },
  {
   "cell_type": "code",
   "execution_count": 45,
   "id": "1c77e7ae-f2c1-406e-a3b6-0a3c71fa1e4d",
   "metadata": {},
   "outputs": [
    {
     "name": "stdout",
     "output_type": "stream",
     "text": [
      "              precision    recall  f1-score   support\n",
      "\n",
      "    Melanoma       0.93      0.84      0.88      1781\n",
      " NotMelanoma       0.86      0.93      0.89      1781\n",
      "\n",
      "    accuracy                           0.89      3562\n",
      "   macro avg       0.89      0.89      0.89      3562\n",
      "weighted avg       0.89      0.89      0.89      3562\n",
      "\n"
     ]
    }
   ],
   "source": [
    "print(classification_report(y_pred=val_df['predict_c'], y_true=val_df['category']))"
   ]
  },
  {
   "cell_type": "code",
   "execution_count": 50,
   "id": "91d8faaf-725f-49dc-81c3-c013acd9b1de",
   "metadata": {},
   "outputs": [
    {
     "data": {
      "image/png": "[encoded data removed]",
      "text/plain": [
       "<Figure size 640x480 with 2 Axes>"
      ]
     },
     "metadata": {},
     "output_type": "display_data"
    }
   ],
   "source": [
    "sns.heatmap(confusion_matrix(y_pred=val_df['predict_c'], y_true=val_df['category']), annot=True, xticklabels=val_df['category'].unique(), yticklabels=val_df['category'].unique(), cmap='Greens', fmt='')\n",
    "plt.show()"
   ]
  },
  {
   "cell_type": "code",
   "execution_count": 49,
   "id": "291f9aff-ce37-4ae1-8c83-5982a61c74b7",
   "metadata": {},
   "outputs": [
    {
     "name": "stdout",
     "output_type": "stream",
     "text": [
      "[[1501  280]\n",
      " [ 119 1662]]\n"
     ]
    }
   ],
   "source": [
    "print(confusion_matrix(y_pred=val_df['predict_c'], y_true=val_df['category']))"
   ]
  },
  {
   "cell_type": "code",
   "execution_count": null,
   "id": "6b1f5508-624b-4eec-af72-33172e9d43a5",
   "metadata": {},
   "outputs": [],
   "source": []
  }
 ],
 "metadata": {
  "kernelspec": {
   "display_name": "Python 3 (ipykernel)",
   "language": "python",
   "name": "python3"
  },
  "language_info": {
   "codemirror_mode": {
    "name": "ipython",
    "version": 3
   },
   "file_extension": ".py",
   "mimetype": "text/x-python",
   "name": "python",
   "nbconvert_exporter": "python",
   "pygments_lexer": "ipython3",
   "version": "3.9.13"
  }
 },
 "nbformat": 4,
 "nbformat_minor": 5
}
