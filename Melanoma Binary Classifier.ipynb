{
 "cells": [
  {
   "cell_type": "code",
   "execution_count": 1,
   "id": "ee8f44ea-f5e8-41fa-a979-2b75905642b6",
   "metadata": {},
   "outputs": [],
   "source": [
    "from tensorflow.keras.layers import Input, Conv2D, Dropout, Flatten, Dense, MaxPool2D, Activation, BatchNormalization\n",
    "from tensorflow.keras.preprocessing.image import ImageDataGenerator\n",
    "from tensorflow.keras.models import Sequential, load_model\n",
    "from sklearn.model_selection import train_test_split\n",
    "from tensorflow.keras.metrics import Precision\n",
    "from keras.utils import to_categorical\n",
    "import matplotlib.pyplot as plt\n",
    "import tensorflow as tf\n",
    "import seaborn as sns\n",
    "import pandas as pd\n",
    "import numpy as np\n",
    "import cv2 as cv\n",
    "import random\n",
    "import os"
   ]
  },
  {
   "cell_type": "code",
   "execution_count": 2,
   "id": "1c8b2f84-3b00-41a2-b7c4-c420c23b9a48",
   "metadata": {},
   "outputs": [
    {
     "name": "stdout",
     "output_type": "stream",
     "text": [
      "1 Physical GPUs, 1 Logical GPUs\n"
     ]
    }
   ],
   "source": [
    "gpus = tf.config.list_physical_devices('GPU')\n",
    "if gpus:\n",
    "  try:\n",
    "    # Currently, memory growth needs to be the same across GPUs\n",
    "    for gpu in gpus:\n",
    "      tf.config.experimental.set_memory_growth(gpu, True)\n",
    "    logical_gpus = tf.config.list_logical_devices('GPU')\n",
    "    print(len(gpus), \"Physical GPUs,\", len(logical_gpus), \"Logical GPUs\")\n",
    "  except RuntimeError as e:\n",
    "    # Memory growth must be set before GPUs have been initialized\n",
    "    print(e)\n"
   ]
  },
  {
   "cell_type": "code",
   "execution_count": 3,
   "id": "91a5da18-3498-4f40-8ca0-a9a5f3b0c66b",
   "metadata": {},
   "outputs": [],
   "source": [
    "def read_image(path, images, labels, filenames):\n",
    "    \n",
    "    for root, dirs, files in os.walk(path):\n",
    "\n",
    "        for name in dirs:\n",
    "            \n",
    "            direct = os.path.join(path, name)\n",
    "            \n",
    "            for filename in os.listdir(direct):\n",
    "                \n",
    "                img = cv.imread(os.path.join(path + \"/\" + name, filename))\n",
    "                labels.append(name)\n",
    "                img = cv.resize(img, Image_Size)\n",
    "                images.append(img)\n",
    "                filenames.append(name + '/' + filename)"
   ]
  },
  {
   "cell_type": "code",
   "execution_count": 4,
   "id": "6cd3f202-2c46-4b20-90db-0e00d317d24e",
   "metadata": {},
   "outputs": [],
   "source": [
    "def create_dataframe(filenames, labels):\n",
    "    \n",
    "    df = pd.DataFrame({\n",
    "        \n",
    "    'filename' : filenames,\n",
    "    'category' : labels\n",
    "\n",
    "    })\n",
    "    \n",
    "    return df"
   ]
  },
  {
   "cell_type": "code",
   "execution_count": 5,
   "id": "ef5578f4-e7d4-4457-a03f-56b24d47baca",
   "metadata": {},
   "outputs": [],
   "source": [
    "def draw_countplot(dataframe, y_axis, title):\n",
    "    \n",
    "    sns.countplot(data=dataframe, y = y_axis, width=0.3, palette = 'Set2')\n",
    "    plt.title(title, weight='black')\n",
    "    plt.show()"
   ]
  },
  {
   "cell_type": "code",
   "execution_count": 6,
   "id": "29b71e0a-f22c-4f1d-a448-39aa84850ddf",
   "metadata": {},
   "outputs": [],
   "source": [
    "Image_Width=250   #600\n",
    "Image_Height=250  #400\n",
    "Image_Size=(Image_Width,Image_Height)\n",
    "Image_Channels=3\n",
    "batch_size = 32"
   ]
  },
  {
   "cell_type": "code",
   "execution_count": 7,
   "id": "05dfdd00-f0c4-4a93-899f-2b4b8ac7e922",
   "metadata": {},
   "outputs": [],
   "source": [
    "train_filenames = []\n",
    "train_images = []\n",
    "train_labels = []\n",
    "train_path = './DermMel/train_sep/'\n",
    "\n",
    "read_image(path=train_path, images=train_images, labels=train_labels, filenames=train_filenames)"
   ]
  },
  {
   "cell_type": "markdown",
   "id": "773075f8-794a-4ed2-9af7-fc97556a19a4",
   "metadata": {},
   "source": [
    "### Train Data"
   ]
  },
  {
   "cell_type": "code",
   "execution_count": 8,
   "id": "1b18a303-abda-4a80-babd-ae772bebc8b2",
   "metadata": {},
   "outputs": [
    {
     "data": {
      "text/html": [
       "<div>\n",
       "<style scoped>\n",
       "    .dataframe tbody tr th:only-of-type {\n",
       "        vertical-align: middle;\n",
       "    }\n",
       "\n",
       "    .dataframe tbody tr th {\n",
       "        vertical-align: top;\n",
       "    }\n",
       "\n",
       "    .dataframe thead th {\n",
       "        text-align: right;\n",
       "    }\n",
       "</style>\n",
       "<table border=\"1\" class=\"dataframe\">\n",
       "  <thead>\n",
       "    <tr style=\"text-align: right;\">\n",
       "      <th></th>\n",
       "      <th>filename</th>\n",
       "      <th>category</th>\n",
       "    </tr>\n",
       "  </thead>\n",
       "  <tbody>\n",
       "    <tr>\n",
       "      <th>0</th>\n",
       "      <td>Melanoma/AUGmented_0_1000.jpeg</td>\n",
       "      <td>Melanoma</td>\n",
       "    </tr>\n",
       "    <tr>\n",
       "      <th>1</th>\n",
       "      <td>Melanoma/AUGmented_0_1007.jpeg</td>\n",
       "      <td>Melanoma</td>\n",
       "    </tr>\n",
       "    <tr>\n",
       "      <th>2</th>\n",
       "      <td>Melanoma/AUGmented_0_1009.jpeg</td>\n",
       "      <td>Melanoma</td>\n",
       "    </tr>\n",
       "    <tr>\n",
       "      <th>3</th>\n",
       "      <td>Melanoma/AUGmented_0_1022.jpeg</td>\n",
       "      <td>Melanoma</td>\n",
       "    </tr>\n",
       "    <tr>\n",
       "      <th>4</th>\n",
       "      <td>Melanoma/AUGmented_0_1029.jpeg</td>\n",
       "      <td>Melanoma</td>\n",
       "    </tr>\n",
       "    <tr>\n",
       "      <th>...</th>\n",
       "      <td>...</td>\n",
       "      <td>...</td>\n",
       "    </tr>\n",
       "    <tr>\n",
       "      <th>10677</th>\n",
       "      <td>NotMelanoma/ISIC_0034314.jpg</td>\n",
       "      <td>NotMelanoma</td>\n",
       "    </tr>\n",
       "    <tr>\n",
       "      <th>10678</th>\n",
       "      <td>NotMelanoma/ISIC_0034315.jpg</td>\n",
       "      <td>NotMelanoma</td>\n",
       "    </tr>\n",
       "    <tr>\n",
       "      <th>10679</th>\n",
       "      <td>NotMelanoma/ISIC_0034318.jpg</td>\n",
       "      <td>NotMelanoma</td>\n",
       "    </tr>\n",
       "    <tr>\n",
       "      <th>10680</th>\n",
       "      <td>NotMelanoma/ISIC_0034319.jpg</td>\n",
       "      <td>NotMelanoma</td>\n",
       "    </tr>\n",
       "    <tr>\n",
       "      <th>10681</th>\n",
       "      <td>NotMelanoma/ISIC_0034320.jpg</td>\n",
       "      <td>NotMelanoma</td>\n",
       "    </tr>\n",
       "  </tbody>\n",
       "</table>\n",
       "<p>10682 rows × 2 columns</p>\n",
       "</div>"
      ],
      "text/plain": [
       "                             filename     category\n",
       "0      Melanoma/AUGmented_0_1000.jpeg     Melanoma\n",
       "1      Melanoma/AUGmented_0_1007.jpeg     Melanoma\n",
       "2      Melanoma/AUGmented_0_1009.jpeg     Melanoma\n",
       "3      Melanoma/AUGmented_0_1022.jpeg     Melanoma\n",
       "4      Melanoma/AUGmented_0_1029.jpeg     Melanoma\n",
       "...                               ...          ...\n",
       "10677    NotMelanoma/ISIC_0034314.jpg  NotMelanoma\n",
       "10678    NotMelanoma/ISIC_0034315.jpg  NotMelanoma\n",
       "10679    NotMelanoma/ISIC_0034318.jpg  NotMelanoma\n",
       "10680    NotMelanoma/ISIC_0034319.jpg  NotMelanoma\n",
       "10681    NotMelanoma/ISIC_0034320.jpg  NotMelanoma\n",
       "\n",
       "[10682 rows x 2 columns]"
      ]
     },
     "execution_count": 8,
     "metadata": {},
     "output_type": "execute_result"
    }
   ],
   "source": [
    "train_df = create_dataframe(filenames=train_filenames, labels=train_labels)\n",
    "train_df"
   ]
  },
  {
   "cell_type": "code",
   "execution_count": 9,
   "id": "bfbf295b-fe7d-47e7-9ebe-c34ed3268c52",
   "metadata": {},
   "outputs": [
    {
     "data": {
      "image/png": "[encoded data removed]",
      "text/plain": [
       "<Figure size 640x480 with 1 Axes>"
      ]
     },
     "metadata": {},
     "output_type": "display_data"
    }
   ],
   "source": [
    "draw_countplot(dataframe=train_df, y_axis='category', title='Train Data')"
   ]
  },
  {
   "cell_type": "code",
   "execution_count": 10,
   "id": "1cce7c18-c7bb-43bc-a836-defb4bc45df9",
   "metadata": {},
   "outputs": [],
   "source": [
    "test_filenames = []\n",
    "test_images = []\n",
    "test_labels = []\n",
    "test_path = './DermMel/test/'\n",
    "\n",
    "read_image(path=test_path, images=test_images, labels=test_labels, filenames=test_filenames)"
   ]
  },
  {
   "cell_type": "markdown",
   "id": "180f5470-c370-43d6-a0b0-35b1568f8797",
   "metadata": {},
   "source": [
    "### Test Data"
   ]
  },
  {
   "cell_type": "code",
   "execution_count": 11,
   "id": "cfeb6151-350c-476a-bbd9-a02e570a3d7c",
   "metadata": {},
   "outputs": [
    {
     "data": {
      "text/html": [
       "<div>\n",
       "<style scoped>\n",
       "    .dataframe tbody tr th:only-of-type {\n",
       "        vertical-align: middle;\n",
       "    }\n",
       "\n",
       "    .dataframe tbody tr th {\n",
       "        vertical-align: top;\n",
       "    }\n",
       "\n",
       "    .dataframe thead th {\n",
       "        text-align: right;\n",
       "    }\n",
       "</style>\n",
       "<table border=\"1\" class=\"dataframe\">\n",
       "  <thead>\n",
       "    <tr style=\"text-align: right;\">\n",
       "      <th></th>\n",
       "      <th>filename</th>\n",
       "      <th>category</th>\n",
       "    </tr>\n",
       "  </thead>\n",
       "  <tbody>\n",
       "    <tr>\n",
       "      <th>0</th>\n",
       "      <td>Melanoma/AUGmented_0_1015.jpeg</td>\n",
       "      <td>Melanoma</td>\n",
       "    </tr>\n",
       "    <tr>\n",
       "      <th>1</th>\n",
       "      <td>Melanoma/AUGmented_0_1036.jpeg</td>\n",
       "      <td>Melanoma</td>\n",
       "    </tr>\n",
       "    <tr>\n",
       "      <th>2</th>\n",
       "      <td>Melanoma/AUGmented_0_1093.jpeg</td>\n",
       "      <td>Melanoma</td>\n",
       "    </tr>\n",
       "    <tr>\n",
       "      <th>3</th>\n",
       "      <td>Melanoma/AUGmented_0_1110.jpeg</td>\n",
       "      <td>Melanoma</td>\n",
       "    </tr>\n",
       "    <tr>\n",
       "      <th>4</th>\n",
       "      <td>Melanoma/AUGmented_0_1114.jpeg</td>\n",
       "      <td>Melanoma</td>\n",
       "    </tr>\n",
       "    <tr>\n",
       "      <th>...</th>\n",
       "      <td>...</td>\n",
       "      <td>...</td>\n",
       "    </tr>\n",
       "    <tr>\n",
       "      <th>3556</th>\n",
       "      <td>NotMelanoma/ISIC_0034257.jpg</td>\n",
       "      <td>NotMelanoma</td>\n",
       "    </tr>\n",
       "    <tr>\n",
       "      <th>3557</th>\n",
       "      <td>NotMelanoma/ISIC_0034260.jpg</td>\n",
       "      <td>NotMelanoma</td>\n",
       "    </tr>\n",
       "    <tr>\n",
       "      <th>3558</th>\n",
       "      <td>NotMelanoma/ISIC_0034278.jpg</td>\n",
       "      <td>NotMelanoma</td>\n",
       "    </tr>\n",
       "    <tr>\n",
       "      <th>3559</th>\n",
       "      <td>NotMelanoma/ISIC_0034309.jpg</td>\n",
       "      <td>NotMelanoma</td>\n",
       "    </tr>\n",
       "    <tr>\n",
       "      <th>3560</th>\n",
       "      <td>NotMelanoma/ISIC_0034311.jpg</td>\n",
       "      <td>NotMelanoma</td>\n",
       "    </tr>\n",
       "  </tbody>\n",
       "</table>\n",
       "<p>3561 rows × 2 columns</p>\n",
       "</div>"
      ],
      "text/plain": [
       "                            filename     category\n",
       "0     Melanoma/AUGmented_0_1015.jpeg     Melanoma\n",
       "1     Melanoma/AUGmented_0_1036.jpeg     Melanoma\n",
       "2     Melanoma/AUGmented_0_1093.jpeg     Melanoma\n",
       "3     Melanoma/AUGmented_0_1110.jpeg     Melanoma\n",
       "4     Melanoma/AUGmented_0_1114.jpeg     Melanoma\n",
       "...                              ...          ...\n",
       "3556    NotMelanoma/ISIC_0034257.jpg  NotMelanoma\n",
       "3557    NotMelanoma/ISIC_0034260.jpg  NotMelanoma\n",
       "3558    NotMelanoma/ISIC_0034278.jpg  NotMelanoma\n",
       "3559    NotMelanoma/ISIC_0034309.jpg  NotMelanoma\n",
       "3560    NotMelanoma/ISIC_0034311.jpg  NotMelanoma\n",
       "\n",
       "[3561 rows x 2 columns]"
      ]
     },
     "execution_count": 11,
     "metadata": {},
     "output_type": "execute_result"
    }
   ],
   "source": [
    "test_df = create_dataframe(filenames=test_filenames, labels=test_labels)\n",
    "test_df"
   ]
  },
  {
   "cell_type": "code",
   "execution_count": 12,
   "id": "3be60575-7609-4bb8-9a7f-9253ef1e04a6",
   "metadata": {},
   "outputs": [
    {
     "data": {
      "image/png": "[encoded data removed]",
      "text/plain": [
       "<Figure size 640x480 with 1 Axes>"
      ]
     },
     "metadata": {},
     "output_type": "display_data"
    }
   ],
   "source": [
    "draw_countplot(dataframe=test_df, y_axis='category', title='Test Data')"
   ]
  },
  {
   "cell_type": "code",
   "execution_count": 13,
   "id": "ebc4bd7c-30ef-48a4-b5a3-a3396d230a37",
   "metadata": {},
   "outputs": [
    {
     "name": "stdout",
     "output_type": "stream",
     "text": [
      "Found 10682 validated image filenames belonging to 2 classes.\n"
     ]
    }
   ],
   "source": [
    "#preprocessing\n",
    "train_datag=ImageDataGenerator(rescale=1./ 255)#rescalling\n",
    "\n",
    "train_dataset=train_datag.flow_from_dataframe(dataframe=train_df, #data_frame of data\n",
    "                                              directory=train_path, #path\n",
    "                                              x_col=\"filename\",\n",
    "                                              y_col=\"category\",\n",
    "                                              target_size=Image_Size, #resize image it doesnt mean converting into 2d we can give only height and breadth\n",
    "                                              batch_size=32, #by default 32\n",
    "                                              # validate_filenames= False\n",
    "                                             )"
   ]
  },
  {
   "cell_type": "code",
   "execution_count": 14,
   "id": "bfd291f7-1f13-471f-b60f-09d20abec34e",
   "metadata": {},
   "outputs": [
    {
     "name": "stdout",
     "output_type": "stream",
     "text": [
      "Found 3561 non-validated image filenames belonging to 2 classes.\n"
     ]
    }
   ],
   "source": [
    "test_datag=ImageDataGenerator(rescale=1./255)\n",
    "test_dataset=test_datag.flow_from_dataframe(dataframe=test_df,\n",
    "                                            directory=test_path,\n",
    "                                            x_col=\"filename\",\n",
    "                                            y_col=\"category\",\n",
    "                                            target_size=Image_Size,\n",
    "                                            batch_size=32,\n",
    "                                            validate_filenames=False\n",
    "                                           )"
   ]
  },
  {
   "cell_type": "code",
   "execution_count": 15,
   "id": "71eafdc1-e78a-4166-8959-cc734854bd54",
   "metadata": {},
   "outputs": [
    {
     "data": {
      "text/plain": [
       "{'Melanoma': 0, 'NotMelanoma': 1}"
      ]
     },
     "execution_count": 15,
     "metadata": {},
     "output_type": "execute_result"
    }
   ],
   "source": [
    "train_dataset.class_indices #gives the class of target values"
   ]
  },
  {
   "cell_type": "code",
   "execution_count": 16,
   "id": "8eed3cc2-4d2c-4354-8149-ce38abee03fa",
   "metadata": {},
   "outputs": [
    {
     "data": {
      "text/plain": [
       "(32, 250, 250, 3)"
      ]
     },
     "execution_count": 16,
     "metadata": {},
     "output_type": "execute_result"
    }
   ],
   "source": [
    "train_dataset[0][0].shape# 0 batch# 32 batches 128-h 128-w,3d image"
   ]
  },
  {
   "cell_type": "code",
   "execution_count": 17,
   "id": "fcd993bb-9788-47c7-8833-de7a3ff6f673",
   "metadata": {},
   "outputs": [
    {
     "name": "stdout",
     "output_type": "stream",
     "text": [
      "Model: \"sequential\"\n",
      "_________________________________________________________________\n",
      " Layer (type)                Output Shape              Param #   \n",
      "=================================================================\n",
      " conv2d (Conv2D)             (None, 248, 248, 16)      448       \n",
      "                                                                 \n",
      " batch_normalization (BatchN  (None, 248, 248, 16)     64        \n",
      " ormalization)                                                   \n",
      "                                                                 \n",
      " max_pooling2d (MaxPooling2D  (None, 124, 124, 16)     0         \n",
      " )                                                               \n",
      "                                                                 \n",
      " dropout (Dropout)           (None, 124, 124, 16)      0         \n",
      "                                                                 \n",
      " conv2d_1 (Conv2D)           (None, 122, 122, 32)      4640      \n",
      "                                                                 \n",
      " batch_normalization_1 (Batc  (None, 122, 122, 32)     128       \n",
      " hNormalization)                                                 \n",
      "                                                                 \n",
      " max_pooling2d_1 (MaxPooling  (None, 61, 61, 32)       0         \n",
      " 2D)                                                             \n",
      "                                                                 \n",
      " dropout_1 (Dropout)         (None, 61, 61, 32)        0         \n",
      "                                                                 \n",
      " conv2d_2 (Conv2D)           (None, 59, 59, 32)        9248      \n",
      "                                                                 \n",
      " batch_normalization_2 (Batc  (None, 59, 59, 32)       128       \n",
      " hNormalization)                                                 \n",
      "                                                                 \n",
      " max_pooling2d_2 (MaxPooling  (None, 29, 29, 32)       0         \n",
      " 2D)                                                             \n",
      "                                                                 \n",
      " dropout_2 (Dropout)         (None, 29, 29, 32)        0         \n",
      "                                                                 \n",
      " flatten (Flatten)           (None, 26912)             0         \n",
      "                                                                 \n",
      " dense (Dense)               (None, 64)                1722432   \n",
      "                                                                 \n",
      " dense_1 (Dense)             (None, 32)                2080      \n",
      "                                                                 \n",
      " dense_2 (Dense)             (None, 2)                 66        \n",
      "                                                                 \n",
      "=================================================================\n",
      "Total params: 1,739,234\n",
      "Trainable params: 1,739,074\n",
      "Non-trainable params: 160\n",
      "_________________________________________________________________\n"
     ]
    }
   ],
   "source": [
    "model=Sequential([\n",
    "    Input(shape=(Image_Width, Image_Height, Image_Channels)),\n",
    "    #con layer1\n",
    "    Conv2D(filters=16 ,kernel_size=(3,3), strides=(1,1), padding=\"valid\", activation=\"relu\"),#no.of kernels,k.size,strides,padding=same keeps input ouput same size valid means no padding\n",
    "    BatchNormalization(),\n",
    "    MaxPool2D(pool_size=(2,2)),\n",
    "    Dropout(0.2),\n",
    "    \n",
    "    #conv layer-2\n",
    "    Conv2D(filters=32, kernel_size=(3,3),activation=\"relu\"),\n",
    "    BatchNormalization(),\n",
    "    MaxPool2D(pool_size=(2,2)),\n",
    "    Dropout(0.2),\n",
    "    \n",
    "    \n",
    "    #conv layer-3\n",
    "    Conv2D(filters=32, kernel_size=(3,3),activation=\"relu\"),\n",
    "    BatchNormalization(),    \n",
    "    MaxPool2D(pool_size=(2,2)),\n",
    "    Dropout(0.2),\n",
    "    \n",
    "    #FLATTENNING\n",
    "    Flatten(),\n",
    "    \n",
    "    #NN\n",
    "    Dense(units=64,activation=\"relu\"),\n",
    "    Dense(units=32,activation=\"relu\"),\n",
    "    \n",
    "    \n",
    "    #output layer\n",
    "    Dense(units=2,activation=\"softmax\")\n",
    "    \n",
    "])\n",
    "model.summary()"
   ]
  },
  {
   "cell_type": "code",
   "execution_count": 18,
   "id": "2fe98ecd-30de-401b-8179-1bc0fd935557",
   "metadata": {},
   "outputs": [],
   "source": [
    "model.compile(loss=\"CategoricalCrossentropy\",optimizer=\"adam\",metrics=[\"accuracy\", Precision()])"
   ]
  },
  {
   "cell_type": "code",
   "execution_count": 19,
   "id": "233bb20d-e7e7-4b57-b598-f04ce74bd9ae",
   "metadata": {},
   "outputs": [
    {
     "name": "stdout",
     "output_type": "stream",
     "text": [
      "Epoch 1/29\n",
      "334/334 [==============================] - 56s 157ms/step - loss: 0.4861 - accuracy: 0.8130 - precision: 0.8130 - val_loss: 0.5681 - val_accuracy: 0.7150 - val_precision: 0.7150\n",
      "Epoch 2/29\n",
      "334/334 [==============================] - 52s 154ms/step - loss: 0.2483 - accuracy: 0.8978 - precision: 0.8978 - val_loss: 2.4640 - val_accuracy: 0.5114 - val_precision: 0.5114\n",
      "Epoch 3/29\n",
      "334/334 [==============================] - 51s 153ms/step - loss: 0.2100 - accuracy: 0.9156 - precision: 0.9156 - val_loss: 3.9065 - val_accuracy: 0.5939 - val_precision: 0.5939\n",
      "Epoch 4/29\n",
      "334/334 [==============================] - 52s 155ms/step - loss: 0.1981 - accuracy: 0.9182 - precision: 0.9182 - val_loss: 0.4871 - val_accuracy: 0.8088 - val_precision: 0.8088\n",
      "Epoch 5/29\n",
      "334/334 [==============================] - 51s 153ms/step - loss: 0.1679 - accuracy: 0.9309 - precision: 0.9309 - val_loss: 2.7479 - val_accuracy: 0.6268 - val_precision: 0.6268\n",
      "Epoch 6/29\n",
      "334/334 [==============================] - 52s 155ms/step - loss: 0.1570 - accuracy: 0.9359 - precision: 0.9359 - val_loss: 11.6238 - val_accuracy: 0.5167 - val_precision: 0.5167\n",
      "Epoch 7/29\n",
      "334/334 [==============================] - 51s 154ms/step - loss: 0.1635 - accuracy: 0.9339 - precision: 0.9339 - val_loss: 2.1473 - val_accuracy: 0.6641 - val_precision: 0.6641\n",
      "Epoch 8/29\n",
      "334/334 [==============================] - 51s 154ms/step - loss: 0.1456 - accuracy: 0.9416 - precision: 0.9416 - val_loss: 22.2458 - val_accuracy: 0.5010 - val_precision: 0.5010\n",
      "Epoch 9/29\n",
      "334/334 [==============================] - 51s 154ms/step - loss: 0.1572 - accuracy: 0.9392 - precision: 0.9392 - val_loss: 5.0917 - val_accuracy: 0.5013 - val_precision: 0.5013\n",
      "Epoch 10/29\n",
      "334/334 [==============================] - 52s 154ms/step - loss: 0.1044 - accuracy: 0.9597 - precision: 0.9597 - val_loss: 0.2083 - val_accuracy: 0.9228 - val_precision: 0.9228\n",
      "Epoch 11/29\n",
      "334/334 [==============================] - 52s 154ms/step - loss: 0.0954 - accuracy: 0.9629 - precision: 0.9629 - val_loss: 0.9913 - val_accuracy: 0.7251 - val_precision: 0.7251\n",
      "Epoch 12/29\n",
      "334/334 [==============================] - 52s 155ms/step - loss: 0.0832 - accuracy: 0.9680 - precision: 0.9680 - val_loss: 9.4327 - val_accuracy: 0.5557 - val_precision: 0.5557\n",
      "Epoch 13/29\n",
      "334/334 [==============================] - 51s 154ms/step - loss: 0.0958 - accuracy: 0.9648 - precision: 0.9648 - val_loss: 0.8257 - val_accuracy: 0.8130 - val_precision: 0.8130\n",
      "Epoch 14/29\n",
      "334/334 [==============================] - 52s 155ms/step - loss: 0.0800 - accuracy: 0.9716 - precision: 0.9716 - val_loss: 1.0699 - val_accuracy: 0.7043 - val_precision: 0.7043\n",
      "Epoch 15/29\n",
      "334/334 [==============================] - 52s 154ms/step - loss: 0.0516 - accuracy: 0.9810 - precision: 0.9810 - val_loss: 1.0423 - val_accuracy: 0.7981 - val_precision: 0.7981\n",
      "Epoch 16/29\n",
      "334/334 [==============================] - 52s 157ms/step - loss: 0.0474 - accuracy: 0.9826 - precision: 0.9826 - val_loss: 1.8681 - val_accuracy: 0.5487 - val_precision: 0.5487\n",
      "Epoch 17/29\n",
      "334/334 [==============================] - 52s 154ms/step - loss: 0.0851 - accuracy: 0.9705 - precision: 0.9705 - val_loss: 0.4401 - val_accuracy: 0.8545 - val_precision: 0.8545\n",
      "Epoch 18/29\n",
      "334/334 [==============================] - 52s 155ms/step - loss: 0.0406 - accuracy: 0.9864 - precision: 0.9864 - val_loss: 1.5347 - val_accuracy: 0.5976 - val_precision: 0.5976\n",
      "Epoch 19/29\n",
      "334/334 [==============================] - 51s 153ms/step - loss: 0.0275 - accuracy: 0.9902 - precision: 0.9902 - val_loss: 28.3155 - val_accuracy: 0.5044 - val_precision: 0.5044\n",
      "Epoch 20/29\n",
      "334/334 [==============================] - 52s 154ms/step - loss: 0.0423 - accuracy: 0.9861 - precision: 0.9861 - val_loss: 1.5196 - val_accuracy: 0.7040 - val_precision: 0.7040\n",
      "Epoch 21/29\n",
      "334/334 [==============================] - 51s 154ms/step - loss: 0.0301 - accuracy: 0.9902 - precision: 0.9902 - val_loss: 13.4688 - val_accuracy: 0.5201 - val_precision: 0.5201\n",
      "Epoch 22/29\n",
      "334/334 [==============================] - 52s 154ms/step - loss: 0.0329 - accuracy: 0.9895 - precision: 0.9895 - val_loss: 0.4396 - val_accuracy: 0.9127 - val_precision: 0.9127\n",
      "Epoch 23/29\n",
      "334/334 [==============================] - 52s 155ms/step - loss: 0.0258 - accuracy: 0.9920 - precision: 0.9920 - val_loss: 2.2319 - val_accuracy: 0.5417 - val_precision: 0.5417\n",
      "Epoch 24/29\n",
      "334/334 [==============================] - 52s 155ms/step - loss: 0.0289 - accuracy: 0.9905 - precision: 0.9905 - val_loss: 1.0047 - val_accuracy: 0.8045 - val_precision: 0.8045\n",
      "Epoch 25/29\n",
      "334/334 [==============================] - 52s 155ms/step - loss: 0.0176 - accuracy: 0.9947 - precision: 0.9947 - val_loss: 0.4385 - val_accuracy: 0.9180 - val_precision: 0.9180\n",
      "Epoch 26/29\n",
      "334/334 [==============================] - 53s 157ms/step - loss: 0.0200 - accuracy: 0.9934 - precision: 0.9934 - val_loss: 45.6900 - val_accuracy: 0.5015 - val_precision: 0.5015\n",
      "Epoch 27/29\n",
      "334/334 [==============================] - 52s 155ms/step - loss: 0.0210 - accuracy: 0.9921 - precision: 0.9921 - val_loss: 2.5652 - val_accuracy: 0.5981 - val_precision: 0.5981\n",
      "Epoch 28/29\n",
      "334/334 [==============================] - 52s 155ms/step - loss: 0.0303 - accuracy: 0.9908 - precision: 0.9908 - val_loss: 19.0777 - val_accuracy: 0.5052 - val_precision: 0.5052\n",
      "Epoch 29/29\n",
      "334/334 [==============================] - 51s 154ms/step - loss: 0.0254 - accuracy: 0.9909 - precision: 0.9909 - val_loss: 0.7430 - val_accuracy: 0.8613 - val_precision: 0.8613\n"
     ]
    }
   ],
   "source": [
    "history = model.fit(train_dataset, epochs=29, validation_data=test_dataset)"
   ]
  },
  {
   "cell_type": "code",
   "execution_count": 20,
   "id": "8dde1fd3-1494-415a-acc6-fef6698116e7",
   "metadata": {},
   "outputs": [
    {
     "name": "stdout",
     "output_type": "stream",
     "text": [
      "Saved model to disk\n"
     ]
    }
   ],
   "source": [
    "model.save(\"melanoma-classifier.h5\")\n",
    "print(\"Saved model to disk\")"
   ]
  },
  {
   "cell_type": "code",
   "execution_count": 21,
   "id": "f5ebba2a-5c12-4e1d-9291-769b616dbaf0",
   "metadata": {},
   "outputs": [],
   "source": [
    "validation_filenames = []\n",
    "validation_images = []\n",
    "validation_labels = []\n",
    "validation_path = './DermMel/valid/'\n",
    "\n",
    "read_image(path=validation_path, images=validation_images, labels=validation_labels, filenames=validation_filenames)"
   ]
  },
  {
   "cell_type": "markdown",
   "id": "8931d92a-d075-46cd-8c2d-af1967ec4865",
   "metadata": {},
   "source": [
    "### Validation Data"
   ]
  },
  {
   "cell_type": "code",
   "execution_count": 22,
   "id": "97941fd9-7fdc-42f6-b6c6-7270245ff19a",
   "metadata": {},
   "outputs": [
    {
     "data": {
      "text/html": [
       "<div>\n",
       "<style scoped>\n",
       "    .dataframe tbody tr th:only-of-type {\n",
       "        vertical-align: middle;\n",
       "    }\n",
       "\n",
       "    .dataframe tbody tr th {\n",
       "        vertical-align: top;\n",
       "    }\n",
       "\n",
       "    .dataframe thead th {\n",
       "        text-align: right;\n",
       "    }\n",
       "</style>\n",
       "<table border=\"1\" class=\"dataframe\">\n",
       "  <thead>\n",
       "    <tr style=\"text-align: right;\">\n",
       "      <th></th>\n",
       "      <th>filename</th>\n",
       "      <th>category</th>\n",
       "    </tr>\n",
       "  </thead>\n",
       "  <tbody>\n",
       "    <tr>\n",
       "      <th>0</th>\n",
       "      <td>Melanoma/AUGmented_0_1006.jpeg</td>\n",
       "      <td>Melanoma</td>\n",
       "    </tr>\n",
       "    <tr>\n",
       "      <th>1</th>\n",
       "      <td>Melanoma/AUGmented_0_1058.jpeg</td>\n",
       "      <td>Melanoma</td>\n",
       "    </tr>\n",
       "    <tr>\n",
       "      <th>2</th>\n",
       "      <td>Melanoma/AUGmented_0_110.jpeg</td>\n",
       "      <td>Melanoma</td>\n",
       "    </tr>\n",
       "    <tr>\n",
       "      <th>3</th>\n",
       "      <td>Melanoma/AUGmented_0_1108.jpeg</td>\n",
       "      <td>Melanoma</td>\n",
       "    </tr>\n",
       "    <tr>\n",
       "      <th>4</th>\n",
       "      <td>Melanoma/AUGmented_0_1140.jpeg</td>\n",
       "      <td>Melanoma</td>\n",
       "    </tr>\n",
       "    <tr>\n",
       "      <th>...</th>\n",
       "      <td>...</td>\n",
       "      <td>...</td>\n",
       "    </tr>\n",
       "    <tr>\n",
       "      <th>3557</th>\n",
       "      <td>NotMelanoma/ISIC_0034292.jpg</td>\n",
       "      <td>NotMelanoma</td>\n",
       "    </tr>\n",
       "    <tr>\n",
       "      <th>3558</th>\n",
       "      <td>NotMelanoma/ISIC_0034297.jpg</td>\n",
       "      <td>NotMelanoma</td>\n",
       "    </tr>\n",
       "    <tr>\n",
       "      <th>3559</th>\n",
       "      <td>NotMelanoma/ISIC_0034305.jpg</td>\n",
       "      <td>NotMelanoma</td>\n",
       "    </tr>\n",
       "    <tr>\n",
       "      <th>3560</th>\n",
       "      <td>NotMelanoma/ISIC_0034308.jpg</td>\n",
       "      <td>NotMelanoma</td>\n",
       "    </tr>\n",
       "    <tr>\n",
       "      <th>3561</th>\n",
       "      <td>NotMelanoma/ISIC_0034310.jpg</td>\n",
       "      <td>NotMelanoma</td>\n",
       "    </tr>\n",
       "  </tbody>\n",
       "</table>\n",
       "<p>3562 rows × 2 columns</p>\n",
       "</div>"
      ],
      "text/plain": [
       "                            filename     category\n",
       "0     Melanoma/AUGmented_0_1006.jpeg     Melanoma\n",
       "1     Melanoma/AUGmented_0_1058.jpeg     Melanoma\n",
       "2      Melanoma/AUGmented_0_110.jpeg     Melanoma\n",
       "3     Melanoma/AUGmented_0_1108.jpeg     Melanoma\n",
       "4     Melanoma/AUGmented_0_1140.jpeg     Melanoma\n",
       "...                              ...          ...\n",
       "3557    NotMelanoma/ISIC_0034292.jpg  NotMelanoma\n",
       "3558    NotMelanoma/ISIC_0034297.jpg  NotMelanoma\n",
       "3559    NotMelanoma/ISIC_0034305.jpg  NotMelanoma\n",
       "3560    NotMelanoma/ISIC_0034308.jpg  NotMelanoma\n",
       "3561    NotMelanoma/ISIC_0034310.jpg  NotMelanoma\n",
       "\n",
       "[3562 rows x 2 columns]"
      ]
     },
     "execution_count": 22,
     "metadata": {},
     "output_type": "execute_result"
    }
   ],
   "source": [
    "val_df = create_dataframe(filenames=validation_filenames, labels=validation_labels)\n",
    "val_df"
   ]
  },
  {
   "cell_type": "code",
   "execution_count": 23,
   "id": "2fe4926b-b001-453a-a1df-15a74913f95d",
   "metadata": {
    "tags": []
   },
   "outputs": [
    {
     "data": {
      "image/png": "[encoded data removed]",
      "text/plain": [
       "<Figure size 640x480 with 1 Axes>"
      ]
     },
     "metadata": {},
     "output_type": "display_data"
    }
   ],
   "source": [
    "draw_countplot(dataframe=val_df, y_axis='category', title='Validation Data')"
   ]
  },
  {
   "cell_type": "code",
   "execution_count": 24,
   "id": "621dacbb-3f4e-4cad-af85-8380552ff825",
   "metadata": {},
   "outputs": [
    {
     "name": "stdout",
     "output_type": "stream",
     "text": [
      "Found 3562 non-validated image filenames belonging to 2 classes.\n"
     ]
    }
   ],
   "source": [
    "val_datag=ImageDataGenerator(rescale=1./255)\n",
    "val_dataset=val_datag.flow_from_dataframe(dataframe=val_df,\n",
    "                                            directory=validation_path,\n",
    "                                            x_col=\"filename\",\n",
    "                                            y_col=\"category\",\n",
    "                                            target_size=Image_Size,\n",
    "                                            batch_size=32,\n",
    "                                            validate_filenames=False\n",
    "                                           )"
   ]
  },
  {
   "cell_type": "code",
   "execution_count": 25,
   "id": "95b218f8-6e75-4fbb-a178-cbc4c2b7a2cb",
   "metadata": {},
   "outputs": [
    {
     "name": "stdout",
     "output_type": "stream",
     "text": [
      "112/112 [==============================] - 14s 121ms/step\n"
     ]
    }
   ],
   "source": [
    "test_pred=model.predict(test_dataset)"
   ]
  },
  {
   "cell_type": "code",
   "execution_count": 26,
   "id": "786b0144-a644-4158-8a38-0d607197d89a",
   "metadata": {},
   "outputs": [],
   "source": [
    "test_df[\"predict\"]=np.argmax(test_pred,axis=1)"
   ]
  },
  {
   "cell_type": "code",
   "execution_count": 27,
   "id": "f9aa38ee-f548-4a79-9121-ac2cf4a84afa",
   "metadata": {},
   "outputs": [],
   "source": [
    "test_df[\"predict_c\"]=test_df[\"predict\"].map({0:\"NotMelanoma\",1:\"Melanoma\"})"
   ]
  },
  {
   "cell_type": "code",
   "execution_count": 28,
   "id": "515e04bd-f6a4-4bcf-ae5a-98ab923d4e3a",
   "metadata": {},
   "outputs": [
    {
     "data": {
      "text/html": [
       "<div>\n",
       "<style scoped>\n",
       "    .dataframe tbody tr th:only-of-type {\n",
       "        vertical-align: middle;\n",
       "    }\n",
       "\n",
       "    .dataframe tbody tr th {\n",
       "        vertical-align: top;\n",
       "    }\n",
       "\n",
       "    .dataframe thead th {\n",
       "        text-align: right;\n",
       "    }\n",
       "</style>\n",
       "<table border=\"1\" class=\"dataframe\">\n",
       "  <thead>\n",
       "    <tr style=\"text-align: right;\">\n",
       "      <th></th>\n",
       "      <th>filename</th>\n",
       "      <th>category</th>\n",
       "      <th>predict</th>\n",
       "      <th>predict_c</th>\n",
       "    </tr>\n",
       "  </thead>\n",
       "  <tbody>\n",
       "    <tr>\n",
       "      <th>0</th>\n",
       "      <td>Melanoma/AUGmented_0_1015.jpeg</td>\n",
       "      <td>Melanoma</td>\n",
       "      <td>1</td>\n",
       "      <td>Melanoma</td>\n",
       "    </tr>\n",
       "    <tr>\n",
       "      <th>1</th>\n",
       "      <td>Melanoma/AUGmented_0_1036.jpeg</td>\n",
       "      <td>Melanoma</td>\n",
       "      <td>1</td>\n",
       "      <td>Melanoma</td>\n",
       "    </tr>\n",
       "    <tr>\n",
       "      <th>2</th>\n",
       "      <td>Melanoma/AUGmented_0_1093.jpeg</td>\n",
       "      <td>Melanoma</td>\n",
       "      <td>1</td>\n",
       "      <td>Melanoma</td>\n",
       "    </tr>\n",
       "    <tr>\n",
       "      <th>3</th>\n",
       "      <td>Melanoma/AUGmented_0_1110.jpeg</td>\n",
       "      <td>Melanoma</td>\n",
       "      <td>0</td>\n",
       "      <td>NotMelanoma</td>\n",
       "    </tr>\n",
       "    <tr>\n",
       "      <th>4</th>\n",
       "      <td>Melanoma/AUGmented_0_1114.jpeg</td>\n",
       "      <td>Melanoma</td>\n",
       "      <td>1</td>\n",
       "      <td>Melanoma</td>\n",
       "    </tr>\n",
       "    <tr>\n",
       "      <th>...</th>\n",
       "      <td>...</td>\n",
       "      <td>...</td>\n",
       "      <td>...</td>\n",
       "      <td>...</td>\n",
       "    </tr>\n",
       "    <tr>\n",
       "      <th>3556</th>\n",
       "      <td>NotMelanoma/ISIC_0034257.jpg</td>\n",
       "      <td>NotMelanoma</td>\n",
       "      <td>1</td>\n",
       "      <td>Melanoma</td>\n",
       "    </tr>\n",
       "    <tr>\n",
       "      <th>3557</th>\n",
       "      <td>NotMelanoma/ISIC_0034260.jpg</td>\n",
       "      <td>NotMelanoma</td>\n",
       "      <td>1</td>\n",
       "      <td>Melanoma</td>\n",
       "    </tr>\n",
       "    <tr>\n",
       "      <th>3558</th>\n",
       "      <td>NotMelanoma/ISIC_0034278.jpg</td>\n",
       "      <td>NotMelanoma</td>\n",
       "      <td>1</td>\n",
       "      <td>Melanoma</td>\n",
       "    </tr>\n",
       "    <tr>\n",
       "      <th>3559</th>\n",
       "      <td>NotMelanoma/ISIC_0034309.jpg</td>\n",
       "      <td>NotMelanoma</td>\n",
       "      <td>0</td>\n",
       "      <td>NotMelanoma</td>\n",
       "    </tr>\n",
       "    <tr>\n",
       "      <th>3560</th>\n",
       "      <td>NotMelanoma/ISIC_0034311.jpg</td>\n",
       "      <td>NotMelanoma</td>\n",
       "      <td>1</td>\n",
       "      <td>Melanoma</td>\n",
       "    </tr>\n",
       "  </tbody>\n",
       "</table>\n",
       "<p>3561 rows × 4 columns</p>\n",
       "</div>"
      ],
      "text/plain": [
       "                            filename     category  predict    predict_c\n",
       "0     Melanoma/AUGmented_0_1015.jpeg     Melanoma        1     Melanoma\n",
       "1     Melanoma/AUGmented_0_1036.jpeg     Melanoma        1     Melanoma\n",
       "2     Melanoma/AUGmented_0_1093.jpeg     Melanoma        1     Melanoma\n",
       "3     Melanoma/AUGmented_0_1110.jpeg     Melanoma        0  NotMelanoma\n",
       "4     Melanoma/AUGmented_0_1114.jpeg     Melanoma        1     Melanoma\n",
       "...                              ...          ...      ...          ...\n",
       "3556    NotMelanoma/ISIC_0034257.jpg  NotMelanoma        1     Melanoma\n",
       "3557    NotMelanoma/ISIC_0034260.jpg  NotMelanoma        1     Melanoma\n",
       "3558    NotMelanoma/ISIC_0034278.jpg  NotMelanoma        1     Melanoma\n",
       "3559    NotMelanoma/ISIC_0034309.jpg  NotMelanoma        0  NotMelanoma\n",
       "3560    NotMelanoma/ISIC_0034311.jpg  NotMelanoma        1     Melanoma\n",
       "\n",
       "[3561 rows x 4 columns]"
      ]
     },
     "execution_count": 28,
     "metadata": {},
     "output_type": "execute_result"
    }
   ],
   "source": [
    "test_df"
   ]
  },
  {
   "cell_type": "code",
   "execution_count": 29,
   "id": "1a4600b7-af19-4967-92d7-e5af3762fa46",
   "metadata": {},
   "outputs": [
    {
     "data": {
      "image/png": "[encoded data removed]",
      "text/plain": [
       "<Figure size 640x480 with 1 Axes>"
      ]
     },
     "metadata": {},
     "output_type": "display_data"
    }
   ],
   "source": [
    "sns.countplot(data=test_df, x='category')\n",
    "plt.show()"
   ]
  },
  {
   "cell_type": "code",
   "execution_count": 30,
   "id": "4234496c-9168-4819-8ba2-536afee9a0a2",
   "metadata": {},
   "outputs": [
    {
     "data": {
      "image/png": "[encoded data removed]",
      "text/plain": [
       "<Figure size 640x480 with 1 Axes>"
      ]
     },
     "metadata": {},
     "output_type": "display_data"
    }
   ],
   "source": [
    "sns.countplot(data=test_df, x='predict_c')\n",
    "plt.show()"
   ]
  },
  {
   "cell_type": "code",
   "execution_count": 31,
   "id": "0b76dd37-7354-40af-b0e7-586c5281a5e4",
   "metadata": {},
   "outputs": [
    {
     "name": "stdout",
     "output_type": "stream",
     "text": [
      "112/112 [==============================] - 13s 116ms/step\n"
     ]
    }
   ],
   "source": [
    "val_pred=model.predict(val_dataset)"
   ]
  },
  {
   "cell_type": "code",
   "execution_count": 32,
   "id": "3060bbd5-cba0-4480-a368-4f0dfea424fd",
   "metadata": {},
   "outputs": [],
   "source": [
    "val_df[\"predict\"]=np.argmax(val_pred,axis=1)"
   ]
  },
  {
   "cell_type": "code",
   "execution_count": 33,
   "id": "bd34ae26-52ff-4170-936e-4a8f393fc8df",
   "metadata": {},
   "outputs": [],
   "source": [
    "val_df[\"predict_c\"]=val_df[\"predict\"].map({0:\"NotMelanoma\",1:\"Melanoma\"})"
   ]
  },
  {
   "cell_type": "code",
   "execution_count": 34,
   "id": "5861b124-a514-496c-8ba3-3f74205613c3",
   "metadata": {},
   "outputs": [
    {
     "data": {
      "text/html": [
       "<div>\n",
       "<style scoped>\n",
       "    .dataframe tbody tr th:only-of-type {\n",
       "        vertical-align: middle;\n",
       "    }\n",
       "\n",
       "    .dataframe tbody tr th {\n",
       "        vertical-align: top;\n",
       "    }\n",
       "\n",
       "    .dataframe thead th {\n",
       "        text-align: right;\n",
       "    }\n",
       "</style>\n",
       "<table border=\"1\" class=\"dataframe\">\n",
       "  <thead>\n",
       "    <tr style=\"text-align: right;\">\n",
       "      <th></th>\n",
       "      <th>filename</th>\n",
       "      <th>category</th>\n",
       "      <th>predict</th>\n",
       "      <th>predict_c</th>\n",
       "    </tr>\n",
       "  </thead>\n",
       "  <tbody>\n",
       "    <tr>\n",
       "      <th>0</th>\n",
       "      <td>Melanoma/AUGmented_0_1006.jpeg</td>\n",
       "      <td>Melanoma</td>\n",
       "      <td>1</td>\n",
       "      <td>Melanoma</td>\n",
       "    </tr>\n",
       "    <tr>\n",
       "      <th>1</th>\n",
       "      <td>Melanoma/AUGmented_0_1058.jpeg</td>\n",
       "      <td>Melanoma</td>\n",
       "      <td>0</td>\n",
       "      <td>NotMelanoma</td>\n",
       "    </tr>\n",
       "    <tr>\n",
       "      <th>2</th>\n",
       "      <td>Melanoma/AUGmented_0_110.jpeg</td>\n",
       "      <td>Melanoma</td>\n",
       "      <td>0</td>\n",
       "      <td>NotMelanoma</td>\n",
       "    </tr>\n",
       "    <tr>\n",
       "      <th>3</th>\n",
       "      <td>Melanoma/AUGmented_0_1108.jpeg</td>\n",
       "      <td>Melanoma</td>\n",
       "      <td>0</td>\n",
       "      <td>NotMelanoma</td>\n",
       "    </tr>\n",
       "    <tr>\n",
       "      <th>4</th>\n",
       "      <td>Melanoma/AUGmented_0_1140.jpeg</td>\n",
       "      <td>Melanoma</td>\n",
       "      <td>1</td>\n",
       "      <td>Melanoma</td>\n",
       "    </tr>\n",
       "    <tr>\n",
       "      <th>...</th>\n",
       "      <td>...</td>\n",
       "      <td>...</td>\n",
       "      <td>...</td>\n",
       "      <td>...</td>\n",
       "    </tr>\n",
       "    <tr>\n",
       "      <th>3557</th>\n",
       "      <td>NotMelanoma/ISIC_0034292.jpg</td>\n",
       "      <td>NotMelanoma</td>\n",
       "      <td>1</td>\n",
       "      <td>Melanoma</td>\n",
       "    </tr>\n",
       "    <tr>\n",
       "      <th>3558</th>\n",
       "      <td>NotMelanoma/ISIC_0034297.jpg</td>\n",
       "      <td>NotMelanoma</td>\n",
       "      <td>1</td>\n",
       "      <td>Melanoma</td>\n",
       "    </tr>\n",
       "    <tr>\n",
       "      <th>3559</th>\n",
       "      <td>NotMelanoma/ISIC_0034305.jpg</td>\n",
       "      <td>NotMelanoma</td>\n",
       "      <td>0</td>\n",
       "      <td>NotMelanoma</td>\n",
       "    </tr>\n",
       "    <tr>\n",
       "      <th>3560</th>\n",
       "      <td>NotMelanoma/ISIC_0034308.jpg</td>\n",
       "      <td>NotMelanoma</td>\n",
       "      <td>1</td>\n",
       "      <td>Melanoma</td>\n",
       "    </tr>\n",
       "    <tr>\n",
       "      <th>3561</th>\n",
       "      <td>NotMelanoma/ISIC_0034310.jpg</td>\n",
       "      <td>NotMelanoma</td>\n",
       "      <td>0</td>\n",
       "      <td>NotMelanoma</td>\n",
       "    </tr>\n",
       "  </tbody>\n",
       "</table>\n",
       "<p>3562 rows × 4 columns</p>\n",
       "</div>"
      ],
      "text/plain": [
       "                            filename     category  predict    predict_c\n",
       "0     Melanoma/AUGmented_0_1006.jpeg     Melanoma        1     Melanoma\n",
       "1     Melanoma/AUGmented_0_1058.jpeg     Melanoma        0  NotMelanoma\n",
       "2      Melanoma/AUGmented_0_110.jpeg     Melanoma        0  NotMelanoma\n",
       "3     Melanoma/AUGmented_0_1108.jpeg     Melanoma        0  NotMelanoma\n",
       "4     Melanoma/AUGmented_0_1140.jpeg     Melanoma        1     Melanoma\n",
       "...                              ...          ...      ...          ...\n",
       "3557    NotMelanoma/ISIC_0034292.jpg  NotMelanoma        1     Melanoma\n",
       "3558    NotMelanoma/ISIC_0034297.jpg  NotMelanoma        1     Melanoma\n",
       "3559    NotMelanoma/ISIC_0034305.jpg  NotMelanoma        0  NotMelanoma\n",
       "3560    NotMelanoma/ISIC_0034308.jpg  NotMelanoma        1     Melanoma\n",
       "3561    NotMelanoma/ISIC_0034310.jpg  NotMelanoma        0  NotMelanoma\n",
       "\n",
       "[3562 rows x 4 columns]"
      ]
     },
     "execution_count": 34,
     "metadata": {},
     "output_type": "execute_result"
    }
   ],
   "source": [
    "val_df"
   ]
  },
  {
   "cell_type": "code",
   "execution_count": 35,
   "id": "71dd8773-84ef-4a4f-b228-76df0c2f2592",
   "metadata": {},
   "outputs": [
    {
     "data": {
      "image/png": "[encoded data removed]",
      "text/plain": [
       "<Figure size 640x480 with 1 Axes>"
      ]
     },
     "metadata": {},
     "output_type": "display_data"
    }
   ],
   "source": [
    "sns.countplot(data=val_df, x='category')\n",
    "plt.show()"
   ]
  },
  {
   "cell_type": "code",
   "execution_count": 36,
   "id": "8c92d235-e98b-4e32-9f84-52f67491cd42",
   "metadata": {},
   "outputs": [
    {
     "data": {
      "image/png": "[encoded data removed]",
      "text/plain": [
       "<Figure size 640x480 with 1 Axes>"
      ]
     },
     "metadata": {},
     "output_type": "display_data"
    }
   ],
   "source": [
    "sns.countplot(data=val_df, x='predict_c')\n",
    "plt.show()"
   ]
  },
  {
   "cell_type": "code",
   "execution_count": 37,
   "id": "675cecec-5afe-4890-9aff-4822090f7c31",
   "metadata": {},
   "outputs": [
    {
     "data": {
      "text/plain": [
       "Melanoma       2118\n",
       "NotMelanoma    1444\n",
       "Name: predict_c, dtype: int64"
      ]
     },
     "execution_count": 37,
     "metadata": {},
     "output_type": "execute_result"
    }
   ],
   "source": [
    "val_df['predict_c'].value_counts()"
   ]
  },
  {
   "cell_type": "code",
   "execution_count": null,
   "id": "0853ecd2-a658-434a-967f-e33cd71aa036",
   "metadata": {},
   "outputs": [],
   "source": []
  },
  {
   "cell_type": "code",
   "execution_count": 38,
   "id": "b096251e-345a-430c-ac6c-fd4b36cbfde4",
   "metadata": {},
   "outputs": [
    {
     "data": {
      "image/png": "[encoded data removed]",
      "text/plain": [
       "<Figure size 640x480 with 1 Axes>"
      ]
     },
     "metadata": {},
     "output_type": "display_data"
    }
   ],
   "source": [
    "img = plt.imread('./DermMel/valid/Melanoma/AUGmented_0_1058.jpeg')\n",
    "plt.imshow(img)\n",
    "plt.show()"
   ]
  },
  {
   "cell_type": "code",
   "execution_count": 39,
   "id": "6bfa0e67-53a7-4afe-8d22-1460c8230d81",
   "metadata": {},
   "outputs": [
    {
     "ename": "ValueError",
     "evalue": "cannot reshape array of size 62500 into shape (250,250,3)",
     "output_type": "error",
     "traceback": [
      "\u001b[1;31m---------------------------------------------------------------------------\u001b[0m",
      "\u001b[1;31mValueError\u001b[0m                                Traceback (most recent call last)",
      "Cell \u001b[1;32mIn[42], line 2\u001b[0m\n\u001b[0;32m      1\u001b[0m img \u001b[38;5;241m=\u001b[39m np\u001b[38;5;241m.\u001b[39mresize(a\u001b[38;5;241m=\u001b[39mimg, new_shape\u001b[38;5;241m=\u001b[39m(Image_Width, Image_Height))\n\u001b[1;32m----> 2\u001b[0m img \u001b[38;5;241m=\u001b[39m \u001b[43mnp\u001b[49m\u001b[38;5;241;43m.\u001b[39;49m\u001b[43mreshape\u001b[49m\u001b[43m(\u001b[49m\u001b[43ma\u001b[49m\u001b[38;5;241;43m=\u001b[39;49m\u001b[43mimg\u001b[49m\u001b[43m,\u001b[49m\u001b[43m \u001b[49m\u001b[43mnewshape\u001b[49m\u001b[38;5;241;43m=\u001b[39;49m\u001b[43m[\u001b[49m\u001b[43mImage_Height\u001b[49m\u001b[43m,\u001b[49m\u001b[43m \u001b[49m\u001b[43mImage_Width\u001b[49m\u001b[43m,\u001b[49m\u001b[43m \u001b[49m\u001b[43mImage_Channels\u001b[49m\u001b[43m]\u001b[49m\u001b[43m)\u001b[49m\n",
      "File \u001b[1;32m<__array_function__ internals>:200\u001b[0m, in \u001b[0;36mreshape\u001b[1;34m(*args, **kwargs)\u001b[0m\n",
      "File \u001b[1;32m~\\AppData\\Roaming\\Python\\Python39\\site-packages\\numpy\\core\\fromnumeric.py:298\u001b[0m, in \u001b[0;36mreshape\u001b[1;34m(a, newshape, order)\u001b[0m\n\u001b[0;32m    198\u001b[0m \u001b[38;5;129m@array_function_dispatch\u001b[39m(_reshape_dispatcher)\n\u001b[0;32m    199\u001b[0m \u001b[38;5;28;01mdef\u001b[39;00m \u001b[38;5;21mreshape\u001b[39m(a, newshape, order\u001b[38;5;241m=\u001b[39m\u001b[38;5;124m'\u001b[39m\u001b[38;5;124mC\u001b[39m\u001b[38;5;124m'\u001b[39m):\n\u001b[0;32m    200\u001b[0m \u001b[38;5;250m    \u001b[39m\u001b[38;5;124;03m\"\"\"\u001b[39;00m\n\u001b[0;32m    201\u001b[0m \u001b[38;5;124;03m    Gives a new shape to an array without changing its data.\u001b[39;00m\n\u001b[0;32m    202\u001b[0m \n\u001b[1;32m   (...)\u001b[0m\n\u001b[0;32m    296\u001b[0m \u001b[38;5;124;03m           [5, 6]])\u001b[39;00m\n\u001b[0;32m    297\u001b[0m \u001b[38;5;124;03m    \"\"\"\u001b[39;00m\n\u001b[1;32m--> 298\u001b[0m     \u001b[38;5;28;01mreturn\u001b[39;00m \u001b[43m_wrapfunc\u001b[49m\u001b[43m(\u001b[49m\u001b[43ma\u001b[49m\u001b[43m,\u001b[49m\u001b[43m \u001b[49m\u001b[38;5;124;43m'\u001b[39;49m\u001b[38;5;124;43mreshape\u001b[39;49m\u001b[38;5;124;43m'\u001b[39;49m\u001b[43m,\u001b[49m\u001b[43m \u001b[49m\u001b[43mnewshape\u001b[49m\u001b[43m,\u001b[49m\u001b[43m \u001b[49m\u001b[43morder\u001b[49m\u001b[38;5;241;43m=\u001b[39;49m\u001b[43morder\u001b[49m\u001b[43m)\u001b[49m\n",
      "File \u001b[1;32m~\\AppData\\Roaming\\Python\\Python39\\site-packages\\numpy\\core\\fromnumeric.py:57\u001b[0m, in \u001b[0;36m_wrapfunc\u001b[1;34m(obj, method, *args, **kwds)\u001b[0m\n\u001b[0;32m     54\u001b[0m     \u001b[38;5;28;01mreturn\u001b[39;00m _wrapit(obj, method, \u001b[38;5;241m*\u001b[39margs, \u001b[38;5;241m*\u001b[39m\u001b[38;5;241m*\u001b[39mkwds)\n\u001b[0;32m     56\u001b[0m \u001b[38;5;28;01mtry\u001b[39;00m:\n\u001b[1;32m---> 57\u001b[0m     \u001b[38;5;28;01mreturn\u001b[39;00m bound(\u001b[38;5;241m*\u001b[39margs, \u001b[38;5;241m*\u001b[39m\u001b[38;5;241m*\u001b[39mkwds)\n\u001b[0;32m     58\u001b[0m \u001b[38;5;28;01mexcept\u001b[39;00m \u001b[38;5;167;01mTypeError\u001b[39;00m:\n\u001b[0;32m     59\u001b[0m     \u001b[38;5;66;03m# A TypeError occurs if the object does have such a method in its\u001b[39;00m\n\u001b[0;32m     60\u001b[0m     \u001b[38;5;66;03m# class, but its signature is not identical to that of NumPy's. This\u001b[39;00m\n\u001b[1;32m   (...)\u001b[0m\n\u001b[0;32m     64\u001b[0m     \u001b[38;5;66;03m# Call _wrapit from within the except clause to ensure a potential\u001b[39;00m\n\u001b[0;32m     65\u001b[0m     \u001b[38;5;66;03m# exception has a traceback chain.\u001b[39;00m\n\u001b[0;32m     66\u001b[0m     \u001b[38;5;28;01mreturn\u001b[39;00m _wrapit(obj, method, \u001b[38;5;241m*\u001b[39margs, \u001b[38;5;241m*\u001b[39m\u001b[38;5;241m*\u001b[39mkwds)\n",
      "\u001b[1;31mValueError\u001b[0m: cannot reshape array of size 62500 into shape (250,250,3)"
     ]
    }
   ],
   "source": [
    "img = np.resize(a=img, new_shape=(Image_Width, Image_Height))\n",
    "img = np.reshape(a=img, newshape=[Image_Height, Image_Width, Imag])"
   ]
  },
  {
   "cell_type": "code",
   "execution_count": 40,
   "id": "79fda8a5-2f26-4ae8-b4ba-7e91cb2b2e7d",
   "metadata": {},
   "outputs": [],
   "source": [
    "read_model = load_model(\"./melanoma-classifier.h5\", compile=False)"
   ]
  },
  {
   "cell_type": "code",
   "execution_count": null,
   "id": "1c77e7ae-f2c1-406e-a3b6-0a3c71fa1e4d",
   "metadata": {},
   "outputs": [],
   "source": []
  },
  {
   "cell_type": "code",
   "execution_count": null,
   "id": "91d8faaf-725f-49dc-81c3-c013acd9b1de",
   "metadata": {},
   "outputs": [],
   "source": []
  },
  {
   "cell_type": "code",
   "execution_count": 43,
   "id": "291f9aff-ce37-4ae1-8c83-5982a61c74b7",
   "metadata": {},
   "outputs": [
    {
     "name": "stdout",
     "output_type": "stream",
     "text": [
      "WARNING:tensorflow:Model was constructed with shape (None, 250, 250, 3) for input KerasTensor(type_spec=TensorSpec(shape=(None, 250, 250, 3), dtype=tf.float32, name='input_1'), name='input_1', description=\"created by layer 'input_1'\"), but it was called on an input with incompatible shape (None, 250).\n"
     ]
    },
    {
     "ename": "ValueError",
     "evalue": "in user code:\n\n    File \"C:\\Users\\Sam Nijin\\AppData\\Roaming\\Python\\Python39\\site-packages\\keras\\engine\\training.py\", line 2041, in predict_function  *\n        return step_function(self, iterator)\n    File \"C:\\Users\\Sam Nijin\\AppData\\Roaming\\Python\\Python39\\site-packages\\keras\\engine\\training.py\", line 2027, in step_function  **\n        outputs = model.distribute_strategy.run(run_step, args=(data,))\n    File \"C:\\Users\\Sam Nijin\\AppData\\Roaming\\Python\\Python39\\site-packages\\keras\\engine\\training.py\", line 2015, in run_step  **\n        outputs = model.predict_step(data)\n    File \"C:\\Users\\Sam Nijin\\AppData\\Roaming\\Python\\Python39\\site-packages\\keras\\engine\\training.py\", line 1983, in predict_step\n        return self(x, training=False)\n    File \"C:\\Users\\Sam Nijin\\AppData\\Roaming\\Python\\Python39\\site-packages\\keras\\utils\\traceback_utils.py\", line 70, in error_handler\n        raise e.with_traceback(filtered_tb) from None\n    File \"C:\\Users\\Sam Nijin\\AppData\\Roaming\\Python\\Python39\\site-packages\\keras\\engine\\input_spec.py\", line 250, in assert_input_compatibility\n        raise ValueError(\n\n    ValueError: Exception encountered when calling layer \"sequential\" \"                 f\"(type Sequential).\n    \n    Input 0 of layer \"conv2d\" is incompatible with the layer: expected min_ndim=4, found ndim=2. Full shape received: (None, 250)\n    \n    Call arguments received by layer \"sequential\" \"                 f\"(type Sequential):\n      • inputs=tf.Tensor(shape=(None, 250), dtype=uint8)\n      • training=False\n      • mask=None\n",
     "output_type": "error",
     "traceback": [
      "\u001b[1;31m---------------------------------------------------------------------------\u001b[0m",
      "\u001b[1;31mValueError\u001b[0m                                Traceback (most recent call last)",
      "Cell \u001b[1;32mIn[43], line 1\u001b[0m\n\u001b[1;32m----> 1\u001b[0m op \u001b[38;5;241m=\u001b[39m \u001b[43mread_model\u001b[49m\u001b[38;5;241;43m.\u001b[39;49m\u001b[43mpredict\u001b[49m\u001b[43m(\u001b[49m\u001b[43mimg\u001b[49m\u001b[43m)\u001b[49m\n",
      "File \u001b[1;32m~\\AppData\\Roaming\\Python\\Python39\\site-packages\\keras\\utils\\traceback_utils.py:70\u001b[0m, in \u001b[0;36mfilter_traceback.<locals>.error_handler\u001b[1;34m(*args, **kwargs)\u001b[0m\n\u001b[0;32m     67\u001b[0m     filtered_tb \u001b[38;5;241m=\u001b[39m _process_traceback_frames(e\u001b[38;5;241m.\u001b[39m__traceback__)\n\u001b[0;32m     68\u001b[0m     \u001b[38;5;66;03m# To get the full stack trace, call:\u001b[39;00m\n\u001b[0;32m     69\u001b[0m     \u001b[38;5;66;03m# `tf.debugging.disable_traceback_filtering()`\u001b[39;00m\n\u001b[1;32m---> 70\u001b[0m     \u001b[38;5;28;01mraise\u001b[39;00m e\u001b[38;5;241m.\u001b[39mwith_traceback(filtered_tb) \u001b[38;5;28;01mfrom\u001b[39;00m \u001b[38;5;28mNone\u001b[39m\n\u001b[0;32m     71\u001b[0m \u001b[38;5;28;01mfinally\u001b[39;00m:\n\u001b[0;32m     72\u001b[0m     \u001b[38;5;28;01mdel\u001b[39;00m filtered_tb\n",
      "File \u001b[1;32mC:\\Users\\SAMNIJ~1\\AppData\\Local\\Temp\\__autograph_generated_filefamm3qxd.py:15\u001b[0m, in \u001b[0;36mouter_factory.<locals>.inner_factory.<locals>.tf__predict_function\u001b[1;34m(iterator)\u001b[0m\n\u001b[0;32m     13\u001b[0m \u001b[38;5;28;01mtry\u001b[39;00m:\n\u001b[0;32m     14\u001b[0m     do_return \u001b[38;5;241m=\u001b[39m \u001b[38;5;28;01mTrue\u001b[39;00m\n\u001b[1;32m---> 15\u001b[0m     retval_ \u001b[38;5;241m=\u001b[39m ag__\u001b[38;5;241m.\u001b[39mconverted_call(ag__\u001b[38;5;241m.\u001b[39mld(step_function), (ag__\u001b[38;5;241m.\u001b[39mld(\u001b[38;5;28mself\u001b[39m), ag__\u001b[38;5;241m.\u001b[39mld(iterator)), \u001b[38;5;28;01mNone\u001b[39;00m, fscope)\n\u001b[0;32m     16\u001b[0m \u001b[38;5;28;01mexcept\u001b[39;00m:\n\u001b[0;32m     17\u001b[0m     do_return \u001b[38;5;241m=\u001b[39m \u001b[38;5;28;01mFalse\u001b[39;00m\n",
      "\u001b[1;31mValueError\u001b[0m: in user code:\n\n    File \"C:\\Users\\Sam Nijin\\AppData\\Roaming\\Python\\Python39\\site-packages\\keras\\engine\\training.py\", line 2041, in predict_function  *\n        return step_function(self, iterator)\n    File \"C:\\Users\\Sam Nijin\\AppData\\Roaming\\Python\\Python39\\site-packages\\keras\\engine\\training.py\", line 2027, in step_function  **\n        outputs = model.distribute_strategy.run(run_step, args=(data,))\n    File \"C:\\Users\\Sam Nijin\\AppData\\Roaming\\Python\\Python39\\site-packages\\keras\\engine\\training.py\", line 2015, in run_step  **\n        outputs = model.predict_step(data)\n    File \"C:\\Users\\Sam Nijin\\AppData\\Roaming\\Python\\Python39\\site-packages\\keras\\engine\\training.py\", line 1983, in predict_step\n        return self(x, training=False)\n    File \"C:\\Users\\Sam Nijin\\AppData\\Roaming\\Python\\Python39\\site-packages\\keras\\utils\\traceback_utils.py\", line 70, in error_handler\n        raise e.with_traceback(filtered_tb) from None\n    File \"C:\\Users\\Sam Nijin\\AppData\\Roaming\\Python\\Python39\\site-packages\\keras\\engine\\input_spec.py\", line 250, in assert_input_compatibility\n        raise ValueError(\n\n    ValueError: Exception encountered when calling layer \"sequential\" \"                 f\"(type Sequential).\n    \n    Input 0 of layer \"conv2d\" is incompatible with the layer: expected min_ndim=4, found ndim=2. Full shape received: (None, 250)\n    \n    Call arguments received by layer \"sequential\" \"                 f\"(type Sequential):\n      • inputs=tf.Tensor(shape=(None, 250), dtype=uint8)\n      • training=False\n      • mask=None\n"
     ]
    }
   ],
   "source": [
    "op = read_model.predict(img)"
   ]
  },
  {
   "cell_type": "code",
   "execution_count": null,
   "id": "1086491f-1be5-41bd-9492-35e42b640141",
   "metadata": {},
   "outputs": [],
   "source": [
    "np.argmax(img)"
   ]
  },
  {
   "cell_type": "code",
   "execution_count": null,
   "id": "ecb63093-6f62-46ee-a5bc-f8c1c44b901e",
   "metadata": {},
   "outputs": [],
   "source": [
    "model.predict(np.argmax(img , axis=1))"
   ]
  }
 ],
 "metadata": {
  "kernelspec": {
   "display_name": "Python 3 (ipykernel)",
   "language": "python",
   "name": "python3"
  },
  "language_info": {
   "codemirror_mode": {
    "name": "ipython",
    "version": 3
   },
   "file_extension": ".py",
   "mimetype": "text/x-python",
   "name": "python",
   "nbconvert_exporter": "python",
   "pygments_lexer": "ipython3",
   "version": "3.9.13"
  }
 },
 "nbformat": 4,
 "nbformat_minor": 5
}
